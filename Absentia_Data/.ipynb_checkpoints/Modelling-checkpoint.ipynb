{
 "cells": [
  {
   "cell_type": "code",
   "execution_count": 2,
   "metadata": {},
   "outputs": [],
   "source": [
    "import numpy as np\n",
    "import pandas as pd\n",
    "import pickle\n",
    "from sklearn.preprocessing import StandardScaler\n",
    "from sklearn.linear_model import LogisticRegression\n",
    "from sklearn.base import BaseEstimator, TransformerMixin"
   ]
  },
  {
   "cell_type": "code",
   "execution_count": 3,
   "metadata": {},
   "outputs": [],
   "source": [
    "data = pd.read_csv('my_preprocessed_data.csv')"
   ]
  },
  {
   "cell_type": "code",
   "execution_count": 4,
   "metadata": {},
   "outputs": [
    {
     "data": {
      "text/html": [
       "<div>\n",
       "<style scoped>\n",
       "    .dataframe tbody tr th:only-of-type {\n",
       "        vertical-align: middle;\n",
       "    }\n",
       "\n",
       "    .dataframe tbody tr th {\n",
       "        vertical-align: top;\n",
       "    }\n",
       "\n",
       "    .dataframe thead th {\n",
       "        text-align: right;\n",
       "    }\n",
       "</style>\n",
       "<table border=\"1\" class=\"dataframe\">\n",
       "  <thead>\n",
       "    <tr style=\"text-align: right;\">\n",
       "      <th></th>\n",
       "      <th>Absenteeism Time in Hours</th>\n",
       "      <th>Transportation Expense</th>\n",
       "      <th>Distance to Work</th>\n",
       "      <th>Age</th>\n",
       "      <th>Daily Work Load Average</th>\n",
       "      <th>Body Mass Index</th>\n",
       "      <th>Education</th>\n",
       "      <th>Children</th>\n",
       "      <th>Pets</th>\n",
       "      <th>Reason_1</th>\n",
       "      <th>Reason_2</th>\n",
       "      <th>Reason_3</th>\n",
       "      <th>Reason_4</th>\n",
       "      <th>Day</th>\n",
       "      <th>Month</th>\n",
       "    </tr>\n",
       "  </thead>\n",
       "  <tbody>\n",
       "    <tr>\n",
       "      <th>0</th>\n",
       "      <td>4</td>\n",
       "      <td>289</td>\n",
       "      <td>36</td>\n",
       "      <td>33</td>\n",
       "      <td>239.554</td>\n",
       "      <td>30</td>\n",
       "      <td>1</td>\n",
       "      <td>2</td>\n",
       "      <td>1</td>\n",
       "      <td>0</td>\n",
       "      <td>0</td>\n",
       "      <td>0</td>\n",
       "      <td>1</td>\n",
       "      <td>7</td>\n",
       "      <td>7</td>\n",
       "    </tr>\n",
       "    <tr>\n",
       "      <th>1</th>\n",
       "      <td>0</td>\n",
       "      <td>118</td>\n",
       "      <td>13</td>\n",
       "      <td>50</td>\n",
       "      <td>239.554</td>\n",
       "      <td>31</td>\n",
       "      <td>1</td>\n",
       "      <td>1</td>\n",
       "      <td>0</td>\n",
       "      <td>0</td>\n",
       "      <td>0</td>\n",
       "      <td>0</td>\n",
       "      <td>0</td>\n",
       "      <td>14</td>\n",
       "      <td>7</td>\n",
       "    </tr>\n",
       "    <tr>\n",
       "      <th>2</th>\n",
       "      <td>2</td>\n",
       "      <td>179</td>\n",
       "      <td>51</td>\n",
       "      <td>38</td>\n",
       "      <td>239.554</td>\n",
       "      <td>31</td>\n",
       "      <td>1</td>\n",
       "      <td>0</td>\n",
       "      <td>0</td>\n",
       "      <td>0</td>\n",
       "      <td>0</td>\n",
       "      <td>0</td>\n",
       "      <td>1</td>\n",
       "      <td>15</td>\n",
       "      <td>7</td>\n",
       "    </tr>\n",
       "    <tr>\n",
       "      <th>3</th>\n",
       "      <td>4</td>\n",
       "      <td>279</td>\n",
       "      <td>5</td>\n",
       "      <td>39</td>\n",
       "      <td>239.554</td>\n",
       "      <td>24</td>\n",
       "      <td>1</td>\n",
       "      <td>2</td>\n",
       "      <td>0</td>\n",
       "      <td>1</td>\n",
       "      <td>0</td>\n",
       "      <td>0</td>\n",
       "      <td>0</td>\n",
       "      <td>16</td>\n",
       "      <td>7</td>\n",
       "    </tr>\n",
       "    <tr>\n",
       "      <th>4</th>\n",
       "      <td>2</td>\n",
       "      <td>289</td>\n",
       "      <td>36</td>\n",
       "      <td>33</td>\n",
       "      <td>239.554</td>\n",
       "      <td>30</td>\n",
       "      <td>1</td>\n",
       "      <td>2</td>\n",
       "      <td>1</td>\n",
       "      <td>0</td>\n",
       "      <td>0</td>\n",
       "      <td>0</td>\n",
       "      <td>1</td>\n",
       "      <td>23</td>\n",
       "      <td>7</td>\n",
       "    </tr>\n",
       "  </tbody>\n",
       "</table>\n",
       "</div>"
      ],
      "text/plain": [
       "   Absenteeism Time in Hours  Transportation Expense  Distance to Work  Age  \\\n",
       "0                          4                     289                36   33   \n",
       "1                          0                     118                13   50   \n",
       "2                          2                     179                51   38   \n",
       "3                          4                     279                 5   39   \n",
       "4                          2                     289                36   33   \n",
       "\n",
       "   Daily Work Load Average  Body Mass Index  Education  Children  Pets  \\\n",
       "0                  239.554               30          1         2     1   \n",
       "1                  239.554               31          1         1     0   \n",
       "2                  239.554               31          1         0     0   \n",
       "3                  239.554               24          1         2     0   \n",
       "4                  239.554               30          1         2     1   \n",
       "\n",
       "   Reason_1  Reason_2  Reason_3  Reason_4  Day  Month  \n",
       "0         0         0         0         1    7      7  \n",
       "1         0         0         0         0   14      7  \n",
       "2         0         0         0         1   15      7  \n",
       "3         1         0         0         0   16      7  \n",
       "4         0         0         0         1   23      7  "
      ]
     },
     "execution_count": 4,
     "metadata": {},
     "output_type": "execute_result"
    }
   ],
   "source": [
    "data.head()"
   ]
  },
  {
   "cell_type": "code",
   "execution_count": 5,
   "metadata": {},
   "outputs": [],
   "source": [
    "input_data = data.iloc[:,1:]"
   ]
  },
  {
   "cell_type": "code",
   "execution_count": 6,
   "metadata": {},
   "outputs": [],
   "source": [
    "all_cols = input_data.columns.values"
   ]
  },
  {
   "cell_type": "code",
   "execution_count": 7,
   "metadata": {},
   "outputs": [],
   "source": [
    "cols_to_remove = ['Day','Month','Daily Work Load Average','Education']"
   ]
  },
  {
   "cell_type": "code",
   "execution_count": 40,
   "metadata": {},
   "outputs": [],
   "source": [
    "to_include_col = [ i for i in all_cols if i not in cols_to_remove]"
   ]
  },
  {
   "cell_type": "code",
   "execution_count": 9,
   "metadata": {},
   "outputs": [],
   "source": [
    "input_data = data[to_include_col]"
   ]
  },
  {
   "cell_type": "code",
   "execution_count": 10,
   "metadata": {},
   "outputs": [],
   "source": [
    "columns_to_omit = ['Reason_1', 'Reason_2', 'Reason_3', 'Reason_4','Education']"
   ]
  },
  {
   "cell_type": "code",
   "execution_count": 11,
   "metadata": {},
   "outputs": [],
   "source": [
    "columns_to_scale = [x for x in input_data.columns.values if x not in columns_to_omit]"
   ]
  },
  {
   "cell_type": "code",
   "execution_count": 12,
   "metadata": {},
   "outputs": [],
   "source": [
    "target_data = data.iloc[:,0]"
   ]
  },
  {
   "cell_type": "code",
   "execution_count": 13,
   "metadata": {},
   "outputs": [],
   "source": [
    "# so you can imagine that the Custom Scaler is build on it\n",
    "\n",
    "\n",
    "\n",
    "# create the Custom Scaler class\n",
    "\n",
    "class CustomScaler(BaseEstimator,TransformerMixin): \n",
    "    \n",
    "    # init or what information we need to declare a CustomScaler object\n",
    "    # and what is calculated/declared as we do\n",
    "    \n",
    "    def __init__(self,columns,copy=True,with_mean=True,with_std=True):\n",
    "        \n",
    "        # scaler is nothing but a Standard Scaler object\n",
    "        self.scaler = StandardScaler(copy,with_mean,with_std)\n",
    "        # with some columns 'twist'\n",
    "        self.columns = columns\n",
    "        self.mean_ = None\n",
    "        self.var_ = None\n",
    "        \n",
    "    \n",
    "    # the fit method, which, again based on StandardScale\n",
    "    \n",
    "    def fit(self, X, y=None):\n",
    "        self.scaler.fit(X[self.columns], y)\n",
    "        self.mean_ = np.mean(X[self.columns])\n",
    "        self.var_ = np.var(X[self.columns])\n",
    "        return self\n",
    "    \n",
    "    # the transform method which does the actual scaling\n",
    "\n",
    "    def transform(self, X, y=None, copy=None):\n",
    "        \n",
    "        # record the initial order of the columns\n",
    "        init_col_order = X.columns\n",
    "        \n",
    "        # scale all features that you chose when creating the instance of the class\n",
    "        X_scaled = pd.DataFrame(self.scaler.transform(X[self.columns]), columns=self.columns)\n",
    "        \n",
    "        # declare a variable containing all information that was not scaled\n",
    "        X_not_scaled = X.loc[:,~X.columns.isin(self.columns)]\n",
    "        \n",
    "        # return a data frame which contains all scaled features and all 'not scaled' features\n",
    "        # use the original order (that you recorded in the beginning)\n",
    "        return pd.concat([X_not_scaled, X_scaled], axis=1)[init_col_order]"
   ]
  },
  {
   "cell_type": "code",
   "execution_count": 14,
   "metadata": {},
   "outputs": [
    {
     "name": "stderr",
     "output_type": "stream",
     "text": [
      "C:\\Users\\Office\\Anaconda3\\envs\\tensorflowenv\\lib\\site-packages\\sklearn\\utils\\validation.py:71: FutureWarning: Pass copy=True, with_mean=True, with_std=True as keyword args. From version 0.25 passing these as positional arguments will result in an error\n",
      "  FutureWarning)\n"
     ]
    }
   ],
   "source": [
    "scaler = CustomScaler(columns_to_scale)"
   ]
  },
  {
   "cell_type": "code",
   "execution_count": 15,
   "metadata": {},
   "outputs": [
    {
     "name": "stderr",
     "output_type": "stream",
     "text": [
      "C:\\Users\\Office\\Anaconda3\\envs\\tensorflowenv\\lib\\site-packages\\sklearn\\base.py:213: FutureWarning: From version 0.24, get_params will raise an AttributeError if a parameter cannot be retrieved as an instance attribute. Previously it would return None.\n",
      "  FutureWarning)\n"
     ]
    },
    {
     "data": {
      "text/plain": [
       "CustomScaler(columns=['Transportation Expense', 'Distance to Work', 'Age',\n",
       "                      'Body Mass Index', 'Children', 'Pets'],\n",
       "             copy=None, with_mean=None, with_std=None)"
      ]
     },
     "execution_count": 15,
     "metadata": {},
     "output_type": "execute_result"
    }
   ],
   "source": [
    "scaler.fit(input_data)"
   ]
  },
  {
   "cell_type": "code",
   "execution_count": 16,
   "metadata": {},
   "outputs": [],
   "source": [
    "scaled_data = scaler.transform(input_data)"
   ]
  },
  {
   "cell_type": "code",
   "execution_count": 17,
   "metadata": {},
   "outputs": [],
   "source": [
    "target_data = np.where(target_data < target_data.mean(),0,1)"
   ]
  },
  {
   "cell_type": "code",
   "execution_count": 18,
   "metadata": {},
   "outputs": [
    {
     "data": {
      "text/html": [
       "<div>\n",
       "<style scoped>\n",
       "    .dataframe tbody tr th:only-of-type {\n",
       "        vertical-align: middle;\n",
       "    }\n",
       "\n",
       "    .dataframe tbody tr th {\n",
       "        vertical-align: top;\n",
       "    }\n",
       "\n",
       "    .dataframe thead th {\n",
       "        text-align: right;\n",
       "    }\n",
       "</style>\n",
       "<table border=\"1\" class=\"dataframe\">\n",
       "  <thead>\n",
       "    <tr style=\"text-align: right;\">\n",
       "      <th></th>\n",
       "      <th>Transportation Expense</th>\n",
       "      <th>Distance to Work</th>\n",
       "      <th>Age</th>\n",
       "      <th>Body Mass Index</th>\n",
       "      <th>Children</th>\n",
       "      <th>Pets</th>\n",
       "      <th>Reason_1</th>\n",
       "      <th>Reason_2</th>\n",
       "      <th>Reason_3</th>\n",
       "      <th>Reason_4</th>\n",
       "    </tr>\n",
       "  </thead>\n",
       "  <tbody>\n",
       "    <tr>\n",
       "      <th>0</th>\n",
       "      <td>1.005844</td>\n",
       "      <td>0.412816</td>\n",
       "      <td>-0.536062</td>\n",
       "      <td>0.767431</td>\n",
       "      <td>0.880469</td>\n",
       "      <td>0.268487</td>\n",
       "      <td>0</td>\n",
       "      <td>0</td>\n",
       "      <td>0</td>\n",
       "      <td>1</td>\n",
       "    </tr>\n",
       "    <tr>\n",
       "      <th>1</th>\n",
       "      <td>-1.574681</td>\n",
       "      <td>-1.141882</td>\n",
       "      <td>2.130803</td>\n",
       "      <td>1.002633</td>\n",
       "      <td>-0.019280</td>\n",
       "      <td>-0.589690</td>\n",
       "      <td>0</td>\n",
       "      <td>0</td>\n",
       "      <td>0</td>\n",
       "      <td>0</td>\n",
       "    </tr>\n",
       "    <tr>\n",
       "      <th>2</th>\n",
       "      <td>-0.654143</td>\n",
       "      <td>1.426749</td>\n",
       "      <td>0.248310</td>\n",
       "      <td>1.002633</td>\n",
       "      <td>-0.919030</td>\n",
       "      <td>-0.589690</td>\n",
       "      <td>0</td>\n",
       "      <td>0</td>\n",
       "      <td>0</td>\n",
       "      <td>1</td>\n",
       "    </tr>\n",
       "    <tr>\n",
       "      <th>3</th>\n",
       "      <td>0.854936</td>\n",
       "      <td>-1.682647</td>\n",
       "      <td>0.405184</td>\n",
       "      <td>-0.643782</td>\n",
       "      <td>0.880469</td>\n",
       "      <td>-0.589690</td>\n",
       "      <td>1</td>\n",
       "      <td>0</td>\n",
       "      <td>0</td>\n",
       "      <td>0</td>\n",
       "    </tr>\n",
       "    <tr>\n",
       "      <th>4</th>\n",
       "      <td>1.005844</td>\n",
       "      <td>0.412816</td>\n",
       "      <td>-0.536062</td>\n",
       "      <td>0.767431</td>\n",
       "      <td>0.880469</td>\n",
       "      <td>0.268487</td>\n",
       "      <td>0</td>\n",
       "      <td>0</td>\n",
       "      <td>0</td>\n",
       "      <td>1</td>\n",
       "    </tr>\n",
       "    <tr>\n",
       "      <th>...</th>\n",
       "      <td>...</td>\n",
       "      <td>...</td>\n",
       "      <td>...</td>\n",
       "      <td>...</td>\n",
       "      <td>...</td>\n",
       "      <td>...</td>\n",
       "      <td>...</td>\n",
       "      <td>...</td>\n",
       "      <td>...</td>\n",
       "      <td>...</td>\n",
       "    </tr>\n",
       "    <tr>\n",
       "      <th>695</th>\n",
       "      <td>-0.654143</td>\n",
       "      <td>-0.533522</td>\n",
       "      <td>0.562059</td>\n",
       "      <td>-1.114186</td>\n",
       "      <td>0.880469</td>\n",
       "      <td>-0.589690</td>\n",
       "      <td>1</td>\n",
       "      <td>0</td>\n",
       "      <td>0</td>\n",
       "      <td>0</td>\n",
       "    </tr>\n",
       "    <tr>\n",
       "      <th>696</th>\n",
       "      <td>0.040034</td>\n",
       "      <td>-0.263140</td>\n",
       "      <td>-1.320435</td>\n",
       "      <td>-0.643782</td>\n",
       "      <td>-0.019280</td>\n",
       "      <td>1.126663</td>\n",
       "      <td>1</td>\n",
       "      <td>0</td>\n",
       "      <td>0</td>\n",
       "      <td>0</td>\n",
       "    </tr>\n",
       "    <tr>\n",
       "      <th>697</th>\n",
       "      <td>1.624567</td>\n",
       "      <td>-0.939096</td>\n",
       "      <td>-1.320435</td>\n",
       "      <td>-0.408580</td>\n",
       "      <td>-0.919030</td>\n",
       "      <td>-0.589690</td>\n",
       "      <td>1</td>\n",
       "      <td>0</td>\n",
       "      <td>0</td>\n",
       "      <td>0</td>\n",
       "    </tr>\n",
       "    <tr>\n",
       "      <th>698</th>\n",
       "      <td>0.190942</td>\n",
       "      <td>-0.939096</td>\n",
       "      <td>-0.692937</td>\n",
       "      <td>-0.408580</td>\n",
       "      <td>-0.919030</td>\n",
       "      <td>-0.589690</td>\n",
       "      <td>0</td>\n",
       "      <td>0</td>\n",
       "      <td>0</td>\n",
       "      <td>1</td>\n",
       "    </tr>\n",
       "    <tr>\n",
       "      <th>699</th>\n",
       "      <td>1.036026</td>\n",
       "      <td>0.074838</td>\n",
       "      <td>0.562059</td>\n",
       "      <td>-0.408580</td>\n",
       "      <td>-0.019280</td>\n",
       "      <td>0.268487</td>\n",
       "      <td>0</td>\n",
       "      <td>0</td>\n",
       "      <td>0</td>\n",
       "      <td>1</td>\n",
       "    </tr>\n",
       "  </tbody>\n",
       "</table>\n",
       "<p>700 rows × 10 columns</p>\n",
       "</div>"
      ],
      "text/plain": [
       "     Transportation Expense  Distance to Work       Age  Body Mass Index  \\\n",
       "0                  1.005844          0.412816 -0.536062         0.767431   \n",
       "1                 -1.574681         -1.141882  2.130803         1.002633   \n",
       "2                 -0.654143          1.426749  0.248310         1.002633   \n",
       "3                  0.854936         -1.682647  0.405184        -0.643782   \n",
       "4                  1.005844          0.412816 -0.536062         0.767431   \n",
       "..                      ...               ...       ...              ...   \n",
       "695               -0.654143         -0.533522  0.562059        -1.114186   \n",
       "696                0.040034         -0.263140 -1.320435        -0.643782   \n",
       "697                1.624567         -0.939096 -1.320435        -0.408580   \n",
       "698                0.190942         -0.939096 -0.692937        -0.408580   \n",
       "699                1.036026          0.074838  0.562059        -0.408580   \n",
       "\n",
       "     Children      Pets  Reason_1  Reason_2  Reason_3  Reason_4  \n",
       "0    0.880469  0.268487         0         0         0         1  \n",
       "1   -0.019280 -0.589690         0         0         0         0  \n",
       "2   -0.919030 -0.589690         0         0         0         1  \n",
       "3    0.880469 -0.589690         1         0         0         0  \n",
       "4    0.880469  0.268487         0         0         0         1  \n",
       "..        ...       ...       ...       ...       ...       ...  \n",
       "695  0.880469 -0.589690         1         0         0         0  \n",
       "696 -0.019280  1.126663         1         0         0         0  \n",
       "697 -0.919030 -0.589690         1         0         0         0  \n",
       "698 -0.919030 -0.589690         0         0         0         1  \n",
       "699 -0.019280  0.268487         0         0         0         1  \n",
       "\n",
       "[700 rows x 10 columns]"
      ]
     },
     "execution_count": 18,
     "metadata": {},
     "output_type": "execute_result"
    }
   ],
   "source": [
    "scaled_data\n"
   ]
  },
  {
   "cell_type": "code",
   "execution_count": 19,
   "metadata": {},
   "outputs": [],
   "source": [
    "from sklearn.model_selection import train_test_split"
   ]
  },
  {
   "cell_type": "code",
   "execution_count": 20,
   "metadata": {},
   "outputs": [],
   "source": [
    "x_train,x_test,y_train,y_test = train_test_split(scaled_data,target_data,test_size=0.2,train_size=0.8,random_state=32)"
   ]
  },
  {
   "cell_type": "code",
   "execution_count": 21,
   "metadata": {},
   "outputs": [
    {
     "data": {
      "text/plain": [
       "((560, 10), (140, 10))"
      ]
     },
     "execution_count": 21,
     "metadata": {},
     "output_type": "execute_result"
    }
   ],
   "source": [
    "x_train.shape,x_test.shape"
   ]
  },
  {
   "cell_type": "code",
   "execution_count": 39,
   "metadata": {},
   "outputs": [
    {
     "data": {
      "text/html": [
       "<div>\n",
       "<style scoped>\n",
       "    .dataframe tbody tr th:only-of-type {\n",
       "        vertical-align: middle;\n",
       "    }\n",
       "\n",
       "    .dataframe tbody tr th {\n",
       "        vertical-align: top;\n",
       "    }\n",
       "\n",
       "    .dataframe thead th {\n",
       "        text-align: right;\n",
       "    }\n",
       "</style>\n",
       "<table border=\"1\" class=\"dataframe\">\n",
       "  <thead>\n",
       "    <tr style=\"text-align: right;\">\n",
       "      <th></th>\n",
       "      <th>Transportation Expense</th>\n",
       "      <th>Distance to Work</th>\n",
       "      <th>Age</th>\n",
       "      <th>Body Mass Index</th>\n",
       "      <th>Children</th>\n",
       "      <th>Pets</th>\n",
       "      <th>Reason_1</th>\n",
       "      <th>Reason_2</th>\n",
       "      <th>Reason_3</th>\n",
       "      <th>Reason_4</th>\n",
       "    </tr>\n",
       "  </thead>\n",
       "  <tbody>\n",
       "    <tr>\n",
       "      <th>15</th>\n",
       "      <td>0.356940</td>\n",
       "      <td>-0.330735</td>\n",
       "      <td>0.718933</td>\n",
       "      <td>-0.878984</td>\n",
       "      <td>-0.919030</td>\n",
       "      <td>-0.589690</td>\n",
       "      <td>1</td>\n",
       "      <td>0</td>\n",
       "      <td>0</td>\n",
       "      <td>0</td>\n",
       "    </tr>\n",
       "    <tr>\n",
       "      <th>94</th>\n",
       "      <td>0.387122</td>\n",
       "      <td>-0.330735</td>\n",
       "      <td>1.660180</td>\n",
       "      <td>1.237836</td>\n",
       "      <td>0.880469</td>\n",
       "      <td>0.268487</td>\n",
       "      <td>0</td>\n",
       "      <td>0</td>\n",
       "      <td>0</td>\n",
       "      <td>1</td>\n",
       "    </tr>\n",
       "    <tr>\n",
       "      <th>570</th>\n",
       "      <td>-0.654143</td>\n",
       "      <td>-0.263140</td>\n",
       "      <td>-1.006686</td>\n",
       "      <td>-1.819793</td>\n",
       "      <td>-0.919030</td>\n",
       "      <td>-0.589690</td>\n",
       "      <td>1</td>\n",
       "      <td>0</td>\n",
       "      <td>0</td>\n",
       "      <td>0</td>\n",
       "    </tr>\n",
       "    <tr>\n",
       "      <th>149</th>\n",
       "      <td>-0.578689</td>\n",
       "      <td>0.818389</td>\n",
       "      <td>-1.477309</td>\n",
       "      <td>-1.349389</td>\n",
       "      <td>-0.919030</td>\n",
       "      <td>-0.589690</td>\n",
       "      <td>0</td>\n",
       "      <td>0</td>\n",
       "      <td>0</td>\n",
       "      <td>1</td>\n",
       "    </tr>\n",
       "    <tr>\n",
       "      <th>352</th>\n",
       "      <td>0.190942</td>\n",
       "      <td>-0.668713</td>\n",
       "      <td>1.032682</td>\n",
       "      <td>2.649049</td>\n",
       "      <td>-0.019280</td>\n",
       "      <td>-0.589690</td>\n",
       "      <td>1</td>\n",
       "      <td>0</td>\n",
       "      <td>0</td>\n",
       "      <td>0</td>\n",
       "    </tr>\n",
       "    <tr>\n",
       "      <th>...</th>\n",
       "      <td>...</td>\n",
       "      <td>...</td>\n",
       "      <td>...</td>\n",
       "      <td>...</td>\n",
       "      <td>...</td>\n",
       "      <td>...</td>\n",
       "      <td>...</td>\n",
       "      <td>...</td>\n",
       "      <td>...</td>\n",
       "      <td>...</td>\n",
       "    </tr>\n",
       "    <tr>\n",
       "      <th>252</th>\n",
       "      <td>1.005844</td>\n",
       "      <td>0.412816</td>\n",
       "      <td>-0.536062</td>\n",
       "      <td>0.767431</td>\n",
       "      <td>0.880469</td>\n",
       "      <td>0.268487</td>\n",
       "      <td>0</td>\n",
       "      <td>0</td>\n",
       "      <td>1</td>\n",
       "      <td>0</td>\n",
       "    </tr>\n",
       "    <tr>\n",
       "      <th>403</th>\n",
       "      <td>-1.574681</td>\n",
       "      <td>-1.141882</td>\n",
       "      <td>2.130803</td>\n",
       "      <td>1.002633</td>\n",
       "      <td>-0.019280</td>\n",
       "      <td>-0.589690</td>\n",
       "      <td>1</td>\n",
       "      <td>0</td>\n",
       "      <td>0</td>\n",
       "      <td>0</td>\n",
       "    </tr>\n",
       "    <tr>\n",
       "      <th>88</th>\n",
       "      <td>0.040034</td>\n",
       "      <td>-0.263140</td>\n",
       "      <td>-1.320435</td>\n",
       "      <td>-0.643782</td>\n",
       "      <td>-0.019280</td>\n",
       "      <td>1.126663</td>\n",
       "      <td>0</td>\n",
       "      <td>0</td>\n",
       "      <td>0</td>\n",
       "      <td>1</td>\n",
       "    </tr>\n",
       "    <tr>\n",
       "      <th>310</th>\n",
       "      <td>2.092381</td>\n",
       "      <td>1.494345</td>\n",
       "      <td>-1.320435</td>\n",
       "      <td>0.061825</td>\n",
       "      <td>-0.019280</td>\n",
       "      <td>2.843016</td>\n",
       "      <td>1</td>\n",
       "      <td>0</td>\n",
       "      <td>0</td>\n",
       "      <td>0</td>\n",
       "    </tr>\n",
       "    <tr>\n",
       "      <th>555</th>\n",
       "      <td>-0.654143</td>\n",
       "      <td>1.426749</td>\n",
       "      <td>0.248310</td>\n",
       "      <td>1.002633</td>\n",
       "      <td>-0.919030</td>\n",
       "      <td>-0.589690</td>\n",
       "      <td>1</td>\n",
       "      <td>0</td>\n",
       "      <td>0</td>\n",
       "      <td>0</td>\n",
       "    </tr>\n",
       "  </tbody>\n",
       "</table>\n",
       "<p>560 rows × 10 columns</p>\n",
       "</div>"
      ],
      "text/plain": [
       "     Transportation Expense  Distance to Work       Age  Body Mass Index  \\\n",
       "15                 0.356940         -0.330735  0.718933        -0.878984   \n",
       "94                 0.387122         -0.330735  1.660180         1.237836   \n",
       "570               -0.654143         -0.263140 -1.006686        -1.819793   \n",
       "149               -0.578689          0.818389 -1.477309        -1.349389   \n",
       "352                0.190942         -0.668713  1.032682         2.649049   \n",
       "..                      ...               ...       ...              ...   \n",
       "252                1.005844          0.412816 -0.536062         0.767431   \n",
       "403               -1.574681         -1.141882  2.130803         1.002633   \n",
       "88                 0.040034         -0.263140 -1.320435        -0.643782   \n",
       "310                2.092381          1.494345 -1.320435         0.061825   \n",
       "555               -0.654143          1.426749  0.248310         1.002633   \n",
       "\n",
       "     Children      Pets  Reason_1  Reason_2  Reason_3  Reason_4  \n",
       "15  -0.919030 -0.589690         1         0         0         0  \n",
       "94   0.880469  0.268487         0         0         0         1  \n",
       "570 -0.919030 -0.589690         1         0         0         0  \n",
       "149 -0.919030 -0.589690         0         0         0         1  \n",
       "352 -0.019280 -0.589690         1         0         0         0  \n",
       "..        ...       ...       ...       ...       ...       ...  \n",
       "252  0.880469  0.268487         0         0         1         0  \n",
       "403 -0.019280 -0.589690         1         0         0         0  \n",
       "88  -0.019280  1.126663         0         0         0         1  \n",
       "310 -0.019280  2.843016         1         0         0         0  \n",
       "555 -0.919030 -0.589690         1         0         0         0  \n",
       "\n",
       "[560 rows x 10 columns]"
      ]
     },
     "execution_count": 39,
     "metadata": {},
     "output_type": "execute_result"
    }
   ],
   "source": [
    "x_train"
   ]
  },
  {
   "cell_type": "code",
   "execution_count": 22,
   "metadata": {},
   "outputs": [],
   "source": [
    "reg = LogisticRegression()\n"
   ]
  },
  {
   "cell_type": "code",
   "execution_count": 23,
   "metadata": {},
   "outputs": [
    {
     "data": {
      "text/plain": [
       "LogisticRegression()"
      ]
     },
     "execution_count": 23,
     "metadata": {},
     "output_type": "execute_result"
    }
   ],
   "source": [
    "reg.fit(x_train,y_train)"
   ]
  },
  {
   "cell_type": "code",
   "execution_count": 24,
   "metadata": {},
   "outputs": [
    {
     "data": {
      "text/plain": [
       "array([-1.80709888])"
      ]
     },
     "execution_count": 24,
     "metadata": {},
     "output_type": "execute_result"
    }
   ],
   "source": [
    "reg.intercept_"
   ]
  },
  {
   "cell_type": "code",
   "execution_count": 25,
   "metadata": {},
   "outputs": [
    {
     "data": {
      "text/plain": [
       "array([[ 0.71132657, -0.11634858, -0.16533634,  0.30323928,  0.1747096 ,\n",
       "        -0.11279153,  2.60884252,  0.96781411,  3.07728401,  0.30162171]])"
      ]
     },
     "execution_count": 25,
     "metadata": {},
     "output_type": "execute_result"
    }
   ],
   "source": [
    "reg.coef_"
   ]
  },
  {
   "cell_type": "code",
   "execution_count": 26,
   "metadata": {},
   "outputs": [
    {
     "data": {
      "text/plain": [
       "0.7892857142857143"
      ]
     },
     "execution_count": 26,
     "metadata": {},
     "output_type": "execute_result"
    }
   ],
   "source": [
    "reg.score(x_train,y_train)"
   ]
  },
  {
   "cell_type": "code",
   "execution_count": 38,
   "metadata": {},
   "outputs": [],
   "source": [
    "y_target = reg.predict_proba(x_train)"
   ]
  },
  {
   "cell_type": "code",
   "execution_count": 28,
   "metadata": {},
   "outputs": [],
   "source": [
    "y_target = y_target[:,1]"
   ]
  },
  {
   "cell_type": "code",
   "execution_count": 29,
   "metadata": {},
   "outputs": [
    {
     "data": {
      "text/plain": [
       "array([0.64900438, 0.27543681, 0.47193159, 0.09352638, 0.84697484,\n",
       "       0.1745475 , 0.64900438, 0.07668686, 0.64900438, 0.40296294,\n",
       "       0.43095675, 0.54687537, 0.1226195 , 0.79031034, 0.58403654,\n",
       "       0.27543681, 0.44022471, 0.1226195 , 0.07742557, 0.1226195 ,\n",
       "       0.45744564, 0.5935505 , 0.32225285, 0.07668686, 0.36775225,\n",
       "       0.1226195 , 0.15544012, 0.12691025, 0.07668686, 0.1226195 ,\n",
       "       0.07668686, 0.2990707 , 0.1226195 , 0.07668686, 0.45744564,\n",
       "       0.71314838, 0.1745475 , 0.1226195 , 0.78236661, 0.21720224,\n",
       "       0.36508872, 0.1226195 , 0.26352844, 0.1226195 , 0.1745475 ,\n",
       "       0.08168931, 0.45744564, 0.1226195 , 0.19622338, 0.65847265,\n",
       "       0.27280771, 0.27280771, 0.07742557, 0.40296294, 0.74708154,\n",
       "       0.40296294, 0.12691025, 0.1226195 , 0.27543681, 0.12691025,\n",
       "       0.07668686, 0.1226195 , 0.07668686, 0.58403654, 0.24816072,\n",
       "       0.76830676, 0.77240257, 0.1745475 , 0.20392839, 0.08168931,\n",
       "       0.5935505 , 0.84120433, 0.45486887, 0.1226195 , 0.08138088,\n",
       "       0.18628871, 0.1745475 , 0.88765121, 0.08168931, 0.69164212,\n",
       "       0.07668686, 0.1226195 , 0.1745475 , 0.07668686, 0.10968896,\n",
       "       0.87147752, 0.82689552, 0.91548521, 0.15544012, 0.87688644,\n",
       "       0.40296294, 0.08168931, 0.7924916 , 0.27280771, 0.26352844,\n",
       "       0.35522451, 0.74708154, 0.07668686, 0.1226195 , 0.26352844,\n",
       "       0.09368266, 0.08168931, 0.07742557, 0.07668686, 0.08168931,\n",
       "       0.80556847, 0.33297585, 0.47193159, 0.13412854, 0.92658736,\n",
       "       0.1745475 , 0.07668686, 0.24816072, 0.43095675, 0.76830676,\n",
       "       0.69995931, 0.27280771, 0.08168931, 0.1226195 , 0.88765121,\n",
       "       0.1226195 , 0.26352844, 0.1226195 , 0.33297585, 0.24816072,\n",
       "       0.27280771, 0.47193159, 0.20362761, 0.12691025, 0.28950819,\n",
       "       0.26352844, 0.79031034, 0.1226195 , 0.1226195 , 0.2919871 ,\n",
       "       0.1226195 , 0.40296294, 0.50897464, 0.7573959 , 0.1226195 ,\n",
       "       0.43095675, 0.1745475 , 0.85756834, 0.20362761, 0.63744771,\n",
       "       0.88383637, 0.28950819, 0.1745475 , 0.07742557, 0.87147752,\n",
       "       0.1226195 , 0.45486887, 0.60880287, 0.85756834, 0.88650195,\n",
       "       0.71979537, 0.1745475 , 0.26352844, 0.6799378 , 0.09352638,\n",
       "       0.45744564, 0.1226195 , 0.91548521, 0.1745475 , 0.58708579,\n",
       "       0.1745475 , 0.35522451, 0.57136544, 0.27280771, 0.1745475 ,\n",
       "       0.07668686, 0.1745475 , 0.44022471, 0.1226195 , 0.78236661,\n",
       "       0.27280771, 0.15544012, 0.07668686, 0.85284803, 0.43095675,\n",
       "       0.27280771, 0.1745475 , 0.1226195 , 0.07668686, 0.58403654,\n",
       "       0.24816072, 0.9464207 , 0.06534036, 0.1745475 , 0.27543681,\n",
       "       0.1745475 , 0.08168931, 0.45486887, 0.1226195 , 0.6799378 ,\n",
       "       0.5935505 , 0.77240257, 0.35522451, 0.91548521, 0.1226195 ,\n",
       "       0.6799378 , 0.1745475 , 0.40296294, 0.40296294, 0.15544012,\n",
       "       0.27280771, 0.7573959 , 0.64900438, 0.1226195 , 0.9464207 ,\n",
       "       0.07742557, 0.7924916 , 0.1226195 , 0.16284545, 0.40296294,\n",
       "       0.08168931, 0.08168931, 0.27280771, 0.35522451, 0.20362761,\n",
       "       0.63744771, 0.18954418, 0.87147752, 0.76830676, 0.57136544,\n",
       "       0.79031034, 0.58403654, 0.12691025, 0.45486887, 0.1226195 ,\n",
       "       0.12691025, 0.1745475 , 0.18954418, 0.27543681, 0.47193159,\n",
       "       0.64900438, 0.91548521, 0.27280771, 0.1226195 , 0.56529543,\n",
       "       0.6799378 , 0.27280771, 0.1226195 , 0.5935505 , 0.27280771,\n",
       "       0.78236661, 0.1226195 , 0.82689552, 0.08168931, 0.43095675,\n",
       "       0.64900438, 0.07742557, 0.13412854, 0.66412696, 0.57136544,\n",
       "       0.07668686, 0.88765121, 0.1226195 , 0.6799378 , 0.07668686,\n",
       "       0.1226195 , 0.05844356, 0.27280771, 0.10968896, 0.12691025,\n",
       "       0.07742557, 0.08168931, 0.7924916 , 0.1226195 , 0.07668686,\n",
       "       0.54687537, 0.1226195 , 0.1745475 , 0.47193159, 0.28950819,\n",
       "       0.47193159, 0.07668686, 0.24816072, 0.54687537, 0.45486887,\n",
       "       0.26352844, 0.40296294, 0.2990707 , 0.58403654, 0.15544012,\n",
       "       0.08168931, 0.1226195 , 0.45744564, 0.28950819, 0.87147752,\n",
       "       0.88765121, 0.07668686, 0.27543681, 0.45486887, 0.07668686,\n",
       "       0.80556847, 0.58403654, 0.07668686, 0.1745475 , 0.1226195 ,\n",
       "       0.1226195 , 0.71979537, 0.26352844, 0.1745475 , 0.27280771,\n",
       "       0.23053441, 0.84697484, 0.27280771, 0.1226195 , 0.79031034,\n",
       "       0.1745475 , 0.15544012, 0.1226195 , 0.26352844, 0.79031034,\n",
       "       0.58403654, 0.87147752, 0.27280771, 0.9464207 , 0.1226195 ,\n",
       "       0.1745475 , 0.1745475 , 0.10724779, 0.1745475 , 0.58708579,\n",
       "       0.58403654, 0.77240257, 0.08168931, 0.43095675, 0.1226195 ,\n",
       "       0.92398138, 0.82689552, 0.78236661, 0.1226195 , 0.91548521,\n",
       "       0.35522451, 0.6799378 , 0.1226195 , 0.69995931, 0.21720224,\n",
       "       0.1226195 , 0.58403654, 0.13412854, 0.27543681, 0.1226195 ,\n",
       "       0.1745475 , 0.26352844, 0.78236661, 0.1745475 , 0.10724779,\n",
       "       0.12691025, 0.85756834, 0.1352452 , 0.64900438, 0.08168931,\n",
       "       0.15544012, 0.44022471, 0.58403654, 0.43095675, 0.71979537,\n",
       "       0.18954418, 0.07668686, 0.78769229, 0.1226195 , 0.27543681,\n",
       "       0.27280771, 0.88765121, 0.40296294, 0.26352844, 0.12691025,\n",
       "       0.20362761, 0.45486887, 0.27280771, 0.87147752, 0.1226195 ,\n",
       "       0.07742557, 0.45486887, 0.88765121, 0.1226195 , 0.1226195 ,\n",
       "       0.27280771, 0.91548521, 0.7924916 , 0.1226195 , 0.63744771,\n",
       "       0.69995931, 0.1745475 , 0.23636977, 0.58403654, 0.1226195 ,\n",
       "       0.11981568, 0.63744771, 0.26017494, 0.40296294, 0.69164212,\n",
       "       0.1745475 , 0.5935505 , 0.24816072, 0.27280771, 0.07742557,\n",
       "       0.1226195 , 0.45744564, 0.1226195 , 0.1745475 , 0.45744564,\n",
       "       0.5935505 , 0.58403654, 0.08138088, 0.85917463, 0.54687537,\n",
       "       0.40296294, 0.07742557, 0.12691025, 0.15544012, 0.44022471,\n",
       "       0.08168931, 0.1226195 , 0.47090531, 0.78236661, 0.24816072,\n",
       "       0.36583997, 0.26352844, 0.88765121, 0.6799378 , 0.40296294,\n",
       "       0.1745475 , 0.36583997, 0.1226195 , 0.57136544, 0.1745475 ,\n",
       "       0.47193159, 0.21945719, 0.63744771, 0.1226195 , 0.27280771,\n",
       "       0.26352844, 0.1745475 , 0.07668686, 0.35522451, 0.27543681,\n",
       "       0.27543681, 0.20927004, 0.26352844, 0.58403654, 0.28950819,\n",
       "       0.81680195, 0.40296294, 0.1745475 , 0.40296294, 0.43095675,\n",
       "       0.58403654, 0.1745475 , 0.65847265, 0.26352844, 0.47193159,\n",
       "       0.88383637, 0.1226195 , 0.1745475 , 0.1226195 , 0.40296294,\n",
       "       0.30738101, 0.64900438, 0.58808383, 0.46351506, 0.6799378 ,\n",
       "       0.64900438, 0.1226195 , 0.1226195 , 0.45486887, 0.07668686,\n",
       "       0.07668686, 0.72016911, 0.1745475 , 0.1226195 , 0.07742557,\n",
       "       0.90252117, 0.45744564, 0.63744771, 0.40296294, 0.84120433,\n",
       "       0.79031034, 0.10724779, 0.63744771, 0.1745475 , 0.10724779,\n",
       "       0.1745475 , 0.1226195 , 0.15544012, 0.58808383, 0.78769229,\n",
       "       0.43095675, 0.07668686, 0.69995931, 0.81680195, 0.26352844,\n",
       "       0.35522451, 0.1226195 , 0.1745475 , 0.1226195 , 0.91548521,\n",
       "       0.2990707 , 0.64900438, 0.26017494, 0.27280771, 0.08168931,\n",
       "       0.1745475 , 0.43095675, 0.27543681, 0.6799378 , 0.12577658,\n",
       "       0.15544012, 0.26352844, 0.44022471, 0.58403654, 0.65847265,\n",
       "       0.10724779, 0.1745475 , 0.76830676, 0.07742557, 0.58403654,\n",
       "       0.44022471, 0.47193159, 0.24816072, 0.5531234 , 0.05844356,\n",
       "       0.05844356, 0.1745475 , 0.43095675, 0.55937802, 0.43095675,\n",
       "       0.1745475 , 0.24816072, 0.1226195 , 0.1745475 , 0.27280771,\n",
       "       0.91548521, 0.1745475 , 0.07742557, 0.1226195 , 0.66412696,\n",
       "       0.1226195 , 0.55937802, 0.43095675, 0.43095675, 0.1226195 ,\n",
       "       0.65847265, 0.40296294, 0.07668686, 0.47193159, 0.40296294,\n",
       "       0.24816072, 0.2919871 , 0.10724779, 0.80556847, 0.26352844,\n",
       "       0.91548521, 0.45744564, 0.1745475 , 0.88383637, 0.58403654])"
      ]
     },
     "execution_count": 29,
     "metadata": {},
     "output_type": "execute_result"
    }
   ],
   "source": [
    "y_target"
   ]
  },
  {
   "cell_type": "code",
   "execution_count": 30,
   "metadata": {},
   "outputs": [],
   "source": [
    "cols = input_data.columns.values"
   ]
  },
  {
   "cell_type": "code",
   "execution_count": 31,
   "metadata": {},
   "outputs": [],
   "source": [
    "summary = pd.DataFrame(columns=['Feature'],data=cols)"
   ]
  },
  {
   "cell_type": "code",
   "execution_count": 32,
   "metadata": {},
   "outputs": [],
   "source": [
    "summary['Coffecient'] = reg.coef_.transpose()"
   ]
  },
  {
   "cell_type": "code",
   "execution_count": 33,
   "metadata": {},
   "outputs": [],
   "source": [
    "summary['odds'] = np.exp(reg.coef_.transpose())"
   ]
  },
  {
   "cell_type": "code",
   "execution_count": 34,
   "metadata": {},
   "outputs": [
    {
     "data": {
      "text/html": [
       "<div>\n",
       "<style scoped>\n",
       "    .dataframe tbody tr th:only-of-type {\n",
       "        vertical-align: middle;\n",
       "    }\n",
       "\n",
       "    .dataframe tbody tr th {\n",
       "        vertical-align: top;\n",
       "    }\n",
       "\n",
       "    .dataframe thead th {\n",
       "        text-align: right;\n",
       "    }\n",
       "</style>\n",
       "<table border=\"1\" class=\"dataframe\">\n",
       "  <thead>\n",
       "    <tr style=\"text-align: right;\">\n",
       "      <th></th>\n",
       "      <th>Feature</th>\n",
       "      <th>Coffecient</th>\n",
       "      <th>odds</th>\n",
       "    </tr>\n",
       "  </thead>\n",
       "  <tbody>\n",
       "    <tr>\n",
       "      <th>8</th>\n",
       "      <td>Reason_3</td>\n",
       "      <td>3.077284</td>\n",
       "      <td>21.699387</td>\n",
       "    </tr>\n",
       "    <tr>\n",
       "      <th>6</th>\n",
       "      <td>Reason_1</td>\n",
       "      <td>2.608843</td>\n",
       "      <td>13.583319</td>\n",
       "    </tr>\n",
       "    <tr>\n",
       "      <th>7</th>\n",
       "      <td>Reason_2</td>\n",
       "      <td>0.967814</td>\n",
       "      <td>2.632184</td>\n",
       "    </tr>\n",
       "    <tr>\n",
       "      <th>0</th>\n",
       "      <td>Transportation Expense</td>\n",
       "      <td>0.711327</td>\n",
       "      <td>2.036691</td>\n",
       "    </tr>\n",
       "    <tr>\n",
       "      <th>3</th>\n",
       "      <td>Body Mass Index</td>\n",
       "      <td>0.303239</td>\n",
       "      <td>1.354238</td>\n",
       "    </tr>\n",
       "    <tr>\n",
       "      <th>9</th>\n",
       "      <td>Reason_4</td>\n",
       "      <td>0.301622</td>\n",
       "      <td>1.352050</td>\n",
       "    </tr>\n",
       "    <tr>\n",
       "      <th>4</th>\n",
       "      <td>Children</td>\n",
       "      <td>0.174710</td>\n",
       "      <td>1.190900</td>\n",
       "    </tr>\n",
       "    <tr>\n",
       "      <th>5</th>\n",
       "      <td>Pets</td>\n",
       "      <td>-0.112792</td>\n",
       "      <td>0.893337</td>\n",
       "    </tr>\n",
       "    <tr>\n",
       "      <th>1</th>\n",
       "      <td>Distance to Work</td>\n",
       "      <td>-0.116349</td>\n",
       "      <td>0.890165</td>\n",
       "    </tr>\n",
       "    <tr>\n",
       "      <th>2</th>\n",
       "      <td>Age</td>\n",
       "      <td>-0.165336</td>\n",
       "      <td>0.847609</td>\n",
       "    </tr>\n",
       "  </tbody>\n",
       "</table>\n",
       "</div>"
      ],
      "text/plain": [
       "                  Feature  Coffecient       odds\n",
       "8                Reason_3    3.077284  21.699387\n",
       "6                Reason_1    2.608843  13.583319\n",
       "7                Reason_2    0.967814   2.632184\n",
       "0  Transportation Expense    0.711327   2.036691\n",
       "3         Body Mass Index    0.303239   1.354238\n",
       "9                Reason_4    0.301622   1.352050\n",
       "4                Children    0.174710   1.190900\n",
       "5                    Pets   -0.112792   0.893337\n",
       "1        Distance to Work   -0.116349   0.890165\n",
       "2                     Age   -0.165336   0.847609"
      ]
     },
     "execution_count": 34,
     "metadata": {},
     "output_type": "execute_result"
    }
   ],
   "source": [
    "summary.sort_values('Coffecient',ascending=False)"
   ]
  },
  {
   "cell_type": "code",
   "execution_count": 35,
   "metadata": {},
   "outputs": [],
   "source": [
    "with open('model.pkl','wb') as f:\n",
    "    pickle.dump(reg,f)\n",
    "    \n",
    "with open('scaler.pkl','wb') as f:\n",
    "    pickle.dump(scaler,f)"
   ]
  },
  {
   "cell_type": "code",
   "execution_count": 37,
   "metadata": {},
   "outputs": [],
   "source": [
    "with open('scaler.pkl','rb') as scalar:\n",
    "    scalar = pickle.load(scalar)"
   ]
  },
  {
   "cell_type": "code",
   "execution_count": 42,
   "metadata": {},
   "outputs": [
    {
     "data": {
      "text/plain": [
       "array([1, 0, 0, 0, 1, 0, 1, 0, 1, 0, 0, 1, 0, 1, 1, 0, 0, 0, 0, 0, 0, 1,\n",
       "       0, 0, 0, 0, 0, 0, 0, 0, 0, 0, 0, 0, 0, 1, 0, 0, 1, 0, 0, 0, 0, 0,\n",
       "       0, 0, 0, 0, 0, 1, 0, 0, 0, 0, 1, 0, 0, 0, 0, 0, 0, 0, 0, 1, 0, 1,\n",
       "       1, 0, 0, 0, 1, 1, 0, 0, 0, 0, 0, 1, 0, 1, 0, 0, 0, 0, 0, 1, 1, 1,\n",
       "       0, 1, 0, 0, 1, 0, 0, 0, 1, 0, 0, 0, 0, 0, 0, 0, 0, 1, 0, 0, 0, 1,\n",
       "       0, 0, 0, 0, 1, 1, 0, 0, 0, 1, 0, 0, 0, 0, 0, 0, 0, 0, 0, 0, 0, 1,\n",
       "       0, 0, 0, 0, 0, 1, 1, 0, 0, 0, 1, 0, 1, 1, 0, 0, 0, 1, 0, 0, 1, 1,\n",
       "       1, 1, 0, 0, 1, 0, 0, 0, 1, 0, 1, 0, 0, 1, 0, 0, 0, 0, 0, 0, 1, 0,\n",
       "       0, 0, 1, 0, 0, 0, 0, 0, 1, 0, 1, 0, 0, 0, 0, 0, 0, 0, 1, 1, 1, 0,\n",
       "       1, 0, 1, 0, 0, 0, 0, 0, 1, 1, 0, 1, 0, 1, 0, 0, 0, 0, 0, 0, 0, 0,\n",
       "       1, 0, 1, 1, 1, 1, 1, 0, 0, 0, 0, 0, 0, 0, 0, 1, 1, 0, 0, 1, 1, 0,\n",
       "       0, 1, 0, 1, 0, 1, 0, 0, 1, 0, 0, 1, 1, 0, 1, 0, 1, 0, 0, 0, 0, 0,\n",
       "       0, 0, 0, 1, 0, 0, 1, 0, 0, 0, 0, 0, 0, 0, 1, 0, 0, 0, 0, 1, 0, 0,\n",
       "       0, 0, 0, 1, 1, 0, 0, 0, 0, 1, 1, 0, 0, 0, 0, 1, 0, 0, 0, 0, 1, 0,\n",
       "       0, 1, 0, 0, 0, 0, 1, 1, 1, 0, 1, 0, 0, 0, 0, 0, 1, 1, 1, 0, 0, 0,\n",
       "       1, 1, 1, 0, 1, 0, 1, 0, 1, 0, 0, 1, 0, 0, 0, 0, 0, 1, 0, 0, 0, 1,\n",
       "       0, 1, 0, 0, 0, 1, 0, 1, 0, 0, 1, 0, 0, 0, 1, 0, 0, 0, 0, 0, 0, 1,\n",
       "       0, 0, 0, 1, 0, 0, 0, 1, 1, 0, 1, 1, 0, 0, 1, 0, 0, 1, 0, 0, 1, 0,\n",
       "       1, 0, 0, 0, 0, 0, 0, 0, 0, 1, 1, 0, 1, 1, 0, 0, 0, 0, 0, 0, 0, 0,\n",
       "       1, 0, 0, 0, 1, 1, 0, 0, 0, 0, 1, 0, 0, 0, 1, 0, 0, 0, 0, 0, 0, 0,\n",
       "       0, 0, 0, 1, 0, 1, 0, 0, 0, 0, 1, 0, 1, 0, 0, 1, 0, 0, 0, 0, 0, 1,\n",
       "       1, 0, 1, 1, 0, 0, 0, 0, 0, 1, 0, 0, 0, 1, 0, 1, 0, 1, 1, 0, 1, 0,\n",
       "       0, 0, 0, 0, 1, 1, 0, 0, 1, 1, 0, 0, 0, 0, 0, 1, 0, 1, 0, 0, 0, 0,\n",
       "       0, 0, 1, 0, 0, 0, 0, 1, 1, 0, 0, 1, 0, 1, 0, 0, 0, 1, 0, 0, 0, 0,\n",
       "       1, 0, 0, 0, 0, 0, 0, 1, 0, 0, 0, 1, 0, 1, 0, 0, 0, 1, 0, 0, 0, 0,\n",
       "       0, 0, 0, 1, 0, 1, 0, 0, 1, 1])"
      ]
     },
     "execution_count": 42,
     "metadata": {},
     "output_type": "execute_result"
    }
   ],
   "source": [
    "reg.predict(x_train)"
   ]
  },
  {
   "cell_type": "code",
   "execution_count": null,
   "metadata": {},
   "outputs": [],
   "source": []
  }
 ],
 "metadata": {
  "kernelspec": {
   "display_name": "Python [conda env:tensorflowenv]",
   "language": "python",
   "name": "conda-env-tensorflowenv-py"
  },
  "language_info": {
   "codemirror_mode": {
    "name": "ipython",
    "version": 3
   },
   "file_extension": ".py",
   "mimetype": "text/x-python",
   "name": "python",
   "nbconvert_exporter": "python",
   "pygments_lexer": "ipython3",
   "version": "3.7.7"
  }
 },
 "nbformat": 4,
 "nbformat_minor": 2
}
