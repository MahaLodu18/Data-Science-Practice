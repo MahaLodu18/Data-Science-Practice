{
 "cells": [
  {
   "cell_type": "markdown",
   "metadata": {},
   "source": [
    "# Analysis"
   ]
  },
  {
   "cell_type": "code",
   "execution_count": 1,
   "metadata": {},
   "outputs": [],
   "source": [
    "import pandas as pd\n",
    "import numpy as np\n",
    "import statsmodels.api as sm\n",
    "import seaborn as sns\n",
    "from sklearn.preprocessing import LabelEncoder,OneHotEncoder,StandardScaler\n",
    "\n",
    "\n",
    "sns.set(rc={'figure.figsize':(12,8)})"
   ]
  },
  {
   "cell_type": "code",
   "execution_count": 2,
   "metadata": {},
   "outputs": [],
   "source": [
    "class CustomeOneHotEncoder:\n",
    "    def __init__(self,drop=False):\n",
    "        self.columns_ = None\n",
    "        self.drop_ = drop\n",
    "        self.encoder = OneHotEncoder()\n",
    "        \n",
    "    def fit(self,data,columns):\n",
    "        self.columns_ = columns\n",
    "        self.encoder.fit(data[self.columns_])\n",
    "    \n",
    "    def fit_transform(self,data,columns):\n",
    "        self.fit(data,columns)\n",
    "        return self.transform(data)\n",
    "    \n",
    "    def transform(self,data):\n",
    "        feature_array = self.encoder.transform(data[self.columns_]).toarray()\n",
    "        feature_label = self.encoder.categories_\n",
    "        new_feature_label = []\n",
    "        for x,y in zip(self.columns_,feature_label):\n",
    "            new_feature_label.append([x+'_'+str(z) for z in y])\n",
    "\n",
    "        final_feature_label= np.concatenate([x for x in new_feature_label])\n",
    "        encoded_df = pd.DataFrame(feature_array,columns=final_feature_label,index = data.index)\n",
    "\n",
    "        if self.drop_:\n",
    "            cols_to_drop = [x[0] for x in new_feature_label]\n",
    "            encoded_df = encoded_df.drop(cols_to_drop,axis=1)\n",
    "        data = data.drop(self.columns_,axis=1)   \n",
    "        #return encoded_df\n",
    "        return pd.concat([data,encoded_df],axis=1)\n",
    "    \n"
   ]
  },
  {
   "cell_type": "markdown",
   "metadata": {},
   "source": [
    "# Linear Regression"
   ]
  },
  {
   "cell_type": "code",
   "execution_count": 3,
   "metadata": {},
   "outputs": [],
   "source": [
    "pd.options.display.max_rows=None"
   ]
  },
  {
   "cell_type": "code",
   "execution_count": 4,
   "metadata": {},
   "outputs": [
    {
     "data": {
      "text/html": [
       "<div>\n",
       "<style scoped>\n",
       "    .dataframe tbody tr th:only-of-type {\n",
       "        vertical-align: middle;\n",
       "    }\n",
       "\n",
       "    .dataframe tbody tr th {\n",
       "        vertical-align: top;\n",
       "    }\n",
       "\n",
       "    .dataframe thead th {\n",
       "        text-align: right;\n",
       "    }\n",
       "</style>\n",
       "<table border=\"1\" class=\"dataframe\">\n",
       "  <thead>\n",
       "    <tr style=\"text-align: right;\">\n",
       "      <th></th>\n",
       "      <th>PassengerId</th>\n",
       "      <th>Survived</th>\n",
       "      <th>Pclass</th>\n",
       "      <th>Sex</th>\n",
       "      <th>SibSp</th>\n",
       "      <th>Parch</th>\n",
       "      <th>Embarked</th>\n",
       "      <th>Cabin_Codes</th>\n",
       "      <th>Title</th>\n",
       "      <th>Total_Members</th>\n",
       "      <th>Age_Group</th>\n",
       "      <th>Fare_Group</th>\n",
       "      <th>Age_Class</th>\n",
       "      <th>fare_per_person</th>\n",
       "      <th>Alone</th>\n",
       "    </tr>\n",
       "  </thead>\n",
       "  <tbody>\n",
       "    <tr>\n",
       "      <th>0</th>\n",
       "      <td>1</td>\n",
       "      <td>0</td>\n",
       "      <td>3</td>\n",
       "      <td>0</td>\n",
       "      <td>1</td>\n",
       "      <td>0</td>\n",
       "      <td>0</td>\n",
       "      <td>0</td>\n",
       "      <td>0</td>\n",
       "      <td>1</td>\n",
       "      <td>2</td>\n",
       "      <td>0</td>\n",
       "      <td>66</td>\n",
       "      <td>3</td>\n",
       "      <td>0</td>\n",
       "    </tr>\n",
       "    <tr>\n",
       "      <th>1</th>\n",
       "      <td>2</td>\n",
       "      <td>1</td>\n",
       "      <td>1</td>\n",
       "      <td>1</td>\n",
       "      <td>1</td>\n",
       "      <td>0</td>\n",
       "      <td>1</td>\n",
       "      <td>1</td>\n",
       "      <td>2</td>\n",
       "      <td>1</td>\n",
       "      <td>5</td>\n",
       "      <td>3</td>\n",
       "      <td>38</td>\n",
       "      <td>35</td>\n",
       "      <td>0</td>\n",
       "    </tr>\n",
       "    <tr>\n",
       "      <th>2</th>\n",
       "      <td>3</td>\n",
       "      <td>1</td>\n",
       "      <td>3</td>\n",
       "      <td>1</td>\n",
       "      <td>0</td>\n",
       "      <td>0</td>\n",
       "      <td>0</td>\n",
       "      <td>0</td>\n",
       "      <td>1</td>\n",
       "      <td>0</td>\n",
       "      <td>3</td>\n",
       "      <td>0</td>\n",
       "      <td>78</td>\n",
       "      <td>7</td>\n",
       "      <td>1</td>\n",
       "    </tr>\n",
       "    <tr>\n",
       "      <th>3</th>\n",
       "      <td>4</td>\n",
       "      <td>1</td>\n",
       "      <td>1</td>\n",
       "      <td>1</td>\n",
       "      <td>1</td>\n",
       "      <td>0</td>\n",
       "      <td>0</td>\n",
       "      <td>1</td>\n",
       "      <td>2</td>\n",
       "      <td>1</td>\n",
       "      <td>5</td>\n",
       "      <td>3</td>\n",
       "      <td>35</td>\n",
       "      <td>26</td>\n",
       "      <td>0</td>\n",
       "    </tr>\n",
       "    <tr>\n",
       "      <th>4</th>\n",
       "      <td>5</td>\n",
       "      <td>0</td>\n",
       "      <td>3</td>\n",
       "      <td>0</td>\n",
       "      <td>0</td>\n",
       "      <td>0</td>\n",
       "      <td>0</td>\n",
       "      <td>0</td>\n",
       "      <td>0</td>\n",
       "      <td>0</td>\n",
       "      <td>5</td>\n",
       "      <td>1</td>\n",
       "      <td>105</td>\n",
       "      <td>8</td>\n",
       "      <td>1</td>\n",
       "    </tr>\n",
       "  </tbody>\n",
       "</table>\n",
       "</div>"
      ],
      "text/plain": [
       "   PassengerId  Survived  Pclass  Sex  SibSp  Parch  Embarked  Cabin_Codes  \\\n",
       "0            1         0       3    0      1      0         0            0   \n",
       "1            2         1       1    1      1      0         1            1   \n",
       "2            3         1       3    1      0      0         0            0   \n",
       "3            4         1       1    1      1      0         0            1   \n",
       "4            5         0       3    0      0      0         0            0   \n",
       "\n",
       "   Title  Total_Members  Age_Group  Fare_Group  Age_Class  fare_per_person  \\\n",
       "0      0              1          2           0         66                3   \n",
       "1      2              1          5           3         38               35   \n",
       "2      1              0          3           0         78                7   \n",
       "3      2              1          5           3         35               26   \n",
       "4      0              0          5           1        105                8   \n",
       "\n",
       "   Alone  \n",
       "0      0  \n",
       "1      0  \n",
       "2      1  \n",
       "3      0  \n",
       "4      1  "
      ]
     },
     "execution_count": 4,
     "metadata": {},
     "output_type": "execute_result"
    }
   ],
   "source": [
    "data = pd.read_csv('train_1.csv')\n",
    "\n",
    "data.head()"
   ]
  },
  {
   "cell_type": "code",
   "execution_count": 5,
   "metadata": {},
   "outputs": [
    {
     "name": "stdout",
     "output_type": "stream",
     "text": [
      "<class 'pandas.core.frame.DataFrame'>\n",
      "RangeIndex: 891 entries, 0 to 890\n",
      "Data columns (total 15 columns):\n",
      " #   Column           Non-Null Count  Dtype\n",
      "---  ------           --------------  -----\n",
      " 0   PassengerId      891 non-null    int64\n",
      " 1   Survived         891 non-null    int64\n",
      " 2   Pclass           891 non-null    int64\n",
      " 3   Sex              891 non-null    int64\n",
      " 4   SibSp            891 non-null    int64\n",
      " 5   Parch            891 non-null    int64\n",
      " 6   Embarked         891 non-null    int64\n",
      " 7   Cabin_Codes      891 non-null    int64\n",
      " 8   Title            891 non-null    int64\n",
      " 9   Total_Members    891 non-null    int64\n",
      " 10  Age_Group        891 non-null    int64\n",
      " 11  Fare_Group       891 non-null    int64\n",
      " 12  Age_Class        891 non-null    int64\n",
      " 13  fare_per_person  891 non-null    int64\n",
      " 14  Alone            891 non-null    int64\n",
      "dtypes: int64(15)\n",
      "memory usage: 104.5 KB\n"
     ]
    }
   ],
   "source": [
    "data.info(0)"
   ]
  },
  {
   "cell_type": "markdown",
   "metadata": {},
   "source": [
    "**For Getting equal no of classes**"
   ]
  },
  {
   "cell_type": "code",
   "execution_count": 157,
   "metadata": {},
   "outputs": [
    {
     "data": {
      "text/plain": [
       "\"\\ntemp = data[(data['Survived'] == 0) ].iloc[:342,:]\\ntemp2 = data[(data['Survived'] == 1) ]data.head()\\ndata = pd.concat([temp,temp2]).sort_values(by='PassengerId')\\ndata.head()\\n\""
      ]
     },
     "execution_count": 157,
     "metadata": {},
     "output_type": "execute_result"
    }
   ],
   "source": [
    "\n",
    "\"\"\"\n",
    "temp = data[(data['Survived'] == 0) ].iloc[:342,:]\n",
    "temp2 = data[(data['Survived'] == 1) ]data.head()\n",
    "data = pd.concat([temp,temp2]).sort_values(by='PassengerId')\n",
    "data.head()\n",
    "\"\"\""
   ]
  },
  {
   "cell_type": "code",
   "execution_count": 6,
   "metadata": {},
   "outputs": [],
   "source": [
    "\n",
    "dataset = data.copy()\n"
   ]
  },
  {
   "cell_type": "markdown",
   "metadata": {},
   "source": [
    "## Train And test Dataset"
   ]
  },
  {
   "cell_type": "code",
   "execution_count": 8,
   "metadata": {},
   "outputs": [
    {
     "name": "stdout",
     "output_type": "stream",
     "text": [
      "All Columns : ['PassengerId' 'Survived' 'Pclass' 'Sex' 'SibSp' 'Parch' 'Embarked'\n",
      " 'Cabin_Codes' 'Title' 'Total_Members' 'Age_Group' 'Fare_Group'\n",
      " 'Age_Class' 'fare_per_person' 'Alone']\n",
      " Dropped Columns : ['Survived', 'PassengerId']\n",
      "Cateogrical Columns : [] \n",
      " Numerical Columns : ['Parch', 'Age_Group', 'Title', 'Total_Members', 'Alone', 'Sex', 'Cabin_Codes', 'Embarked', 'Fare_Group', 'Age_Class', 'fare_per_person', 'SibSp', 'Pclass']\n"
     ]
    },
    {
     "data": {
      "text/html": [
       "<div>\n",
       "<style scoped>\n",
       "    .dataframe tbody tr th:only-of-type {\n",
       "        vertical-align: middle;\n",
       "    }\n",
       "\n",
       "    .dataframe tbody tr th {\n",
       "        vertical-align: top;\n",
       "    }\n",
       "\n",
       "    .dataframe thead th {\n",
       "        text-align: right;\n",
       "    }\n",
       "</style>\n",
       "<table border=\"1\" class=\"dataframe\">\n",
       "  <thead>\n",
       "    <tr style=\"text-align: right;\">\n",
       "      <th></th>\n",
       "      <th>Pclass</th>\n",
       "      <th>Sex</th>\n",
       "      <th>SibSp</th>\n",
       "      <th>Parch</th>\n",
       "      <th>Embarked</th>\n",
       "      <th>Cabin_Codes</th>\n",
       "      <th>Title</th>\n",
       "      <th>Total_Members</th>\n",
       "      <th>Age_Group</th>\n",
       "      <th>Fare_Group</th>\n",
       "      <th>Age_Class</th>\n",
       "      <th>fare_per_person</th>\n",
       "      <th>Alone</th>\n",
       "    </tr>\n",
       "  </thead>\n",
       "  <tbody>\n",
       "    <tr>\n",
       "      <th>0</th>\n",
       "      <td>3</td>\n",
       "      <td>0</td>\n",
       "      <td>1</td>\n",
       "      <td>0</td>\n",
       "      <td>0</td>\n",
       "      <td>0</td>\n",
       "      <td>0</td>\n",
       "      <td>1</td>\n",
       "      <td>2</td>\n",
       "      <td>0</td>\n",
       "      <td>66</td>\n",
       "      <td>3</td>\n",
       "      <td>0</td>\n",
       "    </tr>\n",
       "    <tr>\n",
       "      <th>1</th>\n",
       "      <td>1</td>\n",
       "      <td>1</td>\n",
       "      <td>1</td>\n",
       "      <td>0</td>\n",
       "      <td>1</td>\n",
       "      <td>1</td>\n",
       "      <td>2</td>\n",
       "      <td>1</td>\n",
       "      <td>5</td>\n",
       "      <td>3</td>\n",
       "      <td>38</td>\n",
       "      <td>35</td>\n",
       "      <td>0</td>\n",
       "    </tr>\n",
       "    <tr>\n",
       "      <th>2</th>\n",
       "      <td>3</td>\n",
       "      <td>1</td>\n",
       "      <td>0</td>\n",
       "      <td>0</td>\n",
       "      <td>0</td>\n",
       "      <td>0</td>\n",
       "      <td>1</td>\n",
       "      <td>0</td>\n",
       "      <td>3</td>\n",
       "      <td>0</td>\n",
       "      <td>78</td>\n",
       "      <td>7</td>\n",
       "      <td>1</td>\n",
       "    </tr>\n",
       "    <tr>\n",
       "      <th>3</th>\n",
       "      <td>1</td>\n",
       "      <td>1</td>\n",
       "      <td>1</td>\n",
       "      <td>0</td>\n",
       "      <td>0</td>\n",
       "      <td>1</td>\n",
       "      <td>2</td>\n",
       "      <td>1</td>\n",
       "      <td>5</td>\n",
       "      <td>3</td>\n",
       "      <td>35</td>\n",
       "      <td>26</td>\n",
       "      <td>0</td>\n",
       "    </tr>\n",
       "    <tr>\n",
       "      <th>4</th>\n",
       "      <td>3</td>\n",
       "      <td>0</td>\n",
       "      <td>0</td>\n",
       "      <td>0</td>\n",
       "      <td>0</td>\n",
       "      <td>0</td>\n",
       "      <td>0</td>\n",
       "      <td>0</td>\n",
       "      <td>5</td>\n",
       "      <td>1</td>\n",
       "      <td>105</td>\n",
       "      <td>8</td>\n",
       "      <td>1</td>\n",
       "    </tr>\n",
       "  </tbody>\n",
       "</table>\n",
       "</div>"
      ],
      "text/plain": [
       "   Pclass  Sex  SibSp  Parch  Embarked  Cabin_Codes  Title  Total_Members  \\\n",
       "0       3    0      1      0         0            0      0              1   \n",
       "1       1    1      1      0         1            1      2              1   \n",
       "2       3    1      0      0         0            0      1              0   \n",
       "3       1    1      1      0         0            1      2              1   \n",
       "4       3    0      0      0         0            0      0              0   \n",
       "\n",
       "   Age_Group  Fare_Group  Age_Class  fare_per_person  Alone  \n",
       "0          2           0         66                3      0  \n",
       "1          5           3         38               35      0  \n",
       "2          3           0         78                7      1  \n",
       "3          5           3         35               26      0  \n",
       "4          5           1        105                8      1  "
      ]
     },
     "execution_count": 8,
     "metadata": {},
     "output_type": "execute_result"
    }
   ],
   "source": [
    "y = dataset['Survived']\n",
    "print('All Columns : {}'.format(dataset.columns.values))\n",
    "cols_to_drop = ['Survived','PassengerId']\n",
    "#cols_to_drop = ['Survived','PassengerId','SibSp','Parch','Embarked','Age','Cabin_Codes','Fare', 'fare_per_person']\n",
    "cols_to_inc = list(set(dataset.columns) - set(cols_to_drop))\n",
    "print(' Dropped Columns : {}'.format(cols_to_drop))\n",
    "\n",
    "x = dataset.drop(cols_to_drop,axis=1)\n",
    "\n",
    "cat_columns = []\n",
    "#cat_columns = ['Age_Group','Cabin_Codes','Sex','Pclass','Title','Embarked','Alone']\n",
    "#cat_columns = ['Sex','Pclass','Title','Alone','Age_Group']\n",
    "num_columns = list(set(x.columns)- set(cat_columns))\n",
    "print('Cateogrical Columns : {} \\n Numerical Columns : {}'.format(cat_columns,num_columns))\n",
    "x.head()"
   ]
  },
  {
   "cell_type": "code",
   "execution_count": 9,
   "metadata": {},
   "outputs": [
    {
     "data": {
      "text/plain": [
       "'encoder = CustomeOneHotEncoder(drop=True)\\n\\nx = encoder.fit_transform(x,columns=cat_columns)\\nx.head()'"
      ]
     },
     "execution_count": 9,
     "metadata": {},
     "output_type": "execute_result"
    }
   ],
   "source": [
    "\n",
    "'''encoder = CustomeOneHotEncoder(drop=True)\n",
    "\n",
    "x = encoder.fit_transform(x,columns=cat_columns)\n",
    "x.head()'''"
   ]
  },
  {
   "cell_type": "code",
   "execution_count": 10,
   "metadata": {},
   "outputs": [
    {
     "data": {
      "text/html": [
       "<div>\n",
       "<style scoped>\n",
       "    .dataframe tbody tr th:only-of-type {\n",
       "        vertical-align: middle;\n",
       "    }\n",
       "\n",
       "    .dataframe tbody tr th {\n",
       "        vertical-align: top;\n",
       "    }\n",
       "\n",
       "    .dataframe thead th {\n",
       "        text-align: right;\n",
       "    }\n",
       "</style>\n",
       "<table border=\"1\" class=\"dataframe\">\n",
       "  <thead>\n",
       "    <tr style=\"text-align: right;\">\n",
       "      <th></th>\n",
       "      <th>Pclass</th>\n",
       "      <th>Sex</th>\n",
       "      <th>SibSp</th>\n",
       "      <th>Parch</th>\n",
       "      <th>Embarked</th>\n",
       "      <th>Cabin_Codes</th>\n",
       "      <th>Title</th>\n",
       "      <th>Total_Members</th>\n",
       "      <th>Age_Group</th>\n",
       "      <th>Fare_Group</th>\n",
       "      <th>Age_Class</th>\n",
       "      <th>fare_per_person</th>\n",
       "      <th>Alone</th>\n",
       "    </tr>\n",
       "  </thead>\n",
       "  <tbody>\n",
       "    <tr>\n",
       "      <th>0</th>\n",
       "      <td>0.827377</td>\n",
       "      <td>-0.737695</td>\n",
       "      <td>0.432793</td>\n",
       "      <td>-0.473674</td>\n",
       "      <td>-0.571898</td>\n",
       "      <td>-0.447294</td>\n",
       "      <td>-0.709297</td>\n",
       "      <td>0.059160</td>\n",
       "      <td>-0.707687</td>\n",
       "      <td>-1.293570</td>\n",
       "      <td>0.037592</td>\n",
       "      <td>-0.459218</td>\n",
       "      <td>-1.231645</td>\n",
       "    </tr>\n",
       "    <tr>\n",
       "      <th>1</th>\n",
       "      <td>-1.566107</td>\n",
       "      <td>1.355574</td>\n",
       "      <td>0.432793</td>\n",
       "      <td>-0.473674</td>\n",
       "      <td>0.995982</td>\n",
       "      <td>0.103936</td>\n",
       "      <td>1.250342</td>\n",
       "      <td>0.059160</td>\n",
       "      <td>0.872637</td>\n",
       "      <td>1.376478</td>\n",
       "      <td>-0.799776</td>\n",
       "      <td>0.434090</td>\n",
       "      <td>-1.231645</td>\n",
       "    </tr>\n",
       "    <tr>\n",
       "      <th>2</th>\n",
       "      <td>0.827377</td>\n",
       "      <td>1.355574</td>\n",
       "      <td>-0.474545</td>\n",
       "      <td>-0.473674</td>\n",
       "      <td>-0.571898</td>\n",
       "      <td>-0.447294</td>\n",
       "      <td>0.270522</td>\n",
       "      <td>-0.560975</td>\n",
       "      <td>-0.180912</td>\n",
       "      <td>-1.293570</td>\n",
       "      <td>0.396465</td>\n",
       "      <td>-0.347554</td>\n",
       "      <td>0.811922</td>\n",
       "    </tr>\n",
       "    <tr>\n",
       "      <th>3</th>\n",
       "      <td>-1.566107</td>\n",
       "      <td>1.355574</td>\n",
       "      <td>0.432793</td>\n",
       "      <td>-0.473674</td>\n",
       "      <td>-0.571898</td>\n",
       "      <td>0.103936</td>\n",
       "      <td>1.250342</td>\n",
       "      <td>0.059160</td>\n",
       "      <td>0.872637</td>\n",
       "      <td>1.376478</td>\n",
       "      <td>-0.889494</td>\n",
       "      <td>0.182847</td>\n",
       "      <td>-1.231645</td>\n",
       "    </tr>\n",
       "    <tr>\n",
       "      <th>4</th>\n",
       "      <td>0.827377</td>\n",
       "      <td>-0.737695</td>\n",
       "      <td>-0.474545</td>\n",
       "      <td>-0.473674</td>\n",
       "      <td>-0.571898</td>\n",
       "      <td>-0.447294</td>\n",
       "      <td>-0.709297</td>\n",
       "      <td>-0.560975</td>\n",
       "      <td>0.872637</td>\n",
       "      <td>-0.403554</td>\n",
       "      <td>1.203927</td>\n",
       "      <td>-0.319638</td>\n",
       "      <td>0.811922</td>\n",
       "    </tr>\n",
       "  </tbody>\n",
       "</table>\n",
       "</div>"
      ],
      "text/plain": [
       "     Pclass       Sex     SibSp     Parch  Embarked  Cabin_Codes     Title  \\\n",
       "0  0.827377 -0.737695  0.432793 -0.473674 -0.571898    -0.447294 -0.709297   \n",
       "1 -1.566107  1.355574  0.432793 -0.473674  0.995982     0.103936  1.250342   \n",
       "2  0.827377  1.355574 -0.474545 -0.473674 -0.571898    -0.447294  0.270522   \n",
       "3 -1.566107  1.355574  0.432793 -0.473674 -0.571898     0.103936  1.250342   \n",
       "4  0.827377 -0.737695 -0.474545 -0.473674 -0.571898    -0.447294 -0.709297   \n",
       "\n",
       "   Total_Members  Age_Group  Fare_Group  Age_Class  fare_per_person     Alone  \n",
       "0       0.059160  -0.707687   -1.293570   0.037592        -0.459218 -1.231645  \n",
       "1       0.059160   0.872637    1.376478  -0.799776         0.434090 -1.231645  \n",
       "2      -0.560975  -0.180912   -1.293570   0.396465        -0.347554  0.811922  \n",
       "3       0.059160   0.872637    1.376478  -0.889494         0.182847 -1.231645  \n",
       "4      -0.560975   0.872637   -0.403554   1.203927        -0.319638  0.811922  "
      ]
     },
     "execution_count": 10,
     "metadata": {},
     "output_type": "execute_result"
    }
   ],
   "source": [
    "scaler = StandardScaler()\n",
    "x[num_columns] = scaler.fit_transform(x[num_columns])\n",
    "x.head()"
   ]
  },
  {
   "cell_type": "code",
   "execution_count": 11,
   "metadata": {},
   "outputs": [],
   "source": [
    "from sklearn.model_selection import train_test_split\n",
    "from sklearn.linear_model import LogisticRegression"
   ]
  },
  {
   "cell_type": "code",
   "execution_count": 12,
   "metadata": {},
   "outputs": [
    {
     "name": "stdout",
     "output_type": "stream",
     "text": [
      "Test Shape : (179, 13) , Train Shape (712, 13)\n"
     ]
    }
   ],
   "source": [
    "x_train,x_test,y_train,y_test = train_test_split(x,y,test_size = 0.2,shuffle=True,random_state=1)\n",
    "\n",
    "x_train.shape,x_test.shape\n",
    "\n",
    "\n",
    "print('Test Shape : {} , Train Shape {}'.format(x_test.shape,x_train.shape))"
   ]
  },
  {
   "cell_type": "markdown",
   "metadata": {},
   "source": [
    "# Modelling"
   ]
  },
  {
   "cell_type": "code",
   "execution_count": 13,
   "metadata": {},
   "outputs": [],
   "source": [
    "from sklearn.metrics import confusion_matrix\n",
    "from sklearn.metrics import accuracy_score\n",
    "from sklearn.linear_model import LinearRegression\n",
    "from sklearn.tree import DecisionTreeClassifier # Import Decision Tree Classifier\n",
    "from sklearn import metrics"
   ]
  },
  {
   "cell_type": "code",
   "execution_count": 16,
   "metadata": {},
   "outputs": [
    {
     "name": "stdout",
     "output_type": "stream",
     "text": [
      "Warning: Maximum number of iterations has been exceeded.\n",
      "         Current function value: 0.444261\n",
      "         Iterations: 35\n"
     ]
    },
    {
     "name": "stderr",
     "output_type": "stream",
     "text": [
      "C:\\Users\\Office\\Anaconda3\\envs\\tensorflowenv\\lib\\site-packages\\statsmodels\\base\\model.py:568: ConvergenceWarning: Maximum Likelihood optimization failed to converge. Check mle_retvals\n",
      "  \"Check mle_retvals\", ConvergenceWarning)\n"
     ]
    }
   ],
   "source": [
    "model = sm.Logit(y_train,x_train).fit()"
   ]
  },
  {
   "cell_type": "code",
   "execution_count": 17,
   "metadata": {},
   "outputs": [
    {
     "data": {
      "text/html": [
       "<table class=\"simpletable\">\n",
       "<caption>Logit Regression Results</caption>\n",
       "<tr>\n",
       "  <th>Dep. Variable:</th>       <td>Survived</td>     <th>  No. Observations:  </th>  <td>   712</td>  \n",
       "</tr>\n",
       "<tr>\n",
       "  <th>Model:</th>                 <td>Logit</td>      <th>  Df Residuals:      </th>  <td>   700</td>  \n",
       "</tr>\n",
       "<tr>\n",
       "  <th>Method:</th>                 <td>MLE</td>       <th>  Df Model:          </th>  <td>    11</td>  \n",
       "</tr>\n",
       "<tr>\n",
       "  <th>Date:</th>            <td>Tue, 08 Sep 2020</td> <th>  Pseudo R-squ.:     </th>  <td>0.3299</td>  \n",
       "</tr>\n",
       "<tr>\n",
       "  <th>Time:</th>                <td>23:30:33</td>     <th>  Log-Likelihood:    </th> <td> -316.31</td> \n",
       "</tr>\n",
       "<tr>\n",
       "  <th>converged:</th>             <td>False</td>      <th>  LL-Null:           </th> <td> -472.04</td> \n",
       "</tr>\n",
       "<tr>\n",
       "  <th>Covariance Type:</th>     <td>nonrobust</td>    <th>  LLR p-value:       </th> <td>3.366e-60</td>\n",
       "</tr>\n",
       "</table>\n",
       "<table class=\"simpletable\">\n",
       "<tr>\n",
       "         <td></td>            <th>coef</th>     <th>std err</th>      <th>z</th>      <th>P>|z|</th>  <th>[0.025</th>    <th>0.975]</th>  \n",
       "</tr>\n",
       "<tr>\n",
       "  <th>Pclass</th>          <td>   -0.2090</td> <td>    0.296</td> <td>   -0.706</td> <td> 0.480</td> <td>   -0.789</td> <td>    0.371</td>\n",
       "</tr>\n",
       "<tr>\n",
       "  <th>Sex</th>             <td>    1.1066</td> <td>    0.123</td> <td>    9.010</td> <td> 0.000</td> <td>    0.866</td> <td>    1.347</td>\n",
       "</tr>\n",
       "<tr>\n",
       "  <th>SibSp</th>           <td>   -0.4409</td> <td>      nan</td> <td>      nan</td> <td>   nan</td> <td>      nan</td> <td>      nan</td>\n",
       "</tr>\n",
       "<tr>\n",
       "  <th>Parch</th>           <td>   -0.0309</td> <td>      nan</td> <td>      nan</td> <td>   nan</td> <td>      nan</td> <td>      nan</td>\n",
       "</tr>\n",
       "<tr>\n",
       "  <th>Embarked</th>        <td>    0.1137</td> <td>    0.104</td> <td>    1.096</td> <td> 0.273</td> <td>   -0.090</td> <td>    0.317</td>\n",
       "</tr>\n",
       "<tr>\n",
       "  <th>Cabin_Codes</th>     <td>    0.2965</td> <td>    0.124</td> <td>    2.390</td> <td> 0.017</td> <td>    0.053</td> <td>    0.540</td>\n",
       "</tr>\n",
       "<tr>\n",
       "  <th>Title</th>           <td>    0.4538</td> <td>    0.115</td> <td>    3.962</td> <td> 0.000</td> <td>    0.229</td> <td>    0.678</td>\n",
       "</tr>\n",
       "<tr>\n",
       "  <th>Total_Members</th>   <td>   -0.3168</td> <td>      nan</td> <td>      nan</td> <td>   nan</td> <td>      nan</td> <td>      nan</td>\n",
       "</tr>\n",
       "<tr>\n",
       "  <th>Age_Group</th>       <td>    0.0592</td> <td>    0.277</td> <td>    0.214</td> <td> 0.831</td> <td>   -0.484</td> <td>    0.602</td>\n",
       "</tr>\n",
       "<tr>\n",
       "  <th>Fare_Group</th>      <td>   -0.0313</td> <td>    0.197</td> <td>   -0.159</td> <td> 0.874</td> <td>   -0.417</td> <td>    0.355</td>\n",
       "</tr>\n",
       "<tr>\n",
       "  <th>Age_Class</th>       <td>   -0.6112</td> <td>    0.317</td> <td>   -1.927</td> <td> 0.054</td> <td>   -1.233</td> <td>    0.011</td>\n",
       "</tr>\n",
       "<tr>\n",
       "  <th>fare_per_person</th> <td>    0.1481</td> <td>    0.203</td> <td>    0.729</td> <td> 0.466</td> <td>   -0.250</td> <td>    0.546</td>\n",
       "</tr>\n",
       "<tr>\n",
       "  <th>Alone</th>           <td>   -0.3170</td> <td>    0.168</td> <td>   -1.890</td> <td> 0.059</td> <td>   -0.646</td> <td>    0.012</td>\n",
       "</tr>\n",
       "</table>"
      ],
      "text/plain": [
       "<class 'statsmodels.iolib.summary.Summary'>\n",
       "\"\"\"\n",
       "                           Logit Regression Results                           \n",
       "==============================================================================\n",
       "Dep. Variable:               Survived   No. Observations:                  712\n",
       "Model:                          Logit   Df Residuals:                      700\n",
       "Method:                           MLE   Df Model:                           11\n",
       "Date:                Tue, 08 Sep 2020   Pseudo R-squ.:                  0.3299\n",
       "Time:                        23:30:33   Log-Likelihood:                -316.31\n",
       "converged:                      False   LL-Null:                       -472.04\n",
       "Covariance Type:            nonrobust   LLR p-value:                 3.366e-60\n",
       "===================================================================================\n",
       "                      coef    std err          z      P>|z|      [0.025      0.975]\n",
       "-----------------------------------------------------------------------------------\n",
       "Pclass             -0.2090      0.296     -0.706      0.480      -0.789       0.371\n",
       "Sex                 1.1066      0.123      9.010      0.000       0.866       1.347\n",
       "SibSp              -0.4409        nan        nan        nan         nan         nan\n",
       "Parch              -0.0309        nan        nan        nan         nan         nan\n",
       "Embarked            0.1137      0.104      1.096      0.273      -0.090       0.317\n",
       "Cabin_Codes         0.2965      0.124      2.390      0.017       0.053       0.540\n",
       "Title               0.4538      0.115      3.962      0.000       0.229       0.678\n",
       "Total_Members      -0.3168        nan        nan        nan         nan         nan\n",
       "Age_Group           0.0592      0.277      0.214      0.831      -0.484       0.602\n",
       "Fare_Group         -0.0313      0.197     -0.159      0.874      -0.417       0.355\n",
       "Age_Class          -0.6112      0.317     -1.927      0.054      -1.233       0.011\n",
       "fare_per_person     0.1481      0.203      0.729      0.466      -0.250       0.546\n",
       "Alone              -0.3170      0.168     -1.890      0.059      -0.646       0.012\n",
       "===================================================================================\n",
       "\"\"\""
      ]
     },
     "execution_count": 17,
     "metadata": {},
     "output_type": "execute_result"
    }
   ],
   "source": [
    "model.summary()"
   ]
  },
  {
   "cell_type": "markdown",
   "metadata": {},
   "source": [
    "**Sklearn Logisitc Regression**"
   ]
  },
  {
   "cell_type": "code",
   "execution_count": 18,
   "metadata": {
    "scrolled": true
   },
   "outputs": [],
   "source": [
    "\n",
    "model = LogisticRegression()\n",
    "model = model.fit(x_train,y_train)\n",
    "#print('Train Accuracy:', accuracy_score(y_train,res.predict(x_train)))\n",
    "#print('Test Accuracy:', accuracy_score(y_test,res.predict(x_test)))\n",
    "\n",
    "#print('Train Accuracy:' ,metrics.accuracy_score(y_train, res.predict(x_train)))\n",
    "#print('Test Accuracy:' ,metrics.accuracy_score(y_test, res.predict(x_test)))\n"
   ]
  },
  {
   "cell_type": "code",
   "execution_count": null,
   "metadata": {},
   "outputs": [],
   "source": []
  },
  {
   "cell_type": "code",
   "execution_count": 19,
   "metadata": {},
   "outputs": [
    {
     "name": "stdout",
     "output_type": "stream",
     "text": [
      "Train Accuracy: 0.8314606741573034\n",
      "Test Accuracy: 0.7653631284916201\n"
     ]
    }
   ],
   "source": [
    "print('Train Accuracy:', accuracy_score(y_train,model.predict(x_train)))\n",
    "print('Test Accuracy:', accuracy_score(y_test,model.predict(x_test)))"
   ]
  },
  {
   "cell_type": "code",
   "execution_count": 20,
   "metadata": {},
   "outputs": [
    {
     "name": "stdout",
     "output_type": "stream",
     "text": [
      "Accuracy  : 0.77\n",
      "Precision : 0.74\n",
      "Recall : 0.66\n",
      "F1 Score : 0.70\n"
     ]
    }
   ],
   "source": [
    "from sklearn.metrics import accuracy_score,precision_score,recall_score,confusion_matrix,roc_curve,f1_score,roc_auc_score\n",
    "print('Accuracy  : %.2f'%accuracy_score(y_test,model.predict(x_test)))\n",
    "print('Precision : %.2f'%precision_score(y_test,model.predict(x_test)))\n",
    "print('Recall : %.2f'%recall_score(y_test,model.predict(x_test)))\n",
    "print('F1 Score : %.2f'%f1_score(y_test,model.predict(x_test)))"
   ]
  },
  {
   "cell_type": "code",
   "execution_count": 24,
   "metadata": {},
   "outputs": [
    {
     "data": {
      "text/plain": [
       "[Text(0, 0.5, 'True Positive Rate'), Text(0.5, 0, 'False Positive Rate')]"
      ]
     },
     "execution_count": 24,
     "metadata": {},
     "output_type": "execute_result"
    },
    {
     "data": {
      "image/png": "[encoded data removed]",
      "text/plain": [
       "<Figure size 432x432 with 1 Axes>"
      ]
     },
     "metadata": {},
     "output_type": "display_data"
    }
   ],
   "source": [
    "fpr,tpr,threshold = roc_curve(y_test,model.predict_proba(x_test)[:,1])\n",
    "\n",
    "sns.set(rc={'figure.figsize':(6,6)},font_scale=1.3)\n",
    "area = roc_auc_score(y_test,model.predict_proba(x_test)[:,1])\n",
    "fig =sns.lineplot(fpr,tpr,label='ROC curve (area = {}) '.format(area.round(2)))\n",
    "sns.lineplot([0,1],[0,1],markers='--')\n",
    "fig.set(xlabel='False Positive Rate',ylabel='True Positive Rate')"
   ]
  },
  {
   "cell_type": "markdown",
   "metadata": {},
   "source": [
    "**KFold Validation**"
   ]
  },
  {
   "cell_type": "code",
   "execution_count": 25,
   "metadata": {},
   "outputs": [],
   "source": [
    "from sklearn.model_selection import KFold,cross_validate"
   ]
  },
  {
   "cell_type": "code",
   "execution_count": 26,
   "metadata": {},
   "outputs": [
    {
     "name": "stderr",
     "output_type": "stream",
     "text": [
      "C:\\Users\\Office\\Anaconda3\\envs\\tensorflowenv\\lib\\site-packages\\sklearn\\utils\\validation.py:71: FutureWarning: Pass shuffle=True, random_state=1 as keyword args. From version 0.25 passing these as positional arguments will result in an error\n",
      "  FutureWarning)\n"
     ]
    }
   ],
   "source": [
    "cv = KFold(7,True,1)"
   ]
  },
  {
   "cell_type": "code",
   "execution_count": 27,
   "metadata": {},
   "outputs": [],
   "source": [
    "#model = LogisticRegression()"
   ]
  },
  {
   "cell_type": "code",
   "execution_count": 28,
   "metadata": {
    "scrolled": true
   },
   "outputs": [
    {
     "name": "stdout",
     "output_type": "stream",
     "text": [
      "Train acc : 0.8230668414154653\n",
      "Test acc : 0.7734375\n",
      "Train acc : 0.8269986893840104\n",
      "Test acc : 0.765625\n",
      "Train acc : 0.8102094240837696\n",
      "Test acc : 0.7716535433070866\n",
      "Train acc : 0.81282722513089\n",
      "Test acc : 0.8188976377952756\n",
      "Train acc : 0.7997382198952879\n",
      "Test acc : 0.9133858267716536\n",
      "Train acc : 0.8115183246073299\n",
      "Test acc : 0.7795275590551181\n",
      "Train acc : 0.81282722513089\n",
      "Test acc : 0.8188976377952756\n"
     ]
    }
   ],
   "source": [
    "for train,test in cv.split(x):\n",
    "    model.fit(x.iloc[train],y.iloc[train])\n",
    "    print('Train acc :',model.score(x.iloc[train],y.iloc[train]))\n",
    "    print('Test acc :',model.score(x.iloc[test],y.iloc[test]))"
   ]
  },
  {
   "cell_type": "markdown",
   "metadata": {},
   "source": [
    "### Cross Validation"
   ]
  },
  {
   "cell_type": "code",
   "execution_count": 29,
   "metadata": {
    "scrolled": true
   },
   "outputs": [],
   "source": [
    "cv_score = cross_validate(model,x,y,cv=7,scoring='accuracy')['test_score']"
   ]
  },
  {
   "cell_type": "code",
   "execution_count": 30,
   "metadata": {},
   "outputs": [
    {
     "name": "stdout",
     "output_type": "stream",
     "text": [
      "CV Score : Mean : 0.8024554 | Std : 0.01611816 | Min : 0.7795276 | Max : 0.8267717\n"
     ]
    }
   ],
   "source": [
    "print(\"CV Score : Mean : %.7g | Std : %.7g | Min : %.7g | Max : %.7g\" % (np.mean(cv_score),np.std(cv_score),np.min(cv_score),np.max(cv_score)))"
   ]
  },
  {
   "cell_type": "code",
   "execution_count": 31,
   "metadata": {},
   "outputs": [
    {
     "name": "stdout",
     "output_type": "stream",
     "text": [
      "CV Score : Mean : 0.8024554 | Std : 0.01611816 | Min : 0.7795276 | Max : 0.8267717\n"
     ]
    }
   ],
   "source": [
    "print(\"CV Score : Mean : %.7g | Std : %.7g | Min : %.7g | Max : %.7g\" % (np.mean(cv_score),np.std(cv_score),np.min(cv_score),np.max(cv_score)))"
   ]
  },
  {
   "cell_type": "markdown",
   "metadata": {},
   "source": [
    "### Grid Search, Randomized Search"
   ]
  },
  {
   "cell_type": "code",
   "execution_count": 32,
   "metadata": {},
   "outputs": [],
   "source": [
    "from sklearn.model_selection import GridSearchCV,RandomizedSearchCV"
   ]
  },
  {
   "cell_type": "code",
   "execution_count": 33,
   "metadata": {},
   "outputs": [],
   "source": [
    "parameters = {'C':[0.001,0.01,0.1,0.5,1,5,10,100],\n",
    "             'max_iter':[100,150,200,500,1000]\n",
    "             }\n"
   ]
  },
  {
   "cell_type": "code",
   "execution_count": 34,
   "metadata": {
    "scrolled": true
   },
   "outputs": [
    {
     "name": "stdout",
     "output_type": "stream",
     "text": [
      "Fitting 7 folds for each of 40 candidates, totalling 280 fits\n"
     ]
    },
    {
     "name": "stderr",
     "output_type": "stream",
     "text": [
      "[Parallel(n_jobs=1)]: Using backend SequentialBackend with 1 concurrent workers.\n",
      "[Parallel(n_jobs=1)]: Done 280 out of 280 | elapsed:    4.3s finished\n"
     ]
    },
    {
     "data": {
      "text/plain": [
       "GridSearchCV(cv=7, estimator=LogisticRegression(),\n",
       "             param_grid={'C': [0.001, 0.01, 0.1, 0.5, 1, 5, 10, 100],\n",
       "                         'max_iter': [100, 150, 200, 500, 1000]},\n",
       "             scoring='accuracy', verbose=1)"
      ]
     },
     "execution_count": 34,
     "metadata": {},
     "output_type": "execute_result"
    }
   ],
   "source": [
    "cv_model = GridSearchCV(model,parameters,verbose=1,cv=7,scoring='accuracy')\n",
    "cv_model.fit(x,y)\n"
   ]
  },
  {
   "cell_type": "code",
   "execution_count": 35,
   "metadata": {},
   "outputs": [
    {
     "data": {
      "text/plain": [
       "({'C': 0.1, 'max_iter': 100}, 0.8114366563554557)"
      ]
     },
     "execution_count": 35,
     "metadata": {},
     "output_type": "execute_result"
    }
   ],
   "source": [
    "cv_model.best_params_,cv_model.best_score_"
   ]
  },
  {
   "cell_type": "code",
   "execution_count": 36,
   "metadata": {},
   "outputs": [
    {
     "data": {
      "text/plain": [
       "[Text(0, 0.5, 'True Positive Rate'), Text(0.5, 0, 'False Positive Rate')]"
      ]
     },
     "execution_count": 36,
     "metadata": {},
     "output_type": "execute_result"
    },
    {
     "data": {
      "image/png": "[encoded data removed]",
      "text/plain": [
       "<Figure size 432x432 with 1 Axes>"
      ]
     },
     "metadata": {},
     "output_type": "display_data"
    }
   ],
   "source": [
    "fpr,tpr,threshold = roc_curve(y_test,cv_model.predict_proba(x_test)[:,1])\n",
    "\n",
    "sns.set(rc={'figure.figsize':(6,6)},font_scale=1.3)\n",
    "area = roc_auc_score(y_test,cv_model.predict_proba(x_test)[:,1])\n",
    "fig =sns.lineplot(fpr,tpr,label='ROC curve (area = {}) '.format(area.round(2)))\n",
    "sns.lineplot([0,1],[0,1],markers='--')\n",
    "fig.set(xlabel='False Positive Rate',ylabel='True Positive Rate')"
   ]
  },
  {
   "cell_type": "markdown",
   "metadata": {},
   "source": [
    "### Randomized Search"
   ]
  },
  {
   "cell_type": "code",
   "execution_count": 37,
   "metadata": {},
   "outputs": [],
   "source": [
    "from sklearn.model_selection import RandomizedSearchCV"
   ]
  },
  {
   "cell_type": "code",
   "execution_count": 51,
   "metadata": {},
   "outputs": [],
   "source": [
    "from scipy.stats import uniform\n",
    "C = uniform(0,1000)\n",
    "parameters = {'C':C,\n",
    "              'max_iter': [100, 150, 200, 500, 1000],\n",
    "              'solver': ['lbfgs'] ,\n",
    "              'penalty' : ['l1', 'l2']}\n"
   ]
  },
  {
   "cell_type": "code",
   "execution_count": 52,
   "metadata": {
    "scrolled": true
   },
   "outputs": [
    {
     "data": {
      "text/plain": [
       "RandomizedSearchCV(cv=7, estimator=LogisticRegression(), n_jobs=4,\n",
       "                   param_distributions={'C': <scipy.stats._distn_infrastructure.rv_frozen object at 0x000001FE7479D3C8>,\n",
       "                                        'max_iter': [100, 150, 200, 500, 1000],\n",
       "                                        'penalty': ['l1', 'l2'],\n",
       "                                        'solver': ['lbfgs']},\n",
       "                   scoring='accuracy')"
      ]
     },
     "execution_count": 52,
     "metadata": {},
     "output_type": "execute_result"
    }
   ],
   "source": [
    "cv_model = RandomizedSearchCV(model,parameters,cv=7,scoring='accuracy',n_jobs=4)\n",
    "cv_model.fit(x,y)\n"
   ]
  },
  {
   "cell_type": "code",
   "execution_count": 53,
   "metadata": {},
   "outputs": [
    {
     "data": {
      "text/plain": [
       "({'C': 160.42377354317506,\n",
       "  'max_iter': 1000,\n",
       "  'penalty': 'l2',\n",
       "  'solver': 'lbfgs'},\n",
       " 0.8035802165354331)"
      ]
     },
     "execution_count": 53,
     "metadata": {},
     "output_type": "execute_result"
    }
   ],
   "source": [
    "cv_model.best_params_,cv_model.best_score_"
   ]
  },
  {
   "cell_type": "code",
   "execution_count": 54,
   "metadata": {},
   "outputs": [
    {
     "data": {
      "text/plain": [
       "[Text(0, 0.5, 'True Positive Rate'), Text(0.5, 0, 'False Positive Rate')]"
      ]
     },
     "execution_count": 54,
     "metadata": {},
     "output_type": "execute_result"
    },
    {
     "data": {
      "image/png": "[encoded data removed]",
      "text/plain": [
       "<Figure size 432x432 with 1 Axes>"
      ]
     },
     "metadata": {},
     "output_type": "display_data"
    }
   ],
   "source": [
    "fpr,tpr,threshold = roc_curve(y_test,cv_model.predict_proba(x_test)[:,1])\n",
    "\n",
    "sns.set(rc={'figure.figsize':(6,6)},font_scale=1.3)\n",
    "area = roc_auc_score(y_test,cv_model.predict_proba(x_test)[:,1])\n",
    "fig =sns.lineplot(fpr,tpr,label='ROC curve (area = {}) '.format(area.round(2)))\n",
    "sns.lineplot([0,1],[0,1],markers='--')\n",
    "fig.set(xlabel='False Positive Rate',ylabel='True Positive Rate')"
   ]
  },
  {
   "cell_type": "markdown",
   "metadata": {},
   "source": [
    "## Create Submission"
   ]
  },
  {
   "cell_type": "code",
   "execution_count": 164,
   "metadata": {},
   "outputs": [
    {
     "data": {
      "text/html": [
       "<div>\n",
       "<style scoped>\n",
       "    .dataframe tbody tr th:only-of-type {\n",
       "        vertical-align: middle;\n",
       "    }\n",
       "\n",
       "    .dataframe tbody tr th {\n",
       "        vertical-align: top;\n",
       "    }\n",
       "\n",
       "    .dataframe thead th {\n",
       "        text-align: right;\n",
       "    }\n",
       "</style>\n",
       "<table border=\"1\" class=\"dataframe\">\n",
       "  <thead>\n",
       "    <tr style=\"text-align: right;\">\n",
       "      <th></th>\n",
       "      <th>Pclass</th>\n",
       "      <th>Sex</th>\n",
       "      <th>Age</th>\n",
       "      <th>SibSp</th>\n",
       "      <th>Parch</th>\n",
       "      <th>Fare</th>\n",
       "      <th>Embarked</th>\n",
       "      <th>Cabin_Codes</th>\n",
       "      <th>Age_Group</th>\n",
       "      <th>Title</th>\n",
       "      <th>Total_Members</th>\n",
       "      <th>Multiply</th>\n",
       "      <th>fare_per_person</th>\n",
       "    </tr>\n",
       "  </thead>\n",
       "  <tbody>\n",
       "    <tr>\n",
       "      <th>221</th>\n",
       "      <td>3</td>\n",
       "      <td>male</td>\n",
       "      <td>21.0</td>\n",
       "      <td>0</td>\n",
       "      <td>0</td>\n",
       "      <td>8.0500</td>\n",
       "      <td>S</td>\n",
       "      <td>No_Cabin</td>\n",
       "      <td>3</td>\n",
       "      <td>Mr</td>\n",
       "      <td>0</td>\n",
       "      <td>63.0</td>\n",
       "      <td>8.050000</td>\n",
       "    </tr>\n",
       "    <tr>\n",
       "      <th>152</th>\n",
       "      <td>3</td>\n",
       "      <td>male</td>\n",
       "      <td>60.5</td>\n",
       "      <td>0</td>\n",
       "      <td>0</td>\n",
       "      <td>7.8958</td>\n",
       "      <td>S</td>\n",
       "      <td>No_Cabin</td>\n",
       "      <td>5</td>\n",
       "      <td>Mr</td>\n",
       "      <td>0</td>\n",
       "      <td>181.5</td>\n",
       "      <td>7.895800</td>\n",
       "    </tr>\n",
       "    <tr>\n",
       "      <th>311</th>\n",
       "      <td>3</td>\n",
       "      <td>male</td>\n",
       "      <td>22.0</td>\n",
       "      <td>0</td>\n",
       "      <td>0</td>\n",
       "      <td>7.2250</td>\n",
       "      <td>C</td>\n",
       "      <td>No_Cabin</td>\n",
       "      <td>3</td>\n",
       "      <td>Mr</td>\n",
       "      <td>0</td>\n",
       "      <td>66.0</td>\n",
       "      <td>7.225000</td>\n",
       "    </tr>\n",
       "    <tr>\n",
       "      <th>350</th>\n",
       "      <td>1</td>\n",
       "      <td>female</td>\n",
       "      <td>45.0</td>\n",
       "      <td>0</td>\n",
       "      <td>1</td>\n",
       "      <td>63.3583</td>\n",
       "      <td>C</td>\n",
       "      <td>D</td>\n",
       "      <td>4</td>\n",
       "      <td>Mr</td>\n",
       "      <td>1</td>\n",
       "      <td>45.0</td>\n",
       "      <td>31.679150</td>\n",
       "    </tr>\n",
       "    <tr>\n",
       "      <th>356</th>\n",
       "      <td>1</td>\n",
       "      <td>female</td>\n",
       "      <td>59.0</td>\n",
       "      <td>2</td>\n",
       "      <td>0</td>\n",
       "      <td>51.4792</td>\n",
       "      <td>S</td>\n",
       "      <td>C</td>\n",
       "      <td>4</td>\n",
       "      <td>Mr</td>\n",
       "      <td>2</td>\n",
       "      <td>59.0</td>\n",
       "      <td>17.159733</td>\n",
       "    </tr>\n",
       "  </tbody>\n",
       "</table>\n",
       "</div>"
      ],
      "text/plain": [
       "     Pclass     Sex   Age  SibSp  Parch     Fare Embarked Cabin_Codes  \\\n",
       "221       3    male  21.0      0      0   8.0500        S    No_Cabin   \n",
       "152       3    male  60.5      0      0   7.8958        S    No_Cabin   \n",
       "311       3    male  22.0      0      0   7.2250        C    No_Cabin   \n",
       "350       1  female  45.0      0      1  63.3583        C           D   \n",
       "356       1  female  59.0      2      0  51.4792        S           C   \n",
       "\n",
       "     Age_Group Title  Total_Members  Multiply  fare_per_person  \n",
       "221          3    Mr              0      63.0         8.050000  \n",
       "152          5    Mr              0     181.5         7.895800  \n",
       "311          3    Mr              0      66.0         7.225000  \n",
       "350          4    Mr              1      45.0        31.679150  \n",
       "356          4    Mr              2      59.0        17.159733  "
      ]
     },
     "execution_count": 164,
     "metadata": {},
     "output_type": "execute_result"
    }
   ],
   "source": [
    "test_data = pd.read_csv('test_1.csv')\n",
    "test_data = test_data.sample(frac=1)\n",
    "passenger_id = test_data.PassengerId\n",
    "test_data = test_data.drop(cols_to_drop[1:],axis=1)\n",
    "test_data.head()"
   ]
  },
  {
   "cell_type": "code",
   "execution_count": 165,
   "metadata": {},
   "outputs": [
    {
     "data": {
      "text/html": [
       "<div>\n",
       "<style scoped>\n",
       "    .dataframe tbody tr th:only-of-type {\n",
       "        vertical-align: middle;\n",
       "    }\n",
       "\n",
       "    .dataframe tbody tr th {\n",
       "        vertical-align: top;\n",
       "    }\n",
       "\n",
       "    .dataframe thead th {\n",
       "        text-align: right;\n",
       "    }\n",
       "</style>\n",
       "<table border=\"1\" class=\"dataframe\">\n",
       "  <thead>\n",
       "    <tr style=\"text-align: right;\">\n",
       "      <th></th>\n",
       "      <th>Age</th>\n",
       "      <th>SibSp</th>\n",
       "      <th>Parch</th>\n",
       "      <th>Fare</th>\n",
       "      <th>Total_Members</th>\n",
       "      <th>Multiply</th>\n",
       "      <th>fare_per_person</th>\n",
       "      <th>Age_Group_2</th>\n",
       "      <th>Age_Group_3</th>\n",
       "      <th>Age_Group_4</th>\n",
       "      <th>...</th>\n",
       "      <th>Title_Major</th>\n",
       "      <th>Title_Master</th>\n",
       "      <th>Title_Miss</th>\n",
       "      <th>Title_Mlle</th>\n",
       "      <th>Title_Mme</th>\n",
       "      <th>Title_Mr</th>\n",
       "      <th>Title_Ms</th>\n",
       "      <th>Title_Rev</th>\n",
       "      <th>Embarked_Q</th>\n",
       "      <th>Embarked_S</th>\n",
       "    </tr>\n",
       "  </thead>\n",
       "  <tbody>\n",
       "    <tr>\n",
       "      <th>221</th>\n",
       "      <td>21.0</td>\n",
       "      <td>0</td>\n",
       "      <td>0</td>\n",
       "      <td>8.0500</td>\n",
       "      <td>0</td>\n",
       "      <td>63.0</td>\n",
       "      <td>8.050000</td>\n",
       "      <td>0.0</td>\n",
       "      <td>1.0</td>\n",
       "      <td>0.0</td>\n",
       "      <td>...</td>\n",
       "      <td>0.0</td>\n",
       "      <td>0.0</td>\n",
       "      <td>0.0</td>\n",
       "      <td>0.0</td>\n",
       "      <td>0.0</td>\n",
       "      <td>1.0</td>\n",
       "      <td>0.0</td>\n",
       "      <td>0.0</td>\n",
       "      <td>0.0</td>\n",
       "      <td>1.0</td>\n",
       "    </tr>\n",
       "    <tr>\n",
       "      <th>152</th>\n",
       "      <td>60.5</td>\n",
       "      <td>0</td>\n",
       "      <td>0</td>\n",
       "      <td>7.8958</td>\n",
       "      <td>0</td>\n",
       "      <td>181.5</td>\n",
       "      <td>7.895800</td>\n",
       "      <td>0.0</td>\n",
       "      <td>0.0</td>\n",
       "      <td>0.0</td>\n",
       "      <td>...</td>\n",
       "      <td>0.0</td>\n",
       "      <td>0.0</td>\n",
       "      <td>0.0</td>\n",
       "      <td>0.0</td>\n",
       "      <td>0.0</td>\n",
       "      <td>1.0</td>\n",
       "      <td>0.0</td>\n",
       "      <td>0.0</td>\n",
       "      <td>0.0</td>\n",
       "      <td>1.0</td>\n",
       "    </tr>\n",
       "    <tr>\n",
       "      <th>311</th>\n",
       "      <td>22.0</td>\n",
       "      <td>0</td>\n",
       "      <td>0</td>\n",
       "      <td>7.2250</td>\n",
       "      <td>0</td>\n",
       "      <td>66.0</td>\n",
       "      <td>7.225000</td>\n",
       "      <td>0.0</td>\n",
       "      <td>1.0</td>\n",
       "      <td>0.0</td>\n",
       "      <td>...</td>\n",
       "      <td>0.0</td>\n",
       "      <td>0.0</td>\n",
       "      <td>0.0</td>\n",
       "      <td>0.0</td>\n",
       "      <td>0.0</td>\n",
       "      <td>1.0</td>\n",
       "      <td>0.0</td>\n",
       "      <td>0.0</td>\n",
       "      <td>0.0</td>\n",
       "      <td>0.0</td>\n",
       "    </tr>\n",
       "    <tr>\n",
       "      <th>350</th>\n",
       "      <td>45.0</td>\n",
       "      <td>0</td>\n",
       "      <td>1</td>\n",
       "      <td>63.3583</td>\n",
       "      <td>1</td>\n",
       "      <td>45.0</td>\n",
       "      <td>31.679150</td>\n",
       "      <td>0.0</td>\n",
       "      <td>0.0</td>\n",
       "      <td>1.0</td>\n",
       "      <td>...</td>\n",
       "      <td>0.0</td>\n",
       "      <td>0.0</td>\n",
       "      <td>0.0</td>\n",
       "      <td>0.0</td>\n",
       "      <td>0.0</td>\n",
       "      <td>1.0</td>\n",
       "      <td>0.0</td>\n",
       "      <td>0.0</td>\n",
       "      <td>0.0</td>\n",
       "      <td>0.0</td>\n",
       "    </tr>\n",
       "    <tr>\n",
       "      <th>356</th>\n",
       "      <td>59.0</td>\n",
       "      <td>2</td>\n",
       "      <td>0</td>\n",
       "      <td>51.4792</td>\n",
       "      <td>2</td>\n",
       "      <td>59.0</td>\n",
       "      <td>17.159733</td>\n",
       "      <td>0.0</td>\n",
       "      <td>0.0</td>\n",
       "      <td>1.0</td>\n",
       "      <td>...</td>\n",
       "      <td>0.0</td>\n",
       "      <td>0.0</td>\n",
       "      <td>0.0</td>\n",
       "      <td>0.0</td>\n",
       "      <td>0.0</td>\n",
       "      <td>1.0</td>\n",
       "      <td>0.0</td>\n",
       "      <td>0.0</td>\n",
       "      <td>0.0</td>\n",
       "      <td>1.0</td>\n",
       "    </tr>\n",
       "  </tbody>\n",
       "</table>\n",
       "<p>5 rows × 38 columns</p>\n",
       "</div>"
      ],
      "text/plain": [
       "      Age  SibSp  Parch     Fare  Total_Members  Multiply  fare_per_person  \\\n",
       "221  21.0      0      0   8.0500              0      63.0         8.050000   \n",
       "152  60.5      0      0   7.8958              0     181.5         7.895800   \n",
       "311  22.0      0      0   7.2250              0      66.0         7.225000   \n",
       "350  45.0      0      1  63.3583              1      45.0        31.679150   \n",
       "356  59.0      2      0  51.4792              2      59.0        17.159733   \n",
       "\n",
       "     Age_Group_2  Age_Group_3  Age_Group_4  ...  Title_Major  Title_Master  \\\n",
       "221          0.0          1.0          0.0  ...          0.0           0.0   \n",
       "152          0.0          0.0          0.0  ...          0.0           0.0   \n",
       "311          0.0          1.0          0.0  ...          0.0           0.0   \n",
       "350          0.0          0.0          1.0  ...          0.0           0.0   \n",
       "356          0.0          0.0          1.0  ...          0.0           0.0   \n",
       "\n",
       "     Title_Miss  Title_Mlle  Title_Mme  Title_Mr  Title_Ms  Title_Rev  \\\n",
       "221         0.0         0.0        0.0       1.0       0.0        0.0   \n",
       "152         0.0         0.0        0.0       1.0       0.0        0.0   \n",
       "311         0.0         0.0        0.0       1.0       0.0        0.0   \n",
       "350         0.0         0.0        0.0       1.0       0.0        0.0   \n",
       "356         0.0         0.0        0.0       1.0       0.0        0.0   \n",
       "\n",
       "     Embarked_Q  Embarked_S  \n",
       "221         0.0         1.0  \n",
       "152         0.0         1.0  \n",
       "311         0.0         0.0  \n",
       "350         0.0         0.0  \n",
       "356         0.0         1.0  \n",
       "\n",
       "[5 rows x 38 columns]"
      ]
     },
     "execution_count": 165,
     "metadata": {},
     "output_type": "execute_result"
    }
   ],
   "source": [
    "test_data = encoder.transform(test_data)\n",
    "test_data.head()"
   ]
  },
  {
   "cell_type": "code",
   "execution_count": 166,
   "metadata": {
    "scrolled": true
   },
   "outputs": [
    {
     "data": {
      "text/html": [
       "<div>\n",
       "<style scoped>\n",
       "    .dataframe tbody tr th:only-of-type {\n",
       "        vertical-align: middle;\n",
       "    }\n",
       "\n",
       "    .dataframe tbody tr th {\n",
       "        vertical-align: top;\n",
       "    }\n",
       "\n",
       "    .dataframe thead th {\n",
       "        text-align: right;\n",
       "    }\n",
       "</style>\n",
       "<table border=\"1\" class=\"dataframe\">\n",
       "  <thead>\n",
       "    <tr style=\"text-align: right;\">\n",
       "      <th></th>\n",
       "      <th>Age</th>\n",
       "      <th>SibSp</th>\n",
       "      <th>Parch</th>\n",
       "      <th>Fare</th>\n",
       "      <th>Total_Members</th>\n",
       "      <th>Multiply</th>\n",
       "      <th>fare_per_person</th>\n",
       "      <th>Age_Group_2</th>\n",
       "      <th>Age_Group_3</th>\n",
       "      <th>Age_Group_4</th>\n",
       "      <th>...</th>\n",
       "      <th>Title_Major</th>\n",
       "      <th>Title_Master</th>\n",
       "      <th>Title_Miss</th>\n",
       "      <th>Title_Mlle</th>\n",
       "      <th>Title_Mme</th>\n",
       "      <th>Title_Mr</th>\n",
       "      <th>Title_Ms</th>\n",
       "      <th>Title_Rev</th>\n",
       "      <th>Embarked_Q</th>\n",
       "      <th>Embarked_S</th>\n",
       "    </tr>\n",
       "  </thead>\n",
       "  <tbody>\n",
       "    <tr>\n",
       "      <th>221</th>\n",
       "      <td>-0.637143</td>\n",
       "      <td>-0.499470</td>\n",
       "      <td>-0.400248</td>\n",
       "      <td>-0.493113</td>\n",
       "      <td>-0.553443</td>\n",
       "      <td>0.093927</td>\n",
       "      <td>-0.385842</td>\n",
       "      <td>0.0</td>\n",
       "      <td>1.0</td>\n",
       "      <td>0.0</td>\n",
       "      <td>...</td>\n",
       "      <td>0.0</td>\n",
       "      <td>0.0</td>\n",
       "      <td>0.0</td>\n",
       "      <td>0.0</td>\n",
       "      <td>0.0</td>\n",
       "      <td>1.0</td>\n",
       "      <td>0.0</td>\n",
       "      <td>0.0</td>\n",
       "      <td>0.0</td>\n",
       "      <td>1.0</td>\n",
       "    </tr>\n",
       "    <tr>\n",
       "      <th>152</th>\n",
       "      <td>2.408121</td>\n",
       "      <td>-0.499470</td>\n",
       "      <td>-0.400248</td>\n",
       "      <td>-0.495877</td>\n",
       "      <td>-0.553443</td>\n",
       "      <td>4.580756</td>\n",
       "      <td>-0.390178</td>\n",
       "      <td>0.0</td>\n",
       "      <td>0.0</td>\n",
       "      <td>0.0</td>\n",
       "      <td>...</td>\n",
       "      <td>0.0</td>\n",
       "      <td>0.0</td>\n",
       "      <td>0.0</td>\n",
       "      <td>0.0</td>\n",
       "      <td>0.0</td>\n",
       "      <td>1.0</td>\n",
       "      <td>0.0</td>\n",
       "      <td>0.0</td>\n",
       "      <td>0.0</td>\n",
       "      <td>1.0</td>\n",
       "    </tr>\n",
       "    <tr>\n",
       "      <th>311</th>\n",
       "      <td>-0.560047</td>\n",
       "      <td>-0.499470</td>\n",
       "      <td>-0.400248</td>\n",
       "      <td>-0.507901</td>\n",
       "      <td>-0.553443</td>\n",
       "      <td>0.207518</td>\n",
       "      <td>-0.409042</td>\n",
       "      <td>0.0</td>\n",
       "      <td>1.0</td>\n",
       "      <td>0.0</td>\n",
       "      <td>...</td>\n",
       "      <td>0.0</td>\n",
       "      <td>0.0</td>\n",
       "      <td>0.0</td>\n",
       "      <td>0.0</td>\n",
       "      <td>0.0</td>\n",
       "      <td>1.0</td>\n",
       "      <td>0.0</td>\n",
       "      <td>0.0</td>\n",
       "      <td>0.0</td>\n",
       "      <td>0.0</td>\n",
       "    </tr>\n",
       "    <tr>\n",
       "      <th>350</th>\n",
       "      <td>1.213144</td>\n",
       "      <td>-0.499470</td>\n",
       "      <td>0.619896</td>\n",
       "      <td>0.498251</td>\n",
       "      <td>0.105643</td>\n",
       "      <td>-0.587617</td>\n",
       "      <td>0.278628</td>\n",
       "      <td>0.0</td>\n",
       "      <td>0.0</td>\n",
       "      <td>1.0</td>\n",
       "      <td>...</td>\n",
       "      <td>0.0</td>\n",
       "      <td>0.0</td>\n",
       "      <td>0.0</td>\n",
       "      <td>0.0</td>\n",
       "      <td>0.0</td>\n",
       "      <td>1.0</td>\n",
       "      <td>0.0</td>\n",
       "      <td>0.0</td>\n",
       "      <td>0.0</td>\n",
       "      <td>0.0</td>\n",
       "    </tr>\n",
       "    <tr>\n",
       "      <th>356</th>\n",
       "      <td>2.292478</td>\n",
       "      <td>1.733455</td>\n",
       "      <td>-0.400248</td>\n",
       "      <td>0.285326</td>\n",
       "      <td>0.764728</td>\n",
       "      <td>-0.057527</td>\n",
       "      <td>-0.129669</td>\n",
       "      <td>0.0</td>\n",
       "      <td>0.0</td>\n",
       "      <td>1.0</td>\n",
       "      <td>...</td>\n",
       "      <td>0.0</td>\n",
       "      <td>0.0</td>\n",
       "      <td>0.0</td>\n",
       "      <td>0.0</td>\n",
       "      <td>0.0</td>\n",
       "      <td>1.0</td>\n",
       "      <td>0.0</td>\n",
       "      <td>0.0</td>\n",
       "      <td>0.0</td>\n",
       "      <td>1.0</td>\n",
       "    </tr>\n",
       "  </tbody>\n",
       "</table>\n",
       "<p>5 rows × 38 columns</p>\n",
       "</div>"
      ],
      "text/plain": [
       "          Age     SibSp     Parch      Fare  Total_Members  Multiply  \\\n",
       "221 -0.637143 -0.499470 -0.400248 -0.493113      -0.553443  0.093927   \n",
       "152  2.408121 -0.499470 -0.400248 -0.495877      -0.553443  4.580756   \n",
       "311 -0.560047 -0.499470 -0.400248 -0.507901      -0.553443  0.207518   \n",
       "350  1.213144 -0.499470  0.619896  0.498251       0.105643 -0.587617   \n",
       "356  2.292478  1.733455 -0.400248  0.285326       0.764728 -0.057527   \n",
       "\n",
       "     fare_per_person  Age_Group_2  Age_Group_3  Age_Group_4  ...  Title_Major  \\\n",
       "221        -0.385842          0.0          1.0          0.0  ...          0.0   \n",
       "152        -0.390178          0.0          0.0          0.0  ...          0.0   \n",
       "311        -0.409042          0.0          1.0          0.0  ...          0.0   \n",
       "350         0.278628          0.0          0.0          1.0  ...          0.0   \n",
       "356        -0.129669          0.0          0.0          1.0  ...          0.0   \n",
       "\n",
       "     Title_Master  Title_Miss  Title_Mlle  Title_Mme  Title_Mr  Title_Ms  \\\n",
       "221           0.0         0.0         0.0        0.0       1.0       0.0   \n",
       "152           0.0         0.0         0.0        0.0       1.0       0.0   \n",
       "311           0.0         0.0         0.0        0.0       1.0       0.0   \n",
       "350           0.0         0.0         0.0        0.0       1.0       0.0   \n",
       "356           0.0         0.0         0.0        0.0       1.0       0.0   \n",
       "\n",
       "     Title_Rev  Embarked_Q  Embarked_S  \n",
       "221        0.0         0.0         1.0  \n",
       "152        0.0         0.0         1.0  \n",
       "311        0.0         0.0         0.0  \n",
       "350        0.0         0.0         0.0  \n",
       "356        0.0         0.0         1.0  \n",
       "\n",
       "[5 rows x 38 columns]"
      ]
     },
     "execution_count": 166,
     "metadata": {},
     "output_type": "execute_result"
    }
   ],
   "source": [
    "test_data[num_columns] = scaler.fit_transform(test_data[num_columns])\n",
    "#test_data = test_data.iloc[:,1:]\n",
    "test_data.head()"
   ]
  },
  {
   "cell_type": "code",
   "execution_count": 64,
   "metadata": {},
   "outputs": [
    {
     "name": "stdout",
     "output_type": "stream",
     "text": [
      "Train Accuracy: 0.8201754385964912\n"
     ]
    }
   ],
   "source": [
    "'''#res = DecisionTreeClassifier(max_depth=4,criterion=\"entropy\").fit(x,y)\n",
    "dataset = dataset.sample(frac=1)\n",
    "\n",
    "\n",
    "y = dataset['Survived']\n",
    "cols_to_drop = ['Survived','PassengerId','Parch', 'Fare','Age_Group', 'SibSp','Multiply','Cabin_Codes']\n",
    "x = dataset.drop(cols_to_drop,axis=1)\n",
    "encoder = CustomeOneHotEncoder(drop=True)\n",
    "x = encoder.fit_transform(x,columns=['Pclass','Sex','Embarked','Title'])\n",
    "scaler = StandardScaler()\n",
    "x[['Total_Members','Age']] = scaler.fit_transform(x[['Total_Members','Age']])\n",
    "x.head()\n",
    "\n",
    "#res = sm.OLS(y,sm.add_constant(x))\n",
    "#res = res.fit()\n",
    "\n",
    "res = LinearRegression(fit_intercept=False)\n",
    "res = res.fit(x,y,)\n",
    "\n",
    "#print('Train Accuracy:', accuracy_score(y_train,res.predict(x_train)))\n",
    "#print('Test Accuracy:', accuracy_score(y_test,res.predict(x_test)))\n",
    "print('Train Accuracy:' ,get_accuracy(x,y,res))\n",
    "#pred_values = res.predict(test_data)\n",
    "l = []\n",
    "for x in res.predict(test_data).round(2):\n",
    "    if x >0.5:\n",
    "        l.append(1)\n",
    "    else:\n",
    "        l.append(0)\n",
    "\n",
    "'''"
   ]
  },
  {
   "cell_type": "code",
   "execution_count": 167,
   "metadata": {},
   "outputs": [],
   "source": [
    "result = pd.DataFrame({\n",
    "                        'PassengerId': passenger_id,\n",
    "                        'Survived': model.predict(test_data)\n",
    "                        })\n",
    "result = result.sort_values(by='PassengerId')"
   ]
  },
  {
   "cell_type": "code",
   "execution_count": 168,
   "metadata": {},
   "outputs": [
    {
     "data": {
      "text/plain": [
       "<matplotlib.axes._subplots.AxesSubplot at 0x20c99abda48>"
      ]
     },
     "execution_count": 168,
     "metadata": {},
     "output_type": "execute_result"
    },
    {
     "data": {
      "image/png": "[encoded data removed]",
      "text/plain": [
       "<Figure size 432x432 with 1 Axes>"
      ]
     },
     "metadata": {},
     "output_type": "display_data"
    }
   ],
   "source": [
    "sns.countplot(result['Survived'])"
   ]
  },
  {
   "cell_type": "code",
   "execution_count": 169,
   "metadata": {},
   "outputs": [
    {
     "data": {
      "text/plain": [
       "(418, 2)"
      ]
     },
     "execution_count": 169,
     "metadata": {},
     "output_type": "execute_result"
    }
   ],
   "source": [
    "result.shape"
   ]
  },
  {
   "cell_type": "code",
   "execution_count": 170,
   "metadata": {},
   "outputs": [],
   "source": [
    "result.to_csv('Prediction_22.csv',index=False)"
   ]
  },
  {
   "cell_type": "code",
   "execution_count": null,
   "metadata": {},
   "outputs": [],
   "source": []
  }
 ],
 "metadata": {
  "kernelspec": {
   "display_name": "Python [conda env:tensorflowenv]",
   "language": "python",
   "name": "conda-env-tensorflowenv-py"
  },
  "language_info": {
   "codemirror_mode": {
    "name": "ipython",
    "version": 3
   },
   "file_extension": ".py",
   "mimetype": "text/x-python",
   "name": "python",
   "nbconvert_exporter": "python",
   "pygments_lexer": "ipython3",
   "version": "3.7.7"
  }
 },
 "nbformat": 4,
 "nbformat_minor": 2
}
