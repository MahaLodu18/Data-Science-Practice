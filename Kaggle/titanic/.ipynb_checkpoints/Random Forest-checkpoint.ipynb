{
 "cells": [
  {
   "cell_type": "code",
   "execution_count": 2,
   "metadata": {},
   "outputs": [],
   "source": [
    "import pandas as pd\n",
    "import numpy as np\n",
    "import matplotlib.pyplot as plt\n",
    "import seaborn as sns\n",
    "sns.set(rc={'figure.figsize':(12,8)})\n",
    "from sklearn.svm import SVC\n",
    "from sklearn.model_selection import train_test_split\n",
    "from sklearn.preprocessing import LabelEncoder,OneHotEncoder,StandardScaler"
   ]
  },
  {
   "cell_type": "code",
   "execution_count": 1,
   "metadata": {},
   "outputs": [],
   "source": [
    "class CustomeOneHotEncoder:\n",
    "    def __init__(self,drop=False):\n",
    "        self.columns_ = None\n",
    "        self.drop_ = drop\n",
    "        self.encoder = OneHotEncoder()\n",
    "        \n",
    "    def fit(self,data,columns):\n",
    "        self.columns_ = columns\n",
    "        self.encoder.fit(data[self.columns_])\n",
    "    \n",
    "    def fit_transform(self,data,columns):\n",
    "        self.fit(data,columns)\n",
    "        return self.transform(data)\n",
    "    \n",
    "    def transform(self,data):\n",
    "        feature_array = self.encoder.transform(data[self.columns_]).toarray()\n",
    "        feature_label = self.encoder.categories_\n",
    "        new_feature_label = []\n",
    "        for x,y in zip(self.columns_,feature_label):\n",
    "            new_feature_label.append([x+'_'+str(z) for z in y])\n",
    "\n",
    "        final_feature_label= np.concatenate([x for x in new_feature_label])\n",
    "        encoded_df = pd.DataFrame(feature_array,columns=final_feature_label,index = data.index)\n",
    "\n",
    "        if self.drop_:\n",
    "            cols_to_drop = [x[0] for x in new_feature_label]\n",
    "            encoded_df = encoded_df.drop(cols_to_drop,axis=1)\n",
    "        data = data.drop(self.columns_,axis=1)   \n",
    "        #return encoded_df\n",
    "        return pd.concat([data,encoded_df],axis=1)\n",
    "    \n"
   ]
  },
  {
   "cell_type": "code",
   "execution_count": 2,
   "metadata": {},
   "outputs": [
    {
     "ename": "NameError",
     "evalue": "name 'pd' is not defined",
     "output_type": "error",
     "traceback": [
      "\u001b[1;31m---------------------------------------------------------------------------\u001b[0m",
      "\u001b[1;31mNameError\u001b[0m                                 Traceback (most recent call last)",
      "\u001b[1;32m<ipython-input-2-40ab338e6212>\u001b[0m in \u001b[0;36m<module>\u001b[1;34m\u001b[0m\n\u001b[1;32m----> 1\u001b[1;33m \u001b[0mdata\u001b[0m \u001b[1;33m=\u001b[0m \u001b[0mpd\u001b[0m\u001b[1;33m.\u001b[0m\u001b[0mread_csv\u001b[0m\u001b[1;33m(\u001b[0m\u001b[1;34m'train_1.csv'\u001b[0m\u001b[1;33m)\u001b[0m\u001b[1;33m\u001b[0m\u001b[1;33m\u001b[0m\u001b[0m\n\u001b[0m\u001b[0;32m      2\u001b[0m \u001b[0mdataset\u001b[0m\u001b[1;33m=\u001b[0m \u001b[0mdata\u001b[0m\u001b[1;33m.\u001b[0m\u001b[0mcopy\u001b[0m\u001b[1;33m(\u001b[0m\u001b[1;33m)\u001b[0m\u001b[1;33m\u001b[0m\u001b[1;33m\u001b[0m\u001b[0m\n\u001b[0;32m      3\u001b[0m \u001b[0mdata\u001b[0m\u001b[1;33m.\u001b[0m\u001b[0mhead\u001b[0m\u001b[1;33m(\u001b[0m\u001b[1;33m)\u001b[0m\u001b[1;33m\u001b[0m\u001b[1;33m\u001b[0m\u001b[0m\n",
      "\u001b[1;31mNameError\u001b[0m: name 'pd' is not defined"
     ]
    }
   ],
   "source": [
    "data = pd.read_csv('train_1.csv')\n",
    "dataset= data.copy()\n",
    "data.head()"
   ]
  },
  {
   "cell_type": "code",
   "execution_count": 17,
   "metadata": {},
   "outputs": [
    {
     "data": {
      "text/html": [
       "<div>\n",
       "<style scoped>\n",
       "    .dataframe tbody tr th:only-of-type {\n",
       "        vertical-align: middle;\n",
       "    }\n",
       "\n",
       "    .dataframe tbody tr th {\n",
       "        vertical-align: top;\n",
       "    }\n",
       "\n",
       "    .dataframe thead th {\n",
       "        text-align: right;\n",
       "    }\n",
       "</style>\n",
       "<table border=\"1\" class=\"dataframe\">\n",
       "  <thead>\n",
       "    <tr style=\"text-align: right;\">\n",
       "      <th></th>\n",
       "      <th>PassengerId</th>\n",
       "      <th>Survived</th>\n",
       "      <th>Pclass</th>\n",
       "      <th>Sex</th>\n",
       "      <th>Age</th>\n",
       "      <th>SibSp</th>\n",
       "      <th>Parch</th>\n",
       "      <th>Fare</th>\n",
       "      <th>Embarked</th>\n",
       "      <th>Cabin_Provided</th>\n",
       "      <th>Title</th>\n",
       "      <th>Age_Group</th>\n",
       "      <th>Fare_Group</th>\n",
       "      <th>Total_Members</th>\n",
       "      <th>Age_Class</th>\n",
       "      <th>fare_per_person</th>\n",
       "      <th>Alone</th>\n",
       "    </tr>\n",
       "  </thead>\n",
       "  <tbody>\n",
       "    <tr>\n",
       "      <th>0</th>\n",
       "      <td>1</td>\n",
       "      <td>0</td>\n",
       "      <td>3</td>\n",
       "      <td>1</td>\n",
       "      <td>22.0</td>\n",
       "      <td>1</td>\n",
       "      <td>0</td>\n",
       "      <td>0.916454</td>\n",
       "      <td>1</td>\n",
       "      <td>0</td>\n",
       "      <td>1</td>\n",
       "      <td>5</td>\n",
       "      <td>1</td>\n",
       "      <td>1</td>\n",
       "      <td>66.0</td>\n",
       "      <td>0.000000</td>\n",
       "      <td>0</td>\n",
       "    </tr>\n",
       "    <tr>\n",
       "      <th>11</th>\n",
       "      <td>13</td>\n",
       "      <td>0</td>\n",
       "      <td>3</td>\n",
       "      <td>1</td>\n",
       "      <td>20.0</td>\n",
       "      <td>0</td>\n",
       "      <td>0</td>\n",
       "      <td>0.956649</td>\n",
       "      <td>1</td>\n",
       "      <td>0</td>\n",
       "      <td>1</td>\n",
       "      <td>5</td>\n",
       "      <td>1</td>\n",
       "      <td>0</td>\n",
       "      <td>60.0</td>\n",
       "      <td>0.956649</td>\n",
       "      <td>1</td>\n",
       "    </tr>\n",
       "    <tr>\n",
       "      <th>23</th>\n",
       "      <td>28</td>\n",
       "      <td>0</td>\n",
       "      <td>1</td>\n",
       "      <td>1</td>\n",
       "      <td>19.0</td>\n",
       "      <td>3</td>\n",
       "      <td>2</td>\n",
       "      <td>2.421604</td>\n",
       "      <td>1</td>\n",
       "      <td>1</td>\n",
       "      <td>1</td>\n",
       "      <td>5</td>\n",
       "      <td>4</td>\n",
       "      <td>5</td>\n",
       "      <td>19.0</td>\n",
       "      <td>0.000000</td>\n",
       "      <td>0</td>\n",
       "    </tr>\n",
       "    <tr>\n",
       "      <th>27</th>\n",
       "      <td>38</td>\n",
       "      <td>0</td>\n",
       "      <td>3</td>\n",
       "      <td>1</td>\n",
       "      <td>21.0</td>\n",
       "      <td>0</td>\n",
       "      <td>0</td>\n",
       "      <td>0.956649</td>\n",
       "      <td>1</td>\n",
       "      <td>0</td>\n",
       "      <td>1</td>\n",
       "      <td>5</td>\n",
       "      <td>1</td>\n",
       "      <td>0</td>\n",
       "      <td>63.0</td>\n",
       "      <td>0.956649</td>\n",
       "      <td>1</td>\n",
       "    </tr>\n",
       "    <tr>\n",
       "      <th>36</th>\n",
       "      <td>52</td>\n",
       "      <td>0</td>\n",
       "      <td>3</td>\n",
       "      <td>1</td>\n",
       "      <td>21.0</td>\n",
       "      <td>0</td>\n",
       "      <td>0</td>\n",
       "      <td>0.944483</td>\n",
       "      <td>1</td>\n",
       "      <td>0</td>\n",
       "      <td>1</td>\n",
       "      <td>5</td>\n",
       "      <td>1</td>\n",
       "      <td>0</td>\n",
       "      <td>63.0</td>\n",
       "      <td>0.944483</td>\n",
       "      <td>1</td>\n",
       "    </tr>\n",
       "    <tr>\n",
       "      <th>...</th>\n",
       "      <td>...</td>\n",
       "      <td>...</td>\n",
       "      <td>...</td>\n",
       "      <td>...</td>\n",
       "      <td>...</td>\n",
       "      <td>...</td>\n",
       "      <td>...</td>\n",
       "      <td>...</td>\n",
       "      <td>...</td>\n",
       "      <td>...</td>\n",
       "      <td>...</td>\n",
       "      <td>...</td>\n",
       "      <td>...</td>\n",
       "      <td>...</td>\n",
       "      <td>...</td>\n",
       "      <td>...</td>\n",
       "      <td>...</td>\n",
       "    </tr>\n",
       "    <tr>\n",
       "      <th>680</th>\n",
       "      <td>862</td>\n",
       "      <td>0</td>\n",
       "      <td>2</td>\n",
       "      <td>1</td>\n",
       "      <td>21.0</td>\n",
       "      <td>1</td>\n",
       "      <td>0</td>\n",
       "      <td>1.096910</td>\n",
       "      <td>1</td>\n",
       "      <td>0</td>\n",
       "      <td>1</td>\n",
       "      <td>5</td>\n",
       "      <td>2</td>\n",
       "      <td>1</td>\n",
       "      <td>42.0</td>\n",
       "      <td>0.000000</td>\n",
       "      <td>0</td>\n",
       "    </tr>\n",
       "    <tr>\n",
       "      <th>682</th>\n",
       "      <td>865</td>\n",
       "      <td>0</td>\n",
       "      <td>2</td>\n",
       "      <td>1</td>\n",
       "      <td>24.0</td>\n",
       "      <td>0</td>\n",
       "      <td>0</td>\n",
       "      <td>1.146128</td>\n",
       "      <td>1</td>\n",
       "      <td>0</td>\n",
       "      <td>1</td>\n",
       "      <td>5</td>\n",
       "      <td>2</td>\n",
       "      <td>0</td>\n",
       "      <td>48.0</td>\n",
       "      <td>1.146128</td>\n",
       "      <td>1</td>\n",
       "    </tr>\n",
       "    <tr>\n",
       "      <th>693</th>\n",
       "      <td>877</td>\n",
       "      <td>0</td>\n",
       "      <td>3</td>\n",
       "      <td>1</td>\n",
       "      <td>20.0</td>\n",
       "      <td>0</td>\n",
       "      <td>0</td>\n",
       "      <td>1.035262</td>\n",
       "      <td>1</td>\n",
       "      <td>0</td>\n",
       "      <td>1</td>\n",
       "      <td>5</td>\n",
       "      <td>2</td>\n",
       "      <td>0</td>\n",
       "      <td>60.0</td>\n",
       "      <td>1.035262</td>\n",
       "      <td>1</td>\n",
       "    </tr>\n",
       "    <tr>\n",
       "      <th>694</th>\n",
       "      <td>878</td>\n",
       "      <td>0</td>\n",
       "      <td>3</td>\n",
       "      <td>1</td>\n",
       "      <td>19.0</td>\n",
       "      <td>0</td>\n",
       "      <td>0</td>\n",
       "      <td>0.949185</td>\n",
       "      <td>1</td>\n",
       "      <td>0</td>\n",
       "      <td>1</td>\n",
       "      <td>5</td>\n",
       "      <td>1</td>\n",
       "      <td>0</td>\n",
       "      <td>57.0</td>\n",
       "      <td>0.949185</td>\n",
       "      <td>1</td>\n",
       "    </tr>\n",
       "    <tr>\n",
       "      <th>698</th>\n",
       "      <td>883</td>\n",
       "      <td>0</td>\n",
       "      <td>3</td>\n",
       "      <td>2</td>\n",
       "      <td>22.0</td>\n",
       "      <td>0</td>\n",
       "      <td>0</td>\n",
       "      <td>1.061328</td>\n",
       "      <td>1</td>\n",
       "      <td>0</td>\n",
       "      <td>2</td>\n",
       "      <td>5</td>\n",
       "      <td>2</td>\n",
       "      <td>0</td>\n",
       "      <td>66.0</td>\n",
       "      <td>1.061328</td>\n",
       "      <td>1</td>\n",
       "    </tr>\n",
       "  </tbody>\n",
       "</table>\n",
       "<p>91 rows × 17 columns</p>\n",
       "</div>"
      ],
      "text/plain": [
       "     PassengerId  Survived  Pclass  Sex   Age  SibSp  Parch      Fare  \\\n",
       "0              1         0       3    1  22.0      1      0  0.916454   \n",
       "11            13         0       3    1  20.0      0      0  0.956649   \n",
       "23            28         0       1    1  19.0      3      2  2.421604   \n",
       "27            38         0       3    1  21.0      0      0  0.956649   \n",
       "36            52         0       3    1  21.0      0      0  0.944483   \n",
       "..           ...       ...     ...  ...   ...    ...    ...       ...   \n",
       "680          862         0       2    1  21.0      1      0  1.096910   \n",
       "682          865         0       2    1  24.0      0      0  1.146128   \n",
       "693          877         0       3    1  20.0      0      0  1.035262   \n",
       "694          878         0       3    1  19.0      0      0  0.949185   \n",
       "698          883         0       3    2  22.0      0      0  1.061328   \n",
       "\n",
       "     Embarked  Cabin_Provided  Title  Age_Group  Fare_Group  Total_Members  \\\n",
       "0           1               0      1          5           1              1   \n",
       "11          1               0      1          5           1              0   \n",
       "23          1               1      1          5           4              5   \n",
       "27          1               0      1          5           1              0   \n",
       "36          1               0      1          5           1              0   \n",
       "..        ...             ...    ...        ...         ...            ...   \n",
       "680         1               0      1          5           2              1   \n",
       "682         1               0      1          5           2              0   \n",
       "693         1               0      1          5           2              0   \n",
       "694         1               0      1          5           1              0   \n",
       "698         1               0      2          5           2              0   \n",
       "\n",
       "     Age_Class  fare_per_person  Alone  \n",
       "0         66.0         0.000000      0  \n",
       "11        60.0         0.956649      1  \n",
       "23        19.0         0.000000      0  \n",
       "27        63.0         0.956649      1  \n",
       "36        63.0         0.944483      1  \n",
       "..         ...              ...    ...  \n",
       "680       42.0         0.000000      0  \n",
       "682       48.0         1.146128      1  \n",
       "693       60.0         1.035262      1  \n",
       "694       57.0         0.949185      1  \n",
       "698       66.0         1.061328      1  \n",
       "\n",
       "[91 rows x 17 columns]"
      ]
     },
     "execution_count": 17,
     "metadata": {},
     "output_type": "execute_result"
    }
   ],
   "source": [
    "dataset[(dataset.Age_Group == 5) & (dataset.Survived == 0)]"
   ]
  },
  {
   "cell_type": "code",
   "execution_count": 10,
   "metadata": {},
   "outputs": [],
   "source": [
    "dataset['temp']=(2*dataset['Pclass']*dataset['Alone'])"
   ]
  },
  {
   "cell_type": "code",
   "execution_count": 11,
   "metadata": {},
   "outputs": [
    {
     "name": "stdout",
     "output_type": "stream",
     "text": [
      "All Columns : ['PassengerId' 'Survived' 'Pclass' 'Sex' 'Age' 'SibSp' 'Parch' 'Fare'\n",
      " 'Embarked' 'Cabin_Provided' 'Title' 'Age_Group' 'Fare_Group'\n",
      " 'Total_Members' 'Age_Class' 'fare_per_person' 'Alone' 'temp']\n",
      " Dropped Columns : ['Survived', 'PassengerId', 'Age', 'SibSp', 'Parch', 'Fare', 'Fare_Group', 'Alone']\n",
      "Cateogrical Columns : ['Sex', 'Age_Group', 'Title', 'Pclass', 'Cabin_Provided', 'Embarked'] \n",
      " Numerical Columns : ['Age_Class', 'temp', 'fare_per_person', 'Total_Members']\n"
     ]
    },
    {
     "data": {
      "text/html": [
       "<div>\n",
       "<style scoped>\n",
       "    .dataframe tbody tr th:only-of-type {\n",
       "        vertical-align: middle;\n",
       "    }\n",
       "\n",
       "    .dataframe tbody tr th {\n",
       "        vertical-align: top;\n",
       "    }\n",
       "\n",
       "    .dataframe thead th {\n",
       "        text-align: right;\n",
       "    }\n",
       "</style>\n",
       "<table border=\"1\" class=\"dataframe\">\n",
       "  <thead>\n",
       "    <tr style=\"text-align: right;\">\n",
       "      <th></th>\n",
       "      <th>Pclass</th>\n",
       "      <th>Sex</th>\n",
       "      <th>Embarked</th>\n",
       "      <th>Cabin_Provided</th>\n",
       "      <th>Title</th>\n",
       "      <th>Age_Group</th>\n",
       "      <th>Total_Members</th>\n",
       "      <th>Age_Class</th>\n",
       "      <th>fare_per_person</th>\n",
       "      <th>temp</th>\n",
       "    </tr>\n",
       "  </thead>\n",
       "  <tbody>\n",
       "    <tr>\n",
       "      <th>0</th>\n",
       "      <td>3</td>\n",
       "      <td>1</td>\n",
       "      <td>1</td>\n",
       "      <td>0</td>\n",
       "      <td>1</td>\n",
       "      <td>5</td>\n",
       "      <td>1</td>\n",
       "      <td>66.0</td>\n",
       "      <td>0.000000</td>\n",
       "      <td>0</td>\n",
       "    </tr>\n",
       "    <tr>\n",
       "      <th>1</th>\n",
       "      <td>1</td>\n",
       "      <td>2</td>\n",
       "      <td>2</td>\n",
       "      <td>1</td>\n",
       "      <td>3</td>\n",
       "      <td>7</td>\n",
       "      <td>1</td>\n",
       "      <td>38.0</td>\n",
       "      <td>0.000000</td>\n",
       "      <td>0</td>\n",
       "    </tr>\n",
       "    <tr>\n",
       "      <th>2</th>\n",
       "      <td>3</td>\n",
       "      <td>2</td>\n",
       "      <td>1</td>\n",
       "      <td>0</td>\n",
       "      <td>2</td>\n",
       "      <td>6</td>\n",
       "      <td>0</td>\n",
       "      <td>78.0</td>\n",
       "      <td>0.950608</td>\n",
       "      <td>6</td>\n",
       "    </tr>\n",
       "    <tr>\n",
       "      <th>3</th>\n",
       "      <td>1</td>\n",
       "      <td>2</td>\n",
       "      <td>1</td>\n",
       "      <td>1</td>\n",
       "      <td>3</td>\n",
       "      <td>7</td>\n",
       "      <td>1</td>\n",
       "      <td>35.0</td>\n",
       "      <td>0.000000</td>\n",
       "      <td>0</td>\n",
       "    </tr>\n",
       "    <tr>\n",
       "      <th>4</th>\n",
       "      <td>3</td>\n",
       "      <td>1</td>\n",
       "      <td>1</td>\n",
       "      <td>0</td>\n",
       "      <td>1</td>\n",
       "      <td>7</td>\n",
       "      <td>0</td>\n",
       "      <td>105.0</td>\n",
       "      <td>0.956649</td>\n",
       "      <td>6</td>\n",
       "    </tr>\n",
       "  </tbody>\n",
       "</table>\n",
       "</div>"
      ],
      "text/plain": [
       "   Pclass  Sex  Embarked  Cabin_Provided  Title  Age_Group  Total_Members  \\\n",
       "0       3    1         1               0      1          5              1   \n",
       "1       1    2         2               1      3          7              1   \n",
       "2       3    2         1               0      2          6              0   \n",
       "3       1    2         1               1      3          7              1   \n",
       "4       3    1         1               0      1          7              0   \n",
       "\n",
       "   Age_Class  fare_per_person  temp  \n",
       "0       66.0         0.000000     0  \n",
       "1       38.0         0.000000     0  \n",
       "2       78.0         0.950608     6  \n",
       "3       35.0         0.000000     0  \n",
       "4      105.0         0.956649     6  "
      ]
     },
     "execution_count": 11,
     "metadata": {},
     "output_type": "execute_result"
    }
   ],
   "source": [
    "y = dataset['Survived']\n",
    "print('All Columns : {}'.format(dataset.columns.values))\n",
    "#cols_to_drop = ['Survived','PassengerId']\n",
    "cols_to_drop = ['Survived','PassengerId', 'Age', 'SibSp', 'Parch','Fare',  'Fare_Group','Alone']\n",
    "cols_to_inc = list(set(dataset.columns) - set(cols_to_drop))\n",
    "print(' Dropped Columns : {}'.format(cols_to_drop))\n",
    "\n",
    "x = dataset.drop(cols_to_drop,axis=1)\n",
    "cat_columns = []\n",
    "cat_columns = ['Sex', 'Age_Group', 'Title','Pclass','Cabin_Provided','Embarked']\n",
    "#cat_columns = ['Sex','Pclass','Title',]\n",
    "num_columns = list(set(x.columns)- set(cat_columns))\n",
    "print('Cateogrical Columns : {} \\n Numerical Columns : {}'.format(cat_columns,num_columns))\n",
    "x.head()"
   ]
  },
  {
   "cell_type": "code",
   "execution_count": 12,
   "metadata": {},
   "outputs": [
    {
     "data": {
      "text/plain": [
       "Pclass             0\n",
       "Sex                0\n",
       "Embarked           0\n",
       "Cabin_Provided     0\n",
       "Title              0\n",
       "Age_Group          0\n",
       "Total_Members      0\n",
       "Age_Class          0\n",
       "fare_per_person    0\n",
       "temp               0\n",
       "dtype: int64"
      ]
     },
     "execution_count": 12,
     "metadata": {},
     "output_type": "execute_result"
    }
   ],
   "source": [
    "x.isna().sum()"
   ]
  },
  {
   "cell_type": "code",
   "execution_count": 13,
   "metadata": {},
   "outputs": [
    {
     "data": {
      "text/plain": [
       "'encoder = CustomeOneHotEncoder(drop=True)\\nx = encoder.fit_transform(x,columns=cat_columns)\\nx'"
      ]
     },
     "execution_count": 13,
     "metadata": {},
     "output_type": "execute_result"
    }
   ],
   "source": [
    "'''encoder = CustomeOneHotEncoder(drop=True)\n",
    "x = encoder.fit_transform(x,columns=cat_columns)\n",
    "x'''"
   ]
  },
  {
   "cell_type": "code",
   "execution_count": 14,
   "metadata": {},
   "outputs": [
    {
     "data": {
      "text/plain": [
       "array([[ 0.90629943, -0.76584388, -0.50232741, ...,  0.14333403,\n",
       "        -1.05650911, -1.00705974],\n",
       "       [-1.48565346,  1.30574915,  1.42508102, ..., -0.69753037,\n",
       "        -1.05650911, -1.00705974],\n",
       "       [ 0.90629943,  1.30574915, -0.50232741, ...,  0.50370449,\n",
       "         0.45487246,  1.27661535],\n",
       "       ...,\n",
       "       [-1.48565346,  1.30574915, -0.50232741, ..., -1.26811693,\n",
       "         1.31462184, -0.24583471],\n",
       "       [-1.48565346, -0.76584388,  1.42508102, ..., -1.05790083,\n",
       "         1.31462184, -0.24583471],\n",
       "       [ 0.90629943, -0.76584388,  3.35248945, ...,  1.04426017,\n",
       "         0.44119896,  1.27661535]])"
      ]
     },
     "execution_count": 14,
     "metadata": {},
     "output_type": "execute_result"
    }
   ],
   "source": [
    "from statsmodels.stats.outliers_influence import variance_inflation_factor\n",
    "scaler = StandardScaler()\n",
    "#x.loc[:,num_columns] = scaler.fit_transform(x[num_columns])\n",
    "x = scaler.fit_transform(x)\n",
    "x"
   ]
  },
  {
   "cell_type": "code",
   "execution_count": 15,
   "metadata": {
    "scrolled": true
   },
   "outputs": [],
   "source": [
    "vif = pd.DataFrame()\n",
    "vif[\"variables\"] = cols_to_inc\n",
    "vif[\"VIF\"] = [variance_inflation_factor(x, i) for i in range(len(cols_to_inc))]"
   ]
  },
  {
   "cell_type": "code",
   "execution_count": 16,
   "metadata": {},
   "outputs": [
    {
     "data": {
      "text/html": [
       "<div>\n",
       "<style scoped>\n",
       "    .dataframe tbody tr th:only-of-type {\n",
       "        vertical-align: middle;\n",
       "    }\n",
       "\n",
       "    .dataframe tbody tr th {\n",
       "        vertical-align: top;\n",
       "    }\n",
       "\n",
       "    .dataframe thead th {\n",
       "        text-align: right;\n",
       "    }\n",
       "</style>\n",
       "<table border=\"1\" class=\"dataframe\">\n",
       "  <thead>\n",
       "    <tr style=\"text-align: right;\">\n",
       "      <th></th>\n",
       "      <th>variables</th>\n",
       "      <th>VIF</th>\n",
       "    </tr>\n",
       "  </thead>\n",
       "  <tbody>\n",
       "    <tr>\n",
       "      <th>0</th>\n",
       "      <td>Sex</td>\n",
       "      <td>7.792822</td>\n",
       "    </tr>\n",
       "    <tr>\n",
       "      <th>1</th>\n",
       "      <td>Cabin_Provided</td>\n",
       "      <td>1.304861</td>\n",
       "    </tr>\n",
       "    <tr>\n",
       "      <th>2</th>\n",
       "      <td>fare_per_person</td>\n",
       "      <td>1.037417</td>\n",
       "    </tr>\n",
       "    <tr>\n",
       "      <th>3</th>\n",
       "      <td>Pclass</td>\n",
       "      <td>2.269778</td>\n",
       "    </tr>\n",
       "    <tr>\n",
       "      <th>4</th>\n",
       "      <td>Age_Group</td>\n",
       "      <td>1.433339</td>\n",
       "    </tr>\n",
       "    <tr>\n",
       "      <th>5</th>\n",
       "      <td>temp</td>\n",
       "      <td>7.353817</td>\n",
       "    </tr>\n",
       "    <tr>\n",
       "      <th>6</th>\n",
       "      <td>Title</td>\n",
       "      <td>2.552553</td>\n",
       "    </tr>\n",
       "    <tr>\n",
       "      <th>7</th>\n",
       "      <td>Total_Members</td>\n",
       "      <td>8.127952</td>\n",
       "    </tr>\n",
       "    <tr>\n",
       "      <th>8</th>\n",
       "      <td>Embarked</td>\n",
       "      <td>2.823651</td>\n",
       "    </tr>\n",
       "    <tr>\n",
       "      <th>9</th>\n",
       "      <td>Age_Class</td>\n",
       "      <td>4.929371</td>\n",
       "    </tr>\n",
       "  </tbody>\n",
       "</table>\n",
       "</div>"
      ],
      "text/plain": [
       "         variables       VIF\n",
       "0              Sex  7.792822\n",
       "1   Cabin_Provided  1.304861\n",
       "2  fare_per_person  1.037417\n",
       "3           Pclass  2.269778\n",
       "4        Age_Group  1.433339\n",
       "5             temp  7.353817\n",
       "6            Title  2.552553\n",
       "7    Total_Members  8.127952\n",
       "8         Embarked  2.823651\n",
       "9        Age_Class  4.929371"
      ]
     },
     "execution_count": 16,
     "metadata": {},
     "output_type": "execute_result"
    }
   ],
   "source": [
    "vif"
   ]
  },
  {
   "cell_type": "code",
   "execution_count": 17,
   "metadata": {},
   "outputs": [],
   "source": [
    "x_train,x_test,y_train,y_test = train_test_split(x,y,test_size=0.2,stratify=y,random_state=33)"
   ]
  },
  {
   "cell_type": "code",
   "execution_count": 18,
   "metadata": {},
   "outputs": [
    {
     "data": {
      "text/plain": [
       "(0.4095744680851064, 0.4084507042253521)"
      ]
     },
     "execution_count": 18,
     "metadata": {},
     "output_type": "execute_result"
    }
   ],
   "source": [
    "y_train.sum()/y_train.shape[0],y_test.sum()/y_test.shape[0]"
   ]
  },
  {
   "cell_type": "code",
   "execution_count": 20,
   "metadata": {},
   "outputs": [],
   "source": [
    "clf = SVC(probability=True,kernel='rbf')\n",
    "clf =clf.fit(x_train,y_train)"
   ]
  },
  {
   "cell_type": "code",
   "execution_count": 21,
   "metadata": {},
   "outputs": [],
   "source": [
    "y_pred = clf.predict(x_test)\n",
    "y_proba = clf.predict_proba(x_test)[:,1]"
   ]
  },
  {
   "cell_type": "code",
   "execution_count": 22,
   "metadata": {},
   "outputs": [],
   "source": [
    "from sklearn.metrics import f1_score,roc_auc_score,roc_curve,recall_score,precision_score,confusion_matrix,accuracy_score,classification_report,precision_recall_curve,average_precision_score"
   ]
  },
  {
   "cell_type": "code",
   "execution_count": 23,
   "metadata": {
    "scrolled": true
   },
   "outputs": [
    {
     "name": "stdout",
     "output_type": "stream",
     "text": [
      "Train Accuracy : 83.50999999999999 ROC : 89.89\n",
      "Test Accuracy : 83.1 ROC : 89.05999999999999\n"
     ]
    }
   ],
   "source": [
    "print('Train Accuracy :', accuracy_score(y_train,clf.predict(x_train)).round(4)*100,'ROC :', roc_auc_score(y_train,clf.predict_proba(x_train)[:,1]).round(4)*100)\n",
    "print('Test Accuracy :', accuracy_score(y_test,y_pred).round(4)*100,'ROC :', roc_auc_score(y_test,y_proba).round(4)*100)"
   ]
  },
  {
   "cell_type": "code",
   "execution_count": 24,
   "metadata": {},
   "outputs": [
    {
     "name": "stdout",
     "output_type": "stream",
     "text": [
      "--confusion Matrix--\n",
      "[[81  3]\n",
      " [21 37]]\n",
      "--classification report--\n",
      "              precision    recall  f1-score   support\n",
      "\n",
      "           0       0.79      0.96      0.87        84\n",
      "           1       0.93      0.64      0.76        58\n",
      "\n",
      "    accuracy                           0.83       142\n",
      "   macro avg       0.86      0.80      0.81       142\n",
      "weighted avg       0.85      0.83      0.82       142\n",
      "\n"
     ]
    }
   ],
   "source": [
    "print('--confusion Matrix--')\n",
    "cm =confusion_matrix(y_test,y_pred,labels=[0,1])\n",
    "print(cm)\n",
    "\n",
    "print('--classification report--')\n",
    "print(classification_report(y_test,y_pred,labels=[0,1]))\n"
   ]
  },
  {
   "cell_type": "code",
   "execution_count": 25,
   "metadata": {},
   "outputs": [
    {
     "data": {
      "text/plain": [
       "0.7551020408163266"
      ]
     },
     "execution_count": 25,
     "metadata": {},
     "output_type": "execute_result"
    }
   ],
   "source": [
    "f1_score(y_test,y_pred)"
   ]
  },
  {
   "cell_type": "code",
   "execution_count": 27,
   "metadata": {},
   "outputs": [
    {
     "data": {
      "text/plain": [
       "[Text(0, 0.5, 'Recall'), Text(0.5, 0, 'Precision')]"
      ]
     },
     "execution_count": 27,
     "metadata": {},
     "output_type": "execute_result"
    },
    {
     "data": {
      "image/png": "[encoded data removed]",
      "text/plain": [
       "<Figure size 432x432 with 1 Axes>"
      ]
     },
     "metadata": {},
     "output_type": "display_data"
    }
   ],
   "source": [
    "fig,axes = plt.subplots(1,2,figsize=(12,6))\n",
    "fpr,tpr,threshold = roc_curve(y_test,y_proba)\n",
    "#sns.set(rc={'figure.figsize':(12,12)},font_scale=1.3)\n",
    "area = roc_auc_score(y_test,y_proba)\n",
    "f1 = sns.lineplot(fpr,tpr,label='ROC curve (area = {}) '.format(area.round(4)*100) , ax=axes[0])\n",
    "sns.lineplot(x=[0,1],y=[0,1],markers='--',ax=axes[0])\n",
    "f1.set(xlabel='False Positive Rate',ylabel='True Positive Rate')\n",
    "\n",
    "pr, rc, thresholds = precision_recall_curve(y_test, y_proba)\n",
    "sns.set(rc={'figure.figsize':(6,6)},font_scale=1.3)\n",
    "area = average_precision_score(y_test,y_proba)\n",
    "f2 =sns.lineplot(pr,rc,label='AUPRC {}'.format(area.round(4)*100),ax=axes[1])\n",
    "f2.set(xlabel='Precision',ylabel='Recall')"
   ]
  },
  {
   "cell_type": "code",
   "execution_count": 28,
   "metadata": {},
   "outputs": [],
   "source": [
    "from sklearn.model_selection import cross_validate,StratifiedKFold,GridSearchCV"
   ]
  },
  {
   "cell_type": "code",
   "execution_count": 29,
   "metadata": {},
   "outputs": [],
   "source": [
    "scv = StratifiedKFold(4,random_state=33, shuffle=True)"
   ]
  },
  {
   "cell_type": "code",
   "execution_count": 30,
   "metadata": {},
   "outputs": [
    {
     "name": "stderr",
     "output_type": "stream",
     "text": [
      "[Parallel(n_jobs=3)]: Using backend LokyBackend with 3 concurrent workers.\n",
      "[Parallel(n_jobs=3)]: Done   4 out of   4 | elapsed:    3.8s remaining:    0.0s\n",
      "[Parallel(n_jobs=3)]: Done   4 out of   4 | elapsed:    3.8s finished\n"
     ]
    }
   ],
   "source": [
    "cv_score =cross_validate(clf,x,y,scoring=['roc_auc','accuracy','f1_weighted'],cv=scv,n_jobs=3,verbose=1)"
   ]
  },
  {
   "cell_type": "code",
   "execution_count": 31,
   "metadata": {},
   "outputs": [
    {
     "data": {
      "text/plain": [
       "{'fit_time': array([0.08377528, 0.06832933, 0.07879019, 0.05585122]),\n",
       " 'score_time': array([0.00797915, 0.07180882, 0.00698042, 0.00797796]),\n",
       " 'test_roc_auc': array([0.86349206, 0.840951  , 0.8502938 , 0.85576923]),\n",
       " 'test_accuracy': array([0.83615819, 0.8079096 , 0.82954545, 0.8125    ]),\n",
       " 'test_f1_weighted': array([0.8320939 , 0.80701628, 0.82768865, 0.80945514])}"
      ]
     },
     "execution_count": 31,
     "metadata": {},
     "output_type": "execute_result"
    }
   ],
   "source": [
    "cv_score"
   ]
  },
  {
   "cell_type": "code",
   "execution_count": 32,
   "metadata": {},
   "outputs": [
    {
     "data": {
      "text/html": [
       "<div>\n",
       "<style scoped>\n",
       "    .dataframe tbody tr th:only-of-type {\n",
       "        vertical-align: middle;\n",
       "    }\n",
       "\n",
       "    .dataframe tbody tr th {\n",
       "        vertical-align: top;\n",
       "    }\n",
       "\n",
       "    .dataframe thead th {\n",
       "        text-align: right;\n",
       "    }\n",
       "</style>\n",
       "<table border=\"1\" class=\"dataframe\">\n",
       "  <thead>\n",
       "    <tr style=\"text-align: right;\">\n",
       "      <th></th>\n",
       "      <th>ROC_AUC</th>\n",
       "      <th>Accuracy</th>\n",
       "    </tr>\n",
       "  </thead>\n",
       "  <tbody>\n",
       "    <tr>\n",
       "      <th>Mean</th>\n",
       "      <td>85.26</td>\n",
       "      <td>82.15</td>\n",
       "    </tr>\n",
       "    <tr>\n",
       "      <th>Std</th>\n",
       "      <td>0.82</td>\n",
       "      <td>1.17</td>\n",
       "    </tr>\n",
       "    <tr>\n",
       "      <th>Min</th>\n",
       "      <td>84.10</td>\n",
       "      <td>80.79</td>\n",
       "    </tr>\n",
       "    <tr>\n",
       "      <th>Max</th>\n",
       "      <td>86.35</td>\n",
       "      <td>83.62</td>\n",
       "    </tr>\n",
       "  </tbody>\n",
       "</table>\n",
       "</div>"
      ],
      "text/plain": [
       "      ROC_AUC  Accuracy\n",
       "Mean    85.26     82.15\n",
       "Std      0.82      1.17\n",
       "Min     84.10     80.79\n",
       "Max     86.35     83.62"
      ]
     },
     "execution_count": 32,
     "metadata": {},
     "output_type": "execute_result"
    }
   ],
   "source": [
    "\n",
    "stats = pd.DataFrame(index=['Mean','Std','Min','Max'],\n",
    "            data={\n",
    "                'ROC_AUC':[np.mean(cv_score['test_roc_auc']),np.std(cv_score['test_roc_auc']),np.min(cv_score['test_roc_auc']),np.max(cv_score['test_roc_auc'])],\n",
    "                'Accuracy' : [np.mean(cv_score['test_accuracy']),np.std(cv_score['test_accuracy']),np.min(cv_score['test_accuracy']),np.max(cv_score['test_accuracy'])]\n",
    "            })\n",
    "\n",
    "stats = stats.round(4)*100\n",
    "stats"
   ]
  },
  {
   "cell_type": "code",
   "execution_count": 156,
   "metadata": {
    "scrolled": true
   },
   "outputs": [
    {
     "data": {
      "text/plain": [
       "['accuracy',\n",
       " 'adjusted_mutual_info_score',\n",
       " 'adjusted_rand_score',\n",
       " 'average_precision',\n",
       " 'balanced_accuracy',\n",
       " 'completeness_score',\n",
       " 'explained_variance',\n",
       " 'f1',\n",
       " 'f1_macro',\n",
       " 'f1_micro',\n",
       " 'f1_samples',\n",
       " 'f1_weighted',\n",
       " 'fowlkes_mallows_score',\n",
       " 'homogeneity_score',\n",
       " 'jaccard',\n",
       " 'jaccard_macro',\n",
       " 'jaccard_micro',\n",
       " 'jaccard_samples',\n",
       " 'jaccard_weighted',\n",
       " 'max_error',\n",
       " 'mutual_info_score',\n",
       " 'neg_brier_score',\n",
       " 'neg_log_loss',\n",
       " 'neg_mean_absolute_error',\n",
       " 'neg_mean_gamma_deviance',\n",
       " 'neg_mean_poisson_deviance',\n",
       " 'neg_mean_squared_error',\n",
       " 'neg_mean_squared_log_error',\n",
       " 'neg_median_absolute_error',\n",
       " 'neg_root_mean_squared_error',\n",
       " 'normalized_mutual_info_score',\n",
       " 'precision',\n",
       " 'precision_macro',\n",
       " 'precision_micro',\n",
       " 'precision_samples',\n",
       " 'precision_weighted',\n",
       " 'r2',\n",
       " 'recall',\n",
       " 'recall_macro',\n",
       " 'recall_micro',\n",
       " 'recall_samples',\n",
       " 'recall_weighted',\n",
       " 'roc_auc',\n",
       " 'roc_auc_ovo',\n",
       " 'roc_auc_ovo_weighted',\n",
       " 'roc_auc_ovr',\n",
       " 'roc_auc_ovr_weighted',\n",
       " 'v_measure_score']"
      ]
     },
     "execution_count": 156,
     "metadata": {},
     "output_type": "execute_result"
    }
   ],
   "source": [
    "from sklearn import metrics\n",
    "sorted(metrics.SCORERS.keys())"
   ]
  },
  {
   "cell_type": "code",
   "execution_count": 33,
   "metadata": {},
   "outputs": [
    {
     "name": "stdout",
     "output_type": "stream",
     "text": [
      "Fitting 4 folds for each of 30 candidates, totalling 120 fits\n"
     ]
    },
    {
     "name": "stderr",
     "output_type": "stream",
     "text": [
      "[Parallel(n_jobs=-1)]: Using backend LokyBackend with 4 concurrent workers.\n",
      "[Parallel(n_jobs=-1)]: Done  40 tasks      | elapsed:    2.5s\n",
      "[Parallel(n_jobs=-1)]: Done 120 out of 120 | elapsed:    9.6s finished\n"
     ]
    },
    {
     "data": {
      "text/plain": [
       "GridSearchCV(cv=StratifiedKFold(n_splits=4, random_state=33, shuffle=True),\n",
       "             estimator=SVC(degree=2, probability=True), n_jobs=-1,\n",
       "             param_grid={'C': [0.1, 1, 10, 100, 1000],\n",
       "                         'gamma': [1, 0.1, 0.01, 0.001, 0.0001, 'auto']},\n",
       "             scoring='f1_weighted', verbose=3)"
      ]
     },
     "execution_count": 33,
     "metadata": {},
     "output_type": "execute_result"
    }
   ],
   "source": [
    "param_grid = {'C': [0.1, 1, 10, 100, 1000],  \n",
    "              'gamma': [1, 0.1, 0.01, 0.001, 0.0001,'auto']}  \n",
    "  \n",
    "cv_model = GridSearchCV(clf,param_grid,cv=scv,verbose=3,scoring='f1_weighted',n_jobs=-1)\n",
    "cv_model.fit(x,y)\n"
   ]
  },
  {
   "cell_type": "code",
   "execution_count": 34,
   "metadata": {},
   "outputs": [
    {
     "data": {
      "text/plain": [
       "({'C': 0.1, 'gamma': 0.1}, 0.8236071349874132)"
      ]
     },
     "execution_count": 34,
     "metadata": {},
     "output_type": "execute_result"
    }
   ],
   "source": [
    "cv_model.best_params_,cv_model.best_score_"
   ]
  },
  {
   "cell_type": "code",
   "execution_count": 35,
   "metadata": {},
   "outputs": [
    {
     "name": "stdout",
     "output_type": "stream",
     "text": [
      "Train Accuracy : 82.98 ROC : 89.89\n",
      "Test Accuracy : 86.61999999999999 ROC : 91.17\n",
      "--confusion Matrix--\n",
      "[[76  8]\n",
      " [11 47]]\n",
      "--classification report--\n",
      "              precision    recall  f1-score   support\n",
      "\n",
      "           0       0.87      0.90      0.89        84\n",
      "           1       0.85      0.81      0.83        58\n",
      "\n",
      "    accuracy                           0.87       142\n",
      "   macro avg       0.86      0.86      0.86       142\n",
      "weighted avg       0.87      0.87      0.87       142\n",
      "\n"
     ]
    }
   ],
   "source": [
    "y_pred = cv_model.predict(x_test)\n",
    "y_proba = cv_model.predict_proba(x_test)[:,1]\n",
    "print('Train Accuracy :', accuracy_score(y_train,cv_model.predict(x_train)).round(4)*100,'ROC :', roc_auc_score(y_train,clf.predict_proba(x_train)[:,1]).round(4)*100)\n",
    "print('Test Accuracy :', accuracy_score(y_test,y_pred).round(4)*100,'ROC :', roc_auc_score(y_test,y_proba).round(4)*100)\n",
    "print('--confusion Matrix--')\n",
    "cm =confusion_matrix(y_test,y_pred,labels=[0,1])\n",
    "print(cm)\n",
    "\n",
    "print('--classification report--')\n",
    "print(classification_report(y_test,y_pred,labels=[0,1]))\n"
   ]
  },
  {
   "cell_type": "code",
   "execution_count": 36,
   "metadata": {},
   "outputs": [
    {
     "data": {
      "text/plain": [
       "[Text(0, 0.5, 'True Positive Rate'), Text(0.5, 0, 'False Positive Rate')]"
      ]
     },
     "execution_count": 36,
     "metadata": {},
     "output_type": "execute_result"
    },
    {
     "data": {
      "image/png": "[encoded data removed]",
      "text/plain": [
       "<Figure size 432x432 with 1 Axes>"
      ]
     },
     "metadata": {},
     "output_type": "display_data"
    }
   ],
   "source": [
    "fpr,tpr,threshold = roc_curve(y_test,y_proba)\n",
    "sns.set(rc={'figure.figsize':(6,6)},font_scale=1.3)\n",
    "area = roc_auc_score(y_test,y_proba)\n",
    "fig =sns.lineplot(fpr,tpr,label='ROC curve (area = {}) '.format(area.round(4)*100))\n",
    "sns.lineplot([0,1],[0,1],markers='--')\n",
    "fig.set(xlabel='False Positive Rate',ylabel='True Positive Rate')\n"
   ]
  },
  {
   "cell_type": "code",
   "execution_count": 37,
   "metadata": {},
   "outputs": [
    {
     "data": {
      "text/plain": [
       "[Text(0, 0.5, 'Recall'), Text(0.5, 0, 'Precision')]"
      ]
     },
     "execution_count": 37,
     "metadata": {},
     "output_type": "execute_result"
    },
    {
     "data": {
      "image/png": "[encoded data removed]",
      "text/plain": [
       "<Figure size 432x432 with 1 Axes>"
      ]
     },
     "metadata": {},
     "output_type": "display_data"
    }
   ],
   "source": [
    "pr, rc, thresholds = precision_recall_curve(y_test, y_proba)\n",
    "sns.set(rc={'figure.figsize':(6,6)},font_scale=1.3)\n",
    "area = average_precision_score(y_test,y_proba)\n",
    "fig =sns.lineplot(pr,rc,label='AUPRC {}'.format(area.round(4)*100))\n",
    "\n",
    "fig.set(xlabel='Precision',ylabel='Recall')"
   ]
  },
  {
   "cell_type": "code",
   "execution_count": 39,
   "metadata": {},
   "outputs": [
    {
     "data": {
      "text/html": [
       "<div>\n",
       "<style scoped>\n",
       "    .dataframe tbody tr th:only-of-type {\n",
       "        vertical-align: middle;\n",
       "    }\n",
       "\n",
       "    .dataframe tbody tr th {\n",
       "        vertical-align: top;\n",
       "    }\n",
       "\n",
       "    .dataframe thead th {\n",
       "        text-align: right;\n",
       "    }\n",
       "</style>\n",
       "<table border=\"1\" class=\"dataframe\">\n",
       "  <thead>\n",
       "    <tr style=\"text-align: right;\">\n",
       "      <th></th>\n",
       "      <th>Pclass</th>\n",
       "      <th>Sex</th>\n",
       "      <th>Embarked</th>\n",
       "      <th>Cabin_Provided</th>\n",
       "      <th>Title</th>\n",
       "      <th>Age_Group</th>\n",
       "      <th>Total_Members</th>\n",
       "      <th>Age_Class</th>\n",
       "      <th>fare_per_person</th>\n",
       "      <th>temp</th>\n",
       "    </tr>\n",
       "  </thead>\n",
       "  <tbody>\n",
       "    <tr>\n",
       "      <th>0</th>\n",
       "      <td>3</td>\n",
       "      <td>1</td>\n",
       "      <td>3</td>\n",
       "      <td>0</td>\n",
       "      <td>1</td>\n",
       "      <td>6</td>\n",
       "      <td>0</td>\n",
       "      <td>103.5</td>\n",
       "      <td>0.945921</td>\n",
       "      <td>6</td>\n",
       "    </tr>\n",
       "    <tr>\n",
       "      <th>1</th>\n",
       "      <td>3</td>\n",
       "      <td>2</td>\n",
       "      <td>1</td>\n",
       "      <td>0</td>\n",
       "      <td>3</td>\n",
       "      <td>8</td>\n",
       "      <td>1</td>\n",
       "      <td>141.0</td>\n",
       "      <td>0.000000</td>\n",
       "      <td>0</td>\n",
       "    </tr>\n",
       "    <tr>\n",
       "      <th>2</th>\n",
       "      <td>2</td>\n",
       "      <td>1</td>\n",
       "      <td>3</td>\n",
       "      <td>0</td>\n",
       "      <td>1</td>\n",
       "      <td>9</td>\n",
       "      <td>0</td>\n",
       "      <td>124.0</td>\n",
       "      <td>1.028876</td>\n",
       "      <td>4</td>\n",
       "    </tr>\n",
       "    <tr>\n",
       "      <th>3</th>\n",
       "      <td>3</td>\n",
       "      <td>1</td>\n",
       "      <td>1</td>\n",
       "      <td>0</td>\n",
       "      <td>1</td>\n",
       "      <td>6</td>\n",
       "      <td>0</td>\n",
       "      <td>81.0</td>\n",
       "      <td>0.985090</td>\n",
       "      <td>6</td>\n",
       "    </tr>\n",
       "    <tr>\n",
       "      <th>4</th>\n",
       "      <td>3</td>\n",
       "      <td>2</td>\n",
       "      <td>1</td>\n",
       "      <td>0</td>\n",
       "      <td>3</td>\n",
       "      <td>5</td>\n",
       "      <td>2</td>\n",
       "      <td>66.0</td>\n",
       "      <td>0.000000</td>\n",
       "      <td>0</td>\n",
       "    </tr>\n",
       "    <tr>\n",
       "      <th>...</th>\n",
       "      <td>...</td>\n",
       "      <td>...</td>\n",
       "      <td>...</td>\n",
       "      <td>...</td>\n",
       "      <td>...</td>\n",
       "      <td>...</td>\n",
       "      <td>...</td>\n",
       "      <td>...</td>\n",
       "      <td>...</td>\n",
       "      <td>...</td>\n",
       "    </tr>\n",
       "    <tr>\n",
       "      <th>413</th>\n",
       "      <td>3</td>\n",
       "      <td>1</td>\n",
       "      <td>1</td>\n",
       "      <td>0</td>\n",
       "      <td>1</td>\n",
       "      <td>6</td>\n",
       "      <td>0</td>\n",
       "      <td>87.0</td>\n",
       "      <td>0.956649</td>\n",
       "      <td>6</td>\n",
       "    </tr>\n",
       "    <tr>\n",
       "      <th>414</th>\n",
       "      <td>1</td>\n",
       "      <td>2</td>\n",
       "      <td>2</td>\n",
       "      <td>1</td>\n",
       "      <td>5</td>\n",
       "      <td>7</td>\n",
       "      <td>0</td>\n",
       "      <td>39.0</td>\n",
       "      <td>2.040998</td>\n",
       "      <td>2</td>\n",
       "    </tr>\n",
       "    <tr>\n",
       "      <th>415</th>\n",
       "      <td>3</td>\n",
       "      <td>1</td>\n",
       "      <td>1</td>\n",
       "      <td>0</td>\n",
       "      <td>1</td>\n",
       "      <td>7</td>\n",
       "      <td>0</td>\n",
       "      <td>115.5</td>\n",
       "      <td>0.916454</td>\n",
       "      <td>6</td>\n",
       "    </tr>\n",
       "    <tr>\n",
       "      <th>416</th>\n",
       "      <td>3</td>\n",
       "      <td>1</td>\n",
       "      <td>1</td>\n",
       "      <td>0</td>\n",
       "      <td>1</td>\n",
       "      <td>6</td>\n",
       "      <td>0</td>\n",
       "      <td>87.0</td>\n",
       "      <td>0.956649</td>\n",
       "      <td>6</td>\n",
       "    </tr>\n",
       "    <tr>\n",
       "      <th>417</th>\n",
       "      <td>3</td>\n",
       "      <td>1</td>\n",
       "      <td>2</td>\n",
       "      <td>0</td>\n",
       "      <td>4</td>\n",
       "      <td>2</td>\n",
       "      <td>2</td>\n",
       "      <td>10.5</td>\n",
       "      <td>0.000000</td>\n",
       "      <td>0</td>\n",
       "    </tr>\n",
       "  </tbody>\n",
       "</table>\n",
       "<p>418 rows × 10 columns</p>\n",
       "</div>"
      ],
      "text/plain": [
       "     Pclass  Sex  Embarked  Cabin_Provided  Title  Age_Group  Total_Members  \\\n",
       "0         3    1         3               0      1          6              0   \n",
       "1         3    2         1               0      3          8              1   \n",
       "2         2    1         3               0      1          9              0   \n",
       "3         3    1         1               0      1          6              0   \n",
       "4         3    2         1               0      3          5              2   \n",
       "..      ...  ...       ...             ...    ...        ...            ...   \n",
       "413       3    1         1               0      1          6              0   \n",
       "414       1    2         2               1      5          7              0   \n",
       "415       3    1         1               0      1          7              0   \n",
       "416       3    1         1               0      1          6              0   \n",
       "417       3    1         2               0      4          2              2   \n",
       "\n",
       "     Age_Class  fare_per_person  temp  \n",
       "0        103.5         0.945921     6  \n",
       "1        141.0         0.000000     0  \n",
       "2        124.0         1.028876     4  \n",
       "3         81.0         0.985090     6  \n",
       "4         66.0         0.000000     0  \n",
       "..         ...              ...   ...  \n",
       "413       87.0         0.956649     6  \n",
       "414       39.0         2.040998     2  \n",
       "415      115.5         0.916454     6  \n",
       "416       87.0         0.956649     6  \n",
       "417       10.5         0.000000     0  \n",
       "\n",
       "[418 rows x 10 columns]"
      ]
     },
     "execution_count": 39,
     "metadata": {},
     "output_type": "execute_result"
    }
   ],
   "source": [
    "test_data = pd.read_csv('test_1.csv')\n",
    "test_data['temp']= (2*test_data['Pclass']*test_data['Alone'])\n",
    "#test_data = test_data.sample(frac=1)\n",
    "passenger_id = test_data.PassengerId\n",
    "test_data = test_data.drop(cols_to_drop[1:],axis=1)\n",
    "#test_data = encoder.transform(test_data)\n",
    "test_data"
   ]
  },
  {
   "cell_type": "code",
   "execution_count": 40,
   "metadata": {
    "scrolled": true
   },
   "outputs": [],
   "source": [
    "#sns.boxplot(test_data['Age'],orient='v')"
   ]
  },
  {
   "cell_type": "code",
   "execution_count": 41,
   "metadata": {},
   "outputs": [],
   "source": [
    "#test_data.loc[:,num_columns]=scaler.transform(test_data[num_columns])\n",
    "test_data=scaler.transform(test_data)"
   ]
  },
  {
   "cell_type": "code",
   "execution_count": 42,
   "metadata": {},
   "outputs": [
    {
     "data": {
      "text/plain": [
       "array([ 2.24220963,  1.36968839,  1.26062323,  0.25779037,  1.80311615,\n",
       "        5.74504249,  0.95184136, 61.22711048,  0.66450873,  2.64589235])"
      ]
     },
     "execution_count": 42,
     "metadata": {},
     "output_type": "execute_result"
    }
   ],
   "source": [
    "scaler.mean_"
   ]
  },
  {
   "cell_type": "code",
   "execution_count": 43,
   "metadata": {},
   "outputs": [
    {
     "name": "stdout",
     "output_type": "stream",
     "text": [
      "   PassengerId  Survived\n",
      "0          892         0\n",
      "1          893         0\n",
      "2          894         0\n",
      "3          895         0\n",
      "4          896         1\n"
     ]
    },
    {
     "data": {
      "text/plain": [
       "<matplotlib.axes._subplots.AxesSubplot at 0x22cb8f083c8>"
      ]
     },
     "execution_count": 43,
     "metadata": {},
     "output_type": "execute_result"
    },
    {
     "data": {
      "image/png": "[encoded data removed]",
      "text/plain": [
       "<Figure size 432x432 with 1 Axes>"
      ]
     },
     "metadata": {},
     "output_type": "display_data"
    }
   ],
   "source": [
    "\n",
    "result = pd.DataFrame({\n",
    "                        'PassengerId': passenger_id,\n",
    "                        'Survived': cv_model.predict(test_data)\n",
    "                        })\n",
    "result = result.sort_values(by='PassengerId')\n",
    "print(result.head())\n",
    "sns.countplot(result['Survived'])"
   ]
  },
  {
   "cell_type": "code",
   "execution_count": null,
   "metadata": {},
   "outputs": [],
   "source": []
  },
  {
   "cell_type": "code",
   "execution_count": 44,
   "metadata": {},
   "outputs": [],
   "source": [
    "test_data = pd.read_csv('test_1.csv')"
   ]
  },
  {
   "cell_type": "code",
   "execution_count": 45,
   "metadata": {},
   "outputs": [],
   "source": [
    "test_data['Survived'] = result['Survived']"
   ]
  },
  {
   "cell_type": "code",
   "execution_count": 46,
   "metadata": {},
   "outputs": [
    {
     "data": {
      "text/plain": [
       "<matplotlib.axes._subplots.AxesSubplot at 0x22cb8ff80c8>"
      ]
     },
     "execution_count": 46,
     "metadata": {},
     "output_type": "execute_result"
    },
    {
     "data": {
      "image/png": "[encoded data removed]",
      "text/plain": [
       "<Figure size 864x864 with 4 Axes>"
      ]
     },
     "metadata": {},
     "output_type": "display_data"
    }
   ],
   "source": [
    "fig,ax = plt.subplots(2,2,figsize=(12, 12))\n",
    "sns.barplot(x='Pclass',y='Survived',hue='Sex',data=test_data,ax=ax[0,0])\n",
    "sns.barplot(x='Title',y='Survived',hue='Sex',data=test_data,ax=ax[0,1])\n",
    "sns.barplot(x='Cabin_Provided',y='Survived',hue='Sex',data=test_data,ax=ax[1,0])\n",
    "sns.barplot(x='Age_Group',y='Survived',hue='Sex',data=test_data,ax=ax[1,1])"
   ]
  },
  {
   "cell_type": "code",
   "execution_count": 47,
   "metadata": {},
   "outputs": [
    {
     "data": {
      "text/plain": [
       "<matplotlib.axes._subplots.AxesSubplot at 0x22cb9498648>"
      ]
     },
     "execution_count": 47,
     "metadata": {},
     "output_type": "execute_result"
    },
    {
     "data": {
      "image/png": "[encoded data removed]",
      "text/plain": [
       "<Figure size 432x432 with 1 Axes>"
      ]
     },
     "metadata": {},
     "output_type": "display_data"
    }
   ],
   "source": [
    "sns.countplot(x='Survived',hue='Sex',data=test_data)"
   ]
  },
  {
   "cell_type": "code",
   "execution_count": 106,
   "metadata": {},
   "outputs": [
    {
     "data": {
      "text/html": [
       "<div>\n",
       "<style scoped>\n",
       "    .dataframe tbody tr th:only-of-type {\n",
       "        vertical-align: middle;\n",
       "    }\n",
       "\n",
       "    .dataframe tbody tr th {\n",
       "        vertical-align: top;\n",
       "    }\n",
       "\n",
       "    .dataframe thead th {\n",
       "        text-align: right;\n",
       "    }\n",
       "</style>\n",
       "<table border=\"1\" class=\"dataframe\">\n",
       "  <thead>\n",
       "    <tr style=\"text-align: right;\">\n",
       "      <th></th>\n",
       "      <th>PassengerId</th>\n",
       "      <th>Survived</th>\n",
       "    </tr>\n",
       "  </thead>\n",
       "  <tbody>\n",
       "    <tr>\n",
       "      <th>0</th>\n",
       "      <td>892</td>\n",
       "      <td>0</td>\n",
       "    </tr>\n",
       "    <tr>\n",
       "      <th>1</th>\n",
       "      <td>893</td>\n",
       "      <td>0</td>\n",
       "    </tr>\n",
       "    <tr>\n",
       "      <th>2</th>\n",
       "      <td>894</td>\n",
       "      <td>0</td>\n",
       "    </tr>\n",
       "    <tr>\n",
       "      <th>3</th>\n",
       "      <td>895</td>\n",
       "      <td>0</td>\n",
       "    </tr>\n",
       "    <tr>\n",
       "      <th>4</th>\n",
       "      <td>896</td>\n",
       "      <td>1</td>\n",
       "    </tr>\n",
       "    <tr>\n",
       "      <th>...</th>\n",
       "      <td>...</td>\n",
       "      <td>...</td>\n",
       "    </tr>\n",
       "    <tr>\n",
       "      <th>413</th>\n",
       "      <td>1305</td>\n",
       "      <td>0</td>\n",
       "    </tr>\n",
       "    <tr>\n",
       "      <th>414</th>\n",
       "      <td>1306</td>\n",
       "      <td>1</td>\n",
       "    </tr>\n",
       "    <tr>\n",
       "      <th>415</th>\n",
       "      <td>1307</td>\n",
       "      <td>0</td>\n",
       "    </tr>\n",
       "    <tr>\n",
       "      <th>416</th>\n",
       "      <td>1308</td>\n",
       "      <td>0</td>\n",
       "    </tr>\n",
       "    <tr>\n",
       "      <th>417</th>\n",
       "      <td>1309</td>\n",
       "      <td>1</td>\n",
       "    </tr>\n",
       "  </tbody>\n",
       "</table>\n",
       "<p>418 rows × 2 columns</p>\n",
       "</div>"
      ],
      "text/plain": [
       "     PassengerId  Survived\n",
       "0            892         0\n",
       "1            893         0\n",
       "2            894         0\n",
       "3            895         0\n",
       "4            896         1\n",
       "..           ...       ...\n",
       "413         1305         0\n",
       "414         1306         1\n",
       "415         1307         0\n",
       "416         1308         0\n",
       "417         1309         1\n",
       "\n",
       "[418 rows x 2 columns]"
      ]
     },
     "execution_count": 106,
     "metadata": {},
     "output_type": "execute_result"
    }
   ],
   "source": [
    "result"
   ]
  },
  {
   "cell_type": "code",
   "execution_count": 107,
   "metadata": {},
   "outputs": [],
   "source": [
    "pd.options.display.max_rows = None"
   ]
  },
  {
   "cell_type": "code",
   "execution_count": 108,
   "metadata": {},
   "outputs": [
    {
     "data": {
      "text/html": [
       "<div>\n",
       "<style scoped>\n",
       "    .dataframe tbody tr th:only-of-type {\n",
       "        vertical-align: middle;\n",
       "    }\n",
       "\n",
       "    .dataframe tbody tr th {\n",
       "        vertical-align: top;\n",
       "    }\n",
       "\n",
       "    .dataframe thead th {\n",
       "        text-align: right;\n",
       "    }\n",
       "</style>\n",
       "<table border=\"1\" class=\"dataframe\">\n",
       "  <thead>\n",
       "    <tr style=\"text-align: right;\">\n",
       "      <th></th>\n",
       "      <th>PassengerId</th>\n",
       "      <th>Pclass</th>\n",
       "      <th>Sex</th>\n",
       "      <th>Age</th>\n",
       "      <th>SibSp</th>\n",
       "      <th>Parch</th>\n",
       "      <th>Fare</th>\n",
       "      <th>Embarked</th>\n",
       "      <th>Cabin_Provided</th>\n",
       "      <th>Title</th>\n",
       "      <th>Age_Group</th>\n",
       "      <th>Fare_Group</th>\n",
       "      <th>Total_Members</th>\n",
       "      <th>Age_Class</th>\n",
       "      <th>fare_per_person</th>\n",
       "      <th>Alone</th>\n",
       "      <th>Survived</th>\n",
       "    </tr>\n",
       "  </thead>\n",
       "  <tbody>\n",
       "    <tr>\n",
       "      <th>21</th>\n",
       "      <td>913</td>\n",
       "      <td>3</td>\n",
       "      <td>1</td>\n",
       "      <td>9.00</td>\n",
       "      <td>0</td>\n",
       "      <td>1</td>\n",
       "      <td>0.620219</td>\n",
       "      <td>1</td>\n",
       "      <td>0</td>\n",
       "      <td>4</td>\n",
       "      <td>3</td>\n",
       "      <td>1</td>\n",
       "      <td>1</td>\n",
       "      <td>27.00</td>\n",
       "      <td>0.000000</td>\n",
       "      <td>0</td>\n",
       "      <td>1</td>\n",
       "    </tr>\n",
       "    <tr>\n",
       "      <th>64</th>\n",
       "      <td>956</td>\n",
       "      <td>1</td>\n",
       "      <td>1</td>\n",
       "      <td>13.00</td>\n",
       "      <td>2</td>\n",
       "      <td>2</td>\n",
       "      <td>2.420575</td>\n",
       "      <td>2</td>\n",
       "      <td>1</td>\n",
       "      <td>4</td>\n",
       "      <td>4</td>\n",
       "      <td>4</td>\n",
       "      <td>4</td>\n",
       "      <td>13.00</td>\n",
       "      <td>0.000000</td>\n",
       "      <td>0</td>\n",
       "      <td>1</td>\n",
       "    </tr>\n",
       "    <tr>\n",
       "      <th>80</th>\n",
       "      <td>972</td>\n",
       "      <td>3</td>\n",
       "      <td>1</td>\n",
       "      <td>6.00</td>\n",
       "      <td>1</td>\n",
       "      <td>1</td>\n",
       "      <td>1.210741</td>\n",
       "      <td>2</td>\n",
       "      <td>0</td>\n",
       "      <td>4</td>\n",
       "      <td>3</td>\n",
       "      <td>3</td>\n",
       "      <td>2</td>\n",
       "      <td>18.00</td>\n",
       "      <td>0.000000</td>\n",
       "      <td>0</td>\n",
       "      <td>1</td>\n",
       "    </tr>\n",
       "    <tr>\n",
       "      <th>89</th>\n",
       "      <td>981</td>\n",
       "      <td>2</td>\n",
       "      <td>1</td>\n",
       "      <td>2.00</td>\n",
       "      <td>1</td>\n",
       "      <td>1</td>\n",
       "      <td>1.380211</td>\n",
       "      <td>1</td>\n",
       "      <td>0</td>\n",
       "      <td>4</td>\n",
       "      <td>2</td>\n",
       "      <td>3</td>\n",
       "      <td>2</td>\n",
       "      <td>4.00</td>\n",
       "      <td>0.000000</td>\n",
       "      <td>0</td>\n",
       "      <td>1</td>\n",
       "    </tr>\n",
       "    <tr>\n",
       "      <th>131</th>\n",
       "      <td>1023</td>\n",
       "      <td>1</td>\n",
       "      <td>1</td>\n",
       "      <td>53.00</td>\n",
       "      <td>0</td>\n",
       "      <td>0</td>\n",
       "      <td>1.469822</td>\n",
       "      <td>2</td>\n",
       "      <td>1</td>\n",
       "      <td>5</td>\n",
       "      <td>8</td>\n",
       "      <td>3</td>\n",
       "      <td>0</td>\n",
       "      <td>53.00</td>\n",
       "      <td>1.469822</td>\n",
       "      <td>1</td>\n",
       "      <td>1</td>\n",
       "    </tr>\n",
       "    <tr>\n",
       "      <th>161</th>\n",
       "      <td>1053</td>\n",
       "      <td>3</td>\n",
       "      <td>1</td>\n",
       "      <td>7.00</td>\n",
       "      <td>1</td>\n",
       "      <td>1</td>\n",
       "      <td>1.210741</td>\n",
       "      <td>2</td>\n",
       "      <td>0</td>\n",
       "      <td>4</td>\n",
       "      <td>3</td>\n",
       "      <td>3</td>\n",
       "      <td>2</td>\n",
       "      <td>21.00</td>\n",
       "      <td>0.000000</td>\n",
       "      <td>0</td>\n",
       "      <td>1</td>\n",
       "    </tr>\n",
       "    <tr>\n",
       "      <th>192</th>\n",
       "      <td>1084</td>\n",
       "      <td>3</td>\n",
       "      <td>1</td>\n",
       "      <td>11.50</td>\n",
       "      <td>1</td>\n",
       "      <td>1</td>\n",
       "      <td>1.190332</td>\n",
       "      <td>1</td>\n",
       "      <td>0</td>\n",
       "      <td>4</td>\n",
       "      <td>3</td>\n",
       "      <td>3</td>\n",
       "      <td>2</td>\n",
       "      <td>34.50</td>\n",
       "      <td>0.000000</td>\n",
       "      <td>0</td>\n",
       "      <td>1</td>\n",
       "    </tr>\n",
       "    <tr>\n",
       "      <th>194</th>\n",
       "      <td>1086</td>\n",
       "      <td>2</td>\n",
       "      <td>1</td>\n",
       "      <td>8.00</td>\n",
       "      <td>0</td>\n",
       "      <td>2</td>\n",
       "      <td>1.525045</td>\n",
       "      <td>1</td>\n",
       "      <td>0</td>\n",
       "      <td>4</td>\n",
       "      <td>3</td>\n",
       "      <td>4</td>\n",
       "      <td>2</td>\n",
       "      <td>16.00</td>\n",
       "      <td>0.000000</td>\n",
       "      <td>0</td>\n",
       "      <td>1</td>\n",
       "    </tr>\n",
       "    <tr>\n",
       "      <th>196</th>\n",
       "      <td>1088</td>\n",
       "      <td>1</td>\n",
       "      <td>1</td>\n",
       "      <td>6.00</td>\n",
       "      <td>0</td>\n",
       "      <td>2</td>\n",
       "      <td>2.131939</td>\n",
       "      <td>2</td>\n",
       "      <td>1</td>\n",
       "      <td>4</td>\n",
       "      <td>3</td>\n",
       "      <td>4</td>\n",
       "      <td>2</td>\n",
       "      <td>6.00</td>\n",
       "      <td>0.000000</td>\n",
       "      <td>0</td>\n",
       "      <td>1</td>\n",
       "    </tr>\n",
       "    <tr>\n",
       "      <th>201</th>\n",
       "      <td>1093</td>\n",
       "      <td>3</td>\n",
       "      <td>1</td>\n",
       "      <td>0.33</td>\n",
       "      <td>0</td>\n",
       "      <td>2</td>\n",
       "      <td>1.187521</td>\n",
       "      <td>1</td>\n",
       "      <td>0</td>\n",
       "      <td>4</td>\n",
       "      <td>1</td>\n",
       "      <td>2</td>\n",
       "      <td>2</td>\n",
       "      <td>0.99</td>\n",
       "      <td>0.000000</td>\n",
       "      <td>0</td>\n",
       "      <td>1</td>\n",
       "    </tr>\n",
       "    <tr>\n",
       "      <th>202</th>\n",
       "      <td>1094</td>\n",
       "      <td>1</td>\n",
       "      <td>1</td>\n",
       "      <td>47.00</td>\n",
       "      <td>1</td>\n",
       "      <td>0</td>\n",
       "      <td>2.358934</td>\n",
       "      <td>2</td>\n",
       "      <td>1</td>\n",
       "      <td>5</td>\n",
       "      <td>8</td>\n",
       "      <td>4</td>\n",
       "      <td>1</td>\n",
       "      <td>47.00</td>\n",
       "      <td>1.000000</td>\n",
       "      <td>0</td>\n",
       "      <td>1</td>\n",
       "    </tr>\n",
       "    <tr>\n",
       "      <th>244</th>\n",
       "      <td>1136</td>\n",
       "      <td>3</td>\n",
       "      <td>1</td>\n",
       "      <td>3.50</td>\n",
       "      <td>1</td>\n",
       "      <td>2</td>\n",
       "      <td>1.388279</td>\n",
       "      <td>1</td>\n",
       "      <td>0</td>\n",
       "      <td>4</td>\n",
       "      <td>2</td>\n",
       "      <td>3</td>\n",
       "      <td>3</td>\n",
       "      <td>10.50</td>\n",
       "      <td>0.000000</td>\n",
       "      <td>0</td>\n",
       "      <td>1</td>\n",
       "    </tr>\n",
       "    <tr>\n",
       "      <th>281</th>\n",
       "      <td>1173</td>\n",
       "      <td>3</td>\n",
       "      <td>1</td>\n",
       "      <td>0.75</td>\n",
       "      <td>1</td>\n",
       "      <td>1</td>\n",
       "      <td>1.169527</td>\n",
       "      <td>1</td>\n",
       "      <td>0</td>\n",
       "      <td>4</td>\n",
       "      <td>1</td>\n",
       "      <td>2</td>\n",
       "      <td>2</td>\n",
       "      <td>2.25</td>\n",
       "      <td>0.000000</td>\n",
       "      <td>0</td>\n",
       "      <td>1</td>\n",
       "    </tr>\n",
       "    <tr>\n",
       "      <th>307</th>\n",
       "      <td>1199</td>\n",
       "      <td>3</td>\n",
       "      <td>1</td>\n",
       "      <td>0.83</td>\n",
       "      <td>0</td>\n",
       "      <td>1</td>\n",
       "      <td>1.014940</td>\n",
       "      <td>1</td>\n",
       "      <td>0</td>\n",
       "      <td>4</td>\n",
       "      <td>1</td>\n",
       "      <td>2</td>\n",
       "      <td>1</td>\n",
       "      <td>2.49</td>\n",
       "      <td>0.000000</td>\n",
       "      <td>0</td>\n",
       "      <td>1</td>\n",
       "    </tr>\n",
       "    <tr>\n",
       "      <th>344</th>\n",
       "      <td>1236</td>\n",
       "      <td>3</td>\n",
       "      <td>1</td>\n",
       "      <td>3.50</td>\n",
       "      <td>1</td>\n",
       "      <td>1</td>\n",
       "      <td>1.190332</td>\n",
       "      <td>1</td>\n",
       "      <td>0</td>\n",
       "      <td>4</td>\n",
       "      <td>2</td>\n",
       "      <td>3</td>\n",
       "      <td>2</td>\n",
       "      <td>10.50</td>\n",
       "      <td>0.000000</td>\n",
       "      <td>0</td>\n",
       "      <td>1</td>\n",
       "    </tr>\n",
       "    <tr>\n",
       "      <th>392</th>\n",
       "      <td>1284</td>\n",
       "      <td>3</td>\n",
       "      <td>1</td>\n",
       "      <td>13.00</td>\n",
       "      <td>0</td>\n",
       "      <td>2</td>\n",
       "      <td>1.327359</td>\n",
       "      <td>1</td>\n",
       "      <td>0</td>\n",
       "      <td>4</td>\n",
       "      <td>4</td>\n",
       "      <td>3</td>\n",
       "      <td>2</td>\n",
       "      <td>39.00</td>\n",
       "      <td>0.000000</td>\n",
       "      <td>0</td>\n",
       "      <td>1</td>\n",
       "    </tr>\n",
       "    <tr>\n",
       "      <th>417</th>\n",
       "      <td>1309</td>\n",
       "      <td>3</td>\n",
       "      <td>1</td>\n",
       "      <td>3.50</td>\n",
       "      <td>1</td>\n",
       "      <td>1</td>\n",
       "      <td>1.368441</td>\n",
       "      <td>2</td>\n",
       "      <td>0</td>\n",
       "      <td>4</td>\n",
       "      <td>2</td>\n",
       "      <td>3</td>\n",
       "      <td>2</td>\n",
       "      <td>10.50</td>\n",
       "      <td>0.000000</td>\n",
       "      <td>0</td>\n",
       "      <td>1</td>\n",
       "    </tr>\n",
       "  </tbody>\n",
       "</table>\n",
       "</div>"
      ],
      "text/plain": [
       "     PassengerId  Pclass  Sex    Age  SibSp  Parch      Fare  Embarked  \\\n",
       "21           913       3    1   9.00      0      1  0.620219         1   \n",
       "64           956       1    1  13.00      2      2  2.420575         2   \n",
       "80           972       3    1   6.00      1      1  1.210741         2   \n",
       "89           981       2    1   2.00      1      1  1.380211         1   \n",
       "131         1023       1    1  53.00      0      0  1.469822         2   \n",
       "161         1053       3    1   7.00      1      1  1.210741         2   \n",
       "192         1084       3    1  11.50      1      1  1.190332         1   \n",
       "194         1086       2    1   8.00      0      2  1.525045         1   \n",
       "196         1088       1    1   6.00      0      2  2.131939         2   \n",
       "201         1093       3    1   0.33      0      2  1.187521         1   \n",
       "202         1094       1    1  47.00      1      0  2.358934         2   \n",
       "244         1136       3    1   3.50      1      2  1.388279         1   \n",
       "281         1173       3    1   0.75      1      1  1.169527         1   \n",
       "307         1199       3    1   0.83      0      1  1.014940         1   \n",
       "344         1236       3    1   3.50      1      1  1.190332         1   \n",
       "392         1284       3    1  13.00      0      2  1.327359         1   \n",
       "417         1309       3    1   3.50      1      1  1.368441         2   \n",
       "\n",
       "     Cabin_Provided  Title  Age_Group  Fare_Group  Total_Members  Age_Class  \\\n",
       "21                0      4          3           1              1      27.00   \n",
       "64                1      4          4           4              4      13.00   \n",
       "80                0      4          3           3              2      18.00   \n",
       "89                0      4          2           3              2       4.00   \n",
       "131               1      5          8           3              0      53.00   \n",
       "161               0      4          3           3              2      21.00   \n",
       "192               0      4          3           3              2      34.50   \n",
       "194               0      4          3           4              2      16.00   \n",
       "196               1      4          3           4              2       6.00   \n",
       "201               0      4          1           2              2       0.99   \n",
       "202               1      5          8           4              1      47.00   \n",
       "244               0      4          2           3              3      10.50   \n",
       "281               0      4          1           2              2       2.25   \n",
       "307               0      4          1           2              1       2.49   \n",
       "344               0      4          2           3              2      10.50   \n",
       "392               0      4          4           3              2      39.00   \n",
       "417               0      4          2           3              2      10.50   \n",
       "\n",
       "     fare_per_person  Alone  Survived  \n",
       "21          0.000000      0         1  \n",
       "64          0.000000      0         1  \n",
       "80          0.000000      0         1  \n",
       "89          0.000000      0         1  \n",
       "131         1.469822      1         1  \n",
       "161         0.000000      0         1  \n",
       "192         0.000000      0         1  \n",
       "194         0.000000      0         1  \n",
       "196         0.000000      0         1  \n",
       "201         0.000000      0         1  \n",
       "202         1.000000      0         1  \n",
       "244         0.000000      0         1  \n",
       "281         0.000000      0         1  \n",
       "307         0.000000      0         1  \n",
       "344         0.000000      0         1  \n",
       "392         0.000000      0         1  \n",
       "417         0.000000      0         1  "
      ]
     },
     "execution_count": 108,
     "metadata": {},
     "output_type": "execute_result"
    }
   ],
   "source": [
    "test_data[(test_data.Survived == 1) & (test_data.Sex == 1)]"
   ]
  },
  {
   "cell_type": "code",
   "execution_count": 109,
   "metadata": {},
   "outputs": [],
   "source": [
    "result.to_csv('Prediction_72.csv',index=False)"
   ]
  },
  {
   "cell_type": "code",
   "execution_count": null,
   "metadata": {},
   "outputs": [],
   "source": []
  }
 ],
 "metadata": {
  "kernelspec": {
   "display_name": "Tensorflow",
   "language": "python",
   "name": "myenv"
  },
  "language_info": {
   "codemirror_mode": {
    "name": "ipython",
    "version": 3
   },
   "file_extension": ".py",
   "mimetype": "text/x-python",
   "name": "python",
   "nbconvert_exporter": "python",
   "pygments_lexer": "ipython3",
   "version": "3.7.7"
  }
 },
 "nbformat": 4,
 "nbformat_minor": 2
}
