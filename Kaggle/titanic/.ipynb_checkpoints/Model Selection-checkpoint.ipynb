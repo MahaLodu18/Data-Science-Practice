{
 "cells": [
  {
   "cell_type": "code",
   "execution_count": 1,
   "metadata": {},
   "outputs": [],
   "source": [
    "import pandas as pd"
   ]
  },
  {
   "cell_type": "code",
   "execution_count": 2,
   "metadata": {},
   "outputs": [],
   "source": [
    "import pandas as pd\n",
    "import numpy as np\n",
    "import matplotlib.pyplot as plt\n",
    "import seaborn as sns\n",
    "from sklearn.metrics import roc_auc_score,roc_curve,f1_score,accuracy_score,recall_score,precision_score,precision_recall_curve,average_precision_score\n",
    "from sklearn.model_selection import StratifiedKFold,train_test_split,cross_val_score,GridSearchCV\n",
    "from sklearn.preprocessing import StandardScaler\n",
    "from sklearn.linear_model import LogisticRegression,Perceptron,SGDClassifier\n",
    "from sklearn.neighbors import KNeighborsClassifier,RadiusNeighborsClassifier\n",
    "from sklearn.svm import SVC\n",
    "from sklearn.gaussian_process import GaussianProcessClassifier\n",
    "from sklearn.naive_bayes import GaussianNB\n",
    "from sklearn.discriminant_analysis import LinearDiscriminantAnalysis,QuadraticDiscriminantAnalysis\n",
    "from sklearn.tree import DecisionTreeClassifier\n",
    "from sklearn.ensemble import RandomForestClassifier,GradientBoostingClassifier\n",
    "from xgboost import XGBClassifier"
   ]
  },
  {
   "cell_type": "code",
   "execution_count": 3,
   "metadata": {},
   "outputs": [],
   "source": [
    "sns.set(rc={'figure.figsize':(12,8)})"
   ]
  },
  {
   "cell_type": "code",
   "execution_count": 4,
   "metadata": {},
   "outputs": [],
   "source": [
    "dataset = pd.read_csv('train_1.csv')"
   ]
  },
  {
   "cell_type": "code",
   "execution_count": 6,
   "metadata": {},
   "outputs": [
    {
     "name": "stdout",
     "output_type": "stream",
     "text": [
      "All Columns : ['PassengerId' 'Survived' 'Pclass' 'Sex' 'SibSp' 'Parch' 'Embarked'\n",
      " 'Cabin_Provided' 'Title' 'Age_Group' 'Total_Members' 'Fare_Group'\n",
      " 'Age_Class' 'fare_per_person' 'Alone']\n",
      " Dropped Columns : ['Survived', 'PassengerId', 'Cabin_Provided', 'SibSp', 'Parch', 'fare_per_person', 'Age_Class']\n",
      "Cateogrical Columns : [] \n",
      " Numerical Columns : ['Fare_Group', 'Age_Group', 'Alone', 'Title', 'Pclass', 'Embarked', 'Sex', 'Total_Members']\n"
     ]
    },
    {
     "data": {
      "text/html": [
       "<div>\n",
       "<style scoped>\n",
       "    .dataframe tbody tr th:only-of-type {\n",
       "        vertical-align: middle;\n",
       "    }\n",
       "\n",
       "    .dataframe tbody tr th {\n",
       "        vertical-align: top;\n",
       "    }\n",
       "\n",
       "    .dataframe thead th {\n",
       "        text-align: right;\n",
       "    }\n",
       "</style>\n",
       "<table border=\"1\" class=\"dataframe\">\n",
       "  <thead>\n",
       "    <tr style=\"text-align: right;\">\n",
       "      <th></th>\n",
       "      <th>Pclass</th>\n",
       "      <th>Sex</th>\n",
       "      <th>Embarked</th>\n",
       "      <th>Title</th>\n",
       "      <th>Age_Group</th>\n",
       "      <th>Total_Members</th>\n",
       "      <th>Fare_Group</th>\n",
       "      <th>Alone</th>\n",
       "    </tr>\n",
       "  </thead>\n",
       "  <tbody>\n",
       "    <tr>\n",
       "      <th>0</th>\n",
       "      <td>3</td>\n",
       "      <td>0</td>\n",
       "      <td>0</td>\n",
       "      <td>0</td>\n",
       "      <td>4</td>\n",
       "      <td>1</td>\n",
       "      <td>1</td>\n",
       "      <td>0</td>\n",
       "    </tr>\n",
       "    <tr>\n",
       "      <th>1</th>\n",
       "      <td>1</td>\n",
       "      <td>1</td>\n",
       "      <td>1</td>\n",
       "      <td>2</td>\n",
       "      <td>6</td>\n",
       "      <td>1</td>\n",
       "      <td>4</td>\n",
       "      <td>0</td>\n",
       "    </tr>\n",
       "    <tr>\n",
       "      <th>2</th>\n",
       "      <td>3</td>\n",
       "      <td>1</td>\n",
       "      <td>0</td>\n",
       "      <td>1</td>\n",
       "      <td>5</td>\n",
       "      <td>0</td>\n",
       "      <td>1</td>\n",
       "      <td>1</td>\n",
       "    </tr>\n",
       "    <tr>\n",
       "      <th>3</th>\n",
       "      <td>1</td>\n",
       "      <td>1</td>\n",
       "      <td>0</td>\n",
       "      <td>2</td>\n",
       "      <td>6</td>\n",
       "      <td>1</td>\n",
       "      <td>4</td>\n",
       "      <td>0</td>\n",
       "    </tr>\n",
       "    <tr>\n",
       "      <th>4</th>\n",
       "      <td>3</td>\n",
       "      <td>0</td>\n",
       "      <td>0</td>\n",
       "      <td>0</td>\n",
       "      <td>6</td>\n",
       "      <td>0</td>\n",
       "      <td>2</td>\n",
       "      <td>1</td>\n",
       "    </tr>\n",
       "  </tbody>\n",
       "</table>\n",
       "</div>"
      ],
      "text/plain": [
       "   Pclass  Sex  Embarked  Title  Age_Group  Total_Members  Fare_Group  Alone\n",
       "0       3    0         0      0          4              1           1      0\n",
       "1       1    1         1      2          6              1           4      0\n",
       "2       3    1         0      1          5              0           1      1\n",
       "3       1    1         0      2          6              1           4      0\n",
       "4       3    0         0      0          6              0           2      1"
      ]
     },
     "execution_count": 6,
     "metadata": {},
     "output_type": "execute_result"
    }
   ],
   "source": [
    "y = dataset['Survived']\n",
    "print('All Columns : {}'.format(dataset.columns.values))\n",
    "#cols_to_drop = ['Survived','PassengerId']\n",
    "cols_to_drop = ['Survived','PassengerId','Cabin_Provided',  'SibSp','Parch','fare_per_person','Age_Class']\n",
    "cols_to_inc = list(set(dataset.columns) - set(cols_to_drop))\n",
    "print(' Dropped Columns : {}'.format(cols_to_drop))\n",
    "\n",
    "x = dataset.drop(cols_to_drop,axis=1)\n",
    "cat_columns = []\n",
    "#cat_columns = ['Sex', 'Age_Group', 'Title', , 'Fare_Group', 'Cabin_Codes', 'Age_Class','Pclass']\n",
    "#cat_columns = ['Sex','Pclass','Title',]\n",
    "num_columns = list(set(x.columns)- set(cat_columns))\n",
    "print('Cateogrical Columns : {} \\n Numerical Columns : {}'.format(cat_columns,num_columns))\n",
    "x.head()"
   ]
  },
  {
   "cell_type": "code",
   "execution_count": 7,
   "metadata": {},
   "outputs": [],
   "source": [
    "scaler = StandardScaler()\n",
    "scaler = scaler.fit(x)"
   ]
  },
  {
   "cell_type": "code",
   "execution_count": 8,
   "metadata": {},
   "outputs": [],
   "source": [
    "x = scaler.transform(x)"
   ]
  },
  {
   "cell_type": "code",
   "execution_count": 9,
   "metadata": {},
   "outputs": [],
   "source": [
    "x_train,x_test,y_train,y_test  = train_test_split(x,y,test_size=0.2,random_state=33,stratify=y)"
   ]
  },
  {
   "cell_type": "code",
   "execution_count": 10,
   "metadata": {},
   "outputs": [
    {
     "data": {
      "text/plain": [
       "(0.8593544137022399, 0.7877094972067039, 0.8424371193337333)"
      ]
     },
     "execution_count": 10,
     "metadata": {},
     "output_type": "execute_result"
    }
   ],
   "source": [
    "model = LogisticRegression()\n",
    "model = model.fit(x_train,y_train)\n",
    "probas = model.predict_proba(x_test)[:,1]\n",
    "pred = model.predict(x_test)\n",
    "\n",
    "LR_roc_score = roc_auc_score(y_test.values,probas)\n",
    "LR_acc = accuracy_score(y_test.values,pred)\n",
    "LR_roc_score,LR_acc,average_precision_score(y_test.values,probas)"
   ]
  },
  {
   "cell_type": "code",
   "execution_count": 11,
   "metadata": {},
   "outputs": [
    {
     "data": {
      "text/plain": [
       "(0.7604743083003952, 0.7653631284916201, 0.8424371193337333)"
      ]
     },
     "execution_count": 11,
     "metadata": {},
     "output_type": "execute_result"
    }
   ],
   "source": [
    "model = Perceptron()\n",
    "model = model.fit(x_train,y_train)\n",
    "#probas = model.predict_proba(x_test)[:,1]\n",
    "pred = model.predict(x_test)\n",
    "P_roc_score = roc_auc_score(y_test.values,pred)\n",
    "P_acc = accuracy_score(y_test.values,pred)\n",
    "P_roc_score,P_acc,average_precision_score(y_test.values,probas)"
   ]
  },
  {
   "cell_type": "code",
   "execution_count": 12,
   "metadata": {},
   "outputs": [],
   "source": [
    "del model"
   ]
  },
  {
   "cell_type": "code",
   "execution_count": 13,
   "metadata": {},
   "outputs": [
    {
     "data": {
      "text/plain": [
       "(0.8356389986824768, 0.8044692737430168, 0.7991101715749225)"
      ]
     },
     "execution_count": 13,
     "metadata": {},
     "output_type": "execute_result"
    }
   ],
   "source": [
    "model = SGDClassifier(loss='log')\n",
    "model = model.fit(x_train,y_train)\n",
    "probas = model.predict_proba(x_test)[:,1]\n",
    "pred = model.predict(x_test)\n",
    "SGD_roc_score = roc_auc_score(y_test.values,probas)\n",
    "SGD_acc = accuracy_score(y_test.values,pred)\n",
    "SGD_roc_score,SGD_acc,average_precision_score(y_test.values,probas)"
   ]
  },
  {
   "cell_type": "code",
   "execution_count": 14,
   "metadata": {},
   "outputs": [
    {
     "data": {
      "text/plain": [
       "(0.8177206851119895, 0.7541899441340782, 0.7150047246246574)"
      ]
     },
     "execution_count": 14,
     "metadata": {},
     "output_type": "execute_result"
    }
   ],
   "source": [
    "model = KNeighborsClassifier()\n",
    "model = model.fit(x_train,y_train)\n",
    "probas = model.predict_proba(x_test)[:,1]\n",
    "pred = model.predict(x_test)\n",
    "KN_roc_score = roc_auc_score(y_test.values,probas)\n",
    "KN_acc = accuracy_score(y_test.values,pred)\n",
    "KN_roc_score,KN_acc,average_precision_score(y_test.values,probas)"
   ]
  },
  {
   "cell_type": "code",
   "execution_count": 15,
   "metadata": {},
   "outputs": [
    {
     "data": {
      "text/plain": [
       "(0.8391304347826087, 0.7932960893854749, 0.7962557859935215)"
      ]
     },
     "execution_count": 15,
     "metadata": {},
     "output_type": "execute_result"
    }
   ],
   "source": [
    "model = RadiusNeighborsClassifier(radius=3)\n",
    "model = model.fit(x_train,y_train)\n",
    "probas = model.predict_proba(x_test)[:,1]\n",
    "pred = model.predict(x_test)\n",
    "RN_roc_score = roc_auc_score(y_test.values,probas)\n",
    "RN_acc = accuracy_score(y_test.values,pred)\n",
    "RN_roc_score,RN_acc,average_precision_score(y_test.values,probas)"
   ]
  },
  {
   "cell_type": "code",
   "execution_count": 16,
   "metadata": {},
   "outputs": [
    {
     "data": {
      "text/plain": [
       "(0.839262187088274, 0.8379888268156425)"
      ]
     },
     "execution_count": 16,
     "metadata": {},
     "output_type": "execute_result"
    }
   ],
   "source": [
    "model = SVC(probability=True)\n",
    "model = model.fit(x_train,y_train)\n",
    "probas = model.predict_proba(x_test)[:,1]\n",
    "pred = model.predict(x_test)\n",
    "SVC_roc_score = roc_auc_score(y_test.values,probas)\n",
    "SVC_acc = accuracy_score(y_test.values,pred)\n",
    "SVC_roc_score,SVC_acc"
   ]
  },
  {
   "cell_type": "code",
   "execution_count": 17,
   "metadata": {},
   "outputs": [
    {
     "data": {
      "text/plain": [
       "(0.8535573122529645, 0.8156424581005587)"
      ]
     },
     "execution_count": 17,
     "metadata": {},
     "output_type": "execute_result"
    }
   ],
   "source": [
    "model = GaussianProcessClassifier()\n",
    "model = model.fit(x_train,y_train)\n",
    "probas = model.predict_proba(x_test)[:,1]\n",
    "pred = model.predict(x_test)\n",
    "GPC_roc_score = roc_auc_score(y_test.values,probas)\n",
    "GPC_acc = accuracy_score(y_test.values,pred)\n",
    "GPC_roc_score,GPC_acc"
   ]
  },
  {
   "cell_type": "code",
   "execution_count": 18,
   "metadata": {},
   "outputs": [
    {
     "data": {
      "text/plain": [
       "(0.8409090909090909, 0.7821229050279329)"
      ]
     },
     "execution_count": 18,
     "metadata": {},
     "output_type": "execute_result"
    }
   ],
   "source": [
    "model = GaussianNB()\n",
    "model = model.fit(x_train,y_train)\n",
    "probas = model.predict_proba(x_test)[:,1]\n",
    "pred = model.predict(x_test)\n",
    "GNB_roc_score = roc_auc_score(y_test.values,probas)\n",
    "GNB_acc = accuracy_score(y_test.values,pred)\n",
    "GNB_roc_score,GNB_acc"
   ]
  },
  {
   "cell_type": "code",
   "execution_count": 19,
   "metadata": {},
   "outputs": [
    {
     "data": {
      "text/plain": [
       "(0.8663372859025034, 0.7988826815642458)"
      ]
     },
     "execution_count": 19,
     "metadata": {},
     "output_type": "execute_result"
    }
   ],
   "source": [
    "model = LinearDiscriminantAnalysis()\n",
    "model = model.fit(x_train,y_train)\n",
    "probas = model.predict_proba(x_test)[:,1]\n",
    "pred = model.predict(x_test)\n",
    "LDA_roc_score = roc_auc_score(y_test.values,probas)\n",
    "LDA_acc = accuracy_score(y_test.values,pred)\n",
    "LDA_roc_score,LDA_acc"
   ]
  },
  {
   "cell_type": "code",
   "execution_count": 20,
   "metadata": {},
   "outputs": [
    {
     "data": {
      "text/plain": [
       "(0.8239130434782609, 0.7318435754189944)"
      ]
     },
     "execution_count": 20,
     "metadata": {},
     "output_type": "execute_result"
    }
   ],
   "source": [
    "model = QuadraticDiscriminantAnalysis()\n",
    "model = model.fit(x_train,y_train)\n",
    "probas = model.predict_proba(x_test)[:,1]\n",
    "pred = model.predict(x_test)\n",
    "QDA_roc_score = roc_auc_score(y_test.values,probas)\n",
    "QDA_acc = accuracy_score(y_test.values,pred)\n",
    "QDA_roc_score,QDA_acc"
   ]
  },
  {
   "cell_type": "code",
   "execution_count": 21,
   "metadata": {},
   "outputs": [
    {
     "data": {
      "text/plain": [
       "(sklearn.tree._classes.DecisionTreeClassifier,\n",
       " sklearn.ensemble._forest.RandomForestClassifier,\n",
       " sklearn.ensemble._gb.GradientBoostingClassifier,\n",
       " xgboost.sklearn.XGBClassifier)"
      ]
     },
     "execution_count": 21,
     "metadata": {},
     "output_type": "execute_result"
    }
   ],
   "source": [
    "DecisionTreeClassifier,RandomForestClassifier,GradientBoostingClassifier,XGBClassifier"
   ]
  },
  {
   "cell_type": "code",
   "execution_count": 22,
   "metadata": {},
   "outputs": [
    {
     "data": {
      "text/plain": [
       "(0.7299077733860342, 0.7597765363128491)"
      ]
     },
     "execution_count": 22,
     "metadata": {},
     "output_type": "execute_result"
    }
   ],
   "source": [
    "model = DecisionTreeClassifier()\n",
    "model = model.fit(x_train,y_train)\n",
    "probas = model.predict_proba(x_test)[:,1]\n",
    "pred = model.predict(x_test)\n",
    "DT_roc_score = roc_auc_score(y_test.values,probas)\n",
    "DT_acc = accuracy_score(y_test.values,pred)\n",
    "DT_roc_score,DT_acc"
   ]
  },
  {
   "cell_type": "code",
   "execution_count": 23,
   "metadata": {},
   "outputs": [
    {
     "data": {
      "text/plain": [
       "(0.8348484848484848, 0.7932960893854749)"
      ]
     },
     "execution_count": 23,
     "metadata": {},
     "output_type": "execute_result"
    }
   ],
   "source": [
    "model = RandomForestClassifier()\n",
    "model = model.fit(x_train,y_train)\n",
    "probas = model.predict_proba(x_test)[:,1]\n",
    "pred = model.predict(x_test)\n",
    "RF_roc_score = roc_auc_score(y_test.values,probas)\n",
    "RF_acc = accuracy_score(y_test.values,pred)\n",
    "RF_roc_score,RF_acc"
   ]
  },
  {
   "cell_type": "code",
   "execution_count": 24,
   "metadata": {},
   "outputs": [
    {
     "data": {
      "text/plain": [
       "(0.8465744400527009, 0.8156424581005587)"
      ]
     },
     "execution_count": 24,
     "metadata": {},
     "output_type": "execute_result"
    }
   ],
   "source": [
    "model = GradientBoostingClassifier()\n",
    "model = model.fit(x_train,y_train)\n",
    "probas = model.predict_proba(x_test)[:,1]\n",
    "pred = model.predict(x_test)\n",
    "GB_roc_score = roc_auc_score(y_test.values,probas)\n",
    "GB_acc = accuracy_score(y_test.values,pred)\n",
    "GB_roc_score,GB_acc"
   ]
  },
  {
   "cell_type": "code",
   "execution_count": 25,
   "metadata": {},
   "outputs": [
    {
     "data": {
      "text/plain": [
       "(0.8170619235836627, 0.8044692737430168)"
      ]
     },
     "execution_count": 25,
     "metadata": {},
     "output_type": "execute_result"
    }
   ],
   "source": [
    "model = XGBClassifier()\n",
    "model = model.fit(x_train,y_train)\n",
    "probas = model.predict_proba(x_test)[:,1]\n",
    "pred = model.predict(x_test)\n",
    "XGB_roc_score = roc_auc_score(y_test.values,probas)\n",
    "XGB_acc = accuracy_score(y_test.values,pred)\n",
    "XGB_roc_score,XGB_acc"
   ]
  },
  {
   "cell_type": "code",
   "execution_count": 26,
   "metadata": {
    "scrolled": false
   },
   "outputs": [],
   "source": [
    "result = pd.DataFrame(index=['LogisticRegression','Perceptron','SGDClassifier','KNeighborsClassifier', \n",
    "                    'RadiusNeighborsClassifier','SVC','GaussianProcessClassifier','GaussianNB', \n",
    "                    'LinearDiscriminantAnalysis','QuadraticDiscriminantAnalysis', 'DecisionTreeClassifier' ,\n",
    "                   'RandomForestClassifier','GradientBoostingClassifier','XGBClassifier'],\n",
    "             columns=['ROC_AUC','Accuracy'],\n",
    "             data=[[LR_roc_score,LR_acc],[P_roc_score,P_acc],[SGD_roc_score,SGD_acc],[KN_roc_score,KN_acc],\n",
    "                   [RN_roc_score,RN_acc],[SVC_roc_score,SVC_acc],[GPC_roc_score,GPC_acc],[GNB_roc_score,GNB_acc],[LDA_roc_score,LDA_acc],\n",
    "                   [QDA_roc_score,QDA_acc],[DT_roc_score,DT_acc],[RF_roc_score,RF_acc],[GB_roc_score,GB_acc],[XGB_roc_score,XGB_acc]]\n",
    "            )\n"
   ]
  },
  {
   "cell_type": "code",
   "execution_count": 27,
   "metadata": {},
   "outputs": [],
   "source": [
    "result['ROC_AUC'] = result['ROC_AUC'].apply(lambda x : round(x,4)*100)\n",
    "result['Accuracy'] = result['Accuracy'].apply(lambda x : round(x,4)*100)"
   ]
  },
  {
   "cell_type": "code",
   "execution_count": 30,
   "metadata": {},
   "outputs": [
    {
     "data": {
      "text/html": [
       "<div>\n",
       "<style scoped>\n",
       "    .dataframe tbody tr th:only-of-type {\n",
       "        vertical-align: middle;\n",
       "    }\n",
       "\n",
       "    .dataframe tbody tr th {\n",
       "        vertical-align: top;\n",
       "    }\n",
       "\n",
       "    .dataframe thead th {\n",
       "        text-align: right;\n",
       "    }\n",
       "</style>\n",
       "<table border=\"1\" class=\"dataframe\">\n",
       "  <thead>\n",
       "    <tr style=\"text-align: right;\">\n",
       "      <th></th>\n",
       "      <th>ROC_AUC</th>\n",
       "      <th>Accuracy</th>\n",
       "    </tr>\n",
       "  </thead>\n",
       "  <tbody>\n",
       "    <tr>\n",
       "      <th>SVC</th>\n",
       "      <td>83.93</td>\n",
       "      <td>83.80</td>\n",
       "    </tr>\n",
       "    <tr>\n",
       "      <th>GaussianProcessClassifier</th>\n",
       "      <td>85.36</td>\n",
       "      <td>81.56</td>\n",
       "    </tr>\n",
       "    <tr>\n",
       "      <th>GradientBoostingClassifier</th>\n",
       "      <td>84.66</td>\n",
       "      <td>81.56</td>\n",
       "    </tr>\n",
       "    <tr>\n",
       "      <th>SGDClassifier</th>\n",
       "      <td>83.56</td>\n",
       "      <td>80.45</td>\n",
       "    </tr>\n",
       "    <tr>\n",
       "      <th>XGBClassifier</th>\n",
       "      <td>81.71</td>\n",
       "      <td>80.45</td>\n",
       "    </tr>\n",
       "    <tr>\n",
       "      <th>LinearDiscriminantAnalysis</th>\n",
       "      <td>86.63</td>\n",
       "      <td>79.89</td>\n",
       "    </tr>\n",
       "    <tr>\n",
       "      <th>RadiusNeighborsClassifier</th>\n",
       "      <td>83.91</td>\n",
       "      <td>79.33</td>\n",
       "    </tr>\n",
       "    <tr>\n",
       "      <th>RandomForestClassifier</th>\n",
       "      <td>83.48</td>\n",
       "      <td>79.33</td>\n",
       "    </tr>\n",
       "    <tr>\n",
       "      <th>LogisticRegression</th>\n",
       "      <td>85.94</td>\n",
       "      <td>78.77</td>\n",
       "    </tr>\n",
       "    <tr>\n",
       "      <th>GaussianNB</th>\n",
       "      <td>84.09</td>\n",
       "      <td>78.21</td>\n",
       "    </tr>\n",
       "    <tr>\n",
       "      <th>Perceptron</th>\n",
       "      <td>76.05</td>\n",
       "      <td>76.54</td>\n",
       "    </tr>\n",
       "    <tr>\n",
       "      <th>DecisionTreeClassifier</th>\n",
       "      <td>72.99</td>\n",
       "      <td>75.98</td>\n",
       "    </tr>\n",
       "    <tr>\n",
       "      <th>KNeighborsClassifier</th>\n",
       "      <td>81.77</td>\n",
       "      <td>75.42</td>\n",
       "    </tr>\n",
       "    <tr>\n",
       "      <th>QuadraticDiscriminantAnalysis</th>\n",
       "      <td>82.39</td>\n",
       "      <td>73.18</td>\n",
       "    </tr>\n",
       "  </tbody>\n",
       "</table>\n",
       "</div>"
      ],
      "text/plain": [
       "                               ROC_AUC  Accuracy\n",
       "SVC                              83.93     83.80\n",
       "GaussianProcessClassifier        85.36     81.56\n",
       "GradientBoostingClassifier       84.66     81.56\n",
       "SGDClassifier                    83.56     80.45\n",
       "XGBClassifier                    81.71     80.45\n",
       "LinearDiscriminantAnalysis       86.63     79.89\n",
       "RadiusNeighborsClassifier        83.91     79.33\n",
       "RandomForestClassifier           83.48     79.33\n",
       "LogisticRegression               85.94     78.77\n",
       "GaussianNB                       84.09     78.21\n",
       "Perceptron                       76.05     76.54\n",
       "DecisionTreeClassifier           72.99     75.98\n",
       "KNeighborsClassifier             81.77     75.42\n",
       "QuadraticDiscriminantAnalysis    82.39     73.18"
      ]
     },
     "execution_count": 30,
     "metadata": {},
     "output_type": "execute_result"
    }
   ],
   "source": [
    "result.sort_values(by='Accuracy',ascending=False)"
   ]
  },
  {
   "cell_type": "code",
   "execution_count": null,
   "metadata": {},
   "outputs": [],
   "source": []
  }
 ],
 "metadata": {
  "kernelspec": {
   "display_name": "Tensorflow",
   "language": "python",
   "name": "myenv"
  },
  "language_info": {
   "codemirror_mode": {
    "name": "ipython",
    "version": 3
   },
   "file_extension": ".py",
   "mimetype": "text/x-python",
   "name": "python",
   "nbconvert_exporter": "python",
   "pygments_lexer": "ipython3",
   "version": "3.7.7"
  }
 },
 "nbformat": 4,
 "nbformat_minor": 2
}
